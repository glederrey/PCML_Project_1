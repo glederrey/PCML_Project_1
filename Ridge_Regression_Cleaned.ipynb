{
 "cells": [
  {
   "cell_type": "markdown",
   "metadata": {},
   "source": [
    "# ML with Ridge Regression\n",
    "\n",
    "In this notebook, we will use the functions in the file ridge_regression.py. This time, we will use the 4 data sets and see if the prediction becomes better."
   ]
  },
  {
   "cell_type": "code",
   "execution_count": 1,
   "metadata": {
    "collapsed": false
   },
   "outputs": [],
   "source": [
    "# Useful starting lines\n",
    "%matplotlib inline\n",
    "import numpy as np\n",
    "import matplotlib.pyplot as plt\n",
    "%load_ext autoreload\n",
    "%autoreload 2\n",
    "from IPython import display\n",
    "# Import everything in the functions folder\n",
    "from functions.costs import *\n",
    "from functions.proj1_helpers import *\n",
    "from functions.split import *\n",
    "from functions.ridge_regression import *\n",
    "from functions.helpers import *\n",
    "from functions.least_squares_GD import *"
   ]
  },
  {
   "cell_type": "markdown",
   "metadata": {},
   "source": [
    "## Jet 0"
   ]
  },
  {
   "cell_type": "code",
   "execution_count": 114,
   "metadata": {
    "collapsed": false
   },
   "outputs": [],
   "source": [
    "DATA_TRAIN_PATH = 'data/train_jet_0_cv.csv' \n",
    "y_0, tX_0, ids_0 = load_csv_data(DATA_TRAIN_PATH)\n",
    "tX_0, _, _ = standardize(tX_0)"
   ]
  },
  {
   "cell_type": "markdown",
   "metadata": {},
   "source": [
    "We do a 5-fold cross validation to find the best lambda and best degree"
   ]
  },
  {
   "cell_type": "code",
   "execution_count": 115,
   "metadata": {
    "collapsed": false,
    "scrolled": false
   },
   "outputs": [
    {
     "name": "stdout",
     "output_type": "stream",
     "text": [
      "Start the 5-fold Cross Validation!\n",
      "Start degree 1\n",
      "  Start for digit 1\n",
      "    Power of lambda: -10\n",
      "    Power of lambda: -9\n",
      "    Power of lambda: -8\n",
      "    Power of lambda: -7\n",
      "    Power of lambda: -6\n",
      "    Power of lambda: -5\n",
      "    Power of lambda: -4\n",
      "    Power of lambda: -3\n",
      "    Power of lambda: -2\n",
      "    Power of lambda: -1\n",
      "    Power of lambda: 0\n",
      "    Power of lambda: 1\n",
      "    Power of lambda: 2\n",
      "    Power of lambda: 3\n",
      "    Power of lambda: 4\n",
      "  Start for digit 2\n",
      "  Start for digit 3\n",
      "Finished Degree 1. Best lambda is  3.000e+02 with RMSE 0.737740\n",
      "--------------------\n",
      "Start degree 2\n",
      "  Start for digit 1\n",
      "    Power of lambda: -10\n",
      "    Power of lambda: -9\n",
      "    Power of lambda: -8\n",
      "    Power of lambda: -7\n",
      "    Power of lambda: -6\n",
      "    Power of lambda: -5\n",
      "    Power of lambda: -4\n",
      "    Power of lambda: -3\n",
      "    Power of lambda: -2\n",
      "    Power of lambda: -1\n",
      "    Power of lambda: 0\n",
      "    Power of lambda: 1\n",
      "    Power of lambda: 2\n",
      "    Power of lambda: 3\n",
      "    Power of lambda: 4\n",
      "  Start for digit 2\n",
      "  Start for digit 3\n",
      "Finished Degree 2. Best lambda is  1.900e-10 with RMSE 0.713774\n",
      "--------------------\n",
      "Start degree 3\n",
      "  Start for digit 1\n",
      "    Power of lambda: -10\n",
      "    Power of lambda: -9\n",
      "    Power of lambda: -8\n",
      "    Power of lambda: -7\n",
      "    Power of lambda: -6\n",
      "    Power of lambda: -5\n",
      "    Power of lambda: -4\n",
      "    Power of lambda: -3\n",
      "    Power of lambda: -2\n",
      "    Power of lambda: -1\n",
      "    Power of lambda: 0\n",
      "    Power of lambda: 1\n",
      "    Power of lambda: 2\n",
      "    Power of lambda: 3\n",
      "    Power of lambda: 4\n",
      "  Start for digit 2\n",
      "  Start for digit 3\n",
      "Finished Degree 3. Best lambda is  9.330e-07 with RMSE 0.704651\n",
      "--------------------\n",
      "Start degree 4\n",
      "  Start for digit 1\n",
      "    Power of lambda: -10\n",
      "    Power of lambda: -9\n",
      "    Power of lambda: -8\n",
      "    Power of lambda: -7\n",
      "    Power of lambda: -6\n",
      "    Power of lambda: -5\n",
      "    Power of lambda: -4\n",
      "    Power of lambda: -3\n",
      "    Power of lambda: -2\n",
      "    Power of lambda: -1\n",
      "    Power of lambda: 0\n",
      "    Power of lambda: 1\n",
      "    Power of lambda: 2\n",
      "    Power of lambda: 3\n",
      "    Power of lambda: 4\n",
      "  Start for digit 2\n",
      "  Start for digit 3\n",
      "Finished Degree 4. Best lambda is  2.550e+02 with RMSE 0.700122\n",
      "--------------------\n",
      "Start degree 5\n",
      "  Start for digit 1\n",
      "    Power of lambda: -10\n",
      "    Power of lambda: -9\n",
      "    Power of lambda: -8\n",
      "    Power of lambda: -7\n",
      "    Power of lambda: -6\n",
      "    Power of lambda: -5\n",
      "    Power of lambda: -4\n",
      "    Power of lambda: -3\n",
      "    Power of lambda: -2\n",
      "    Power of lambda: -1\n",
      "    Power of lambda: 0\n",
      "    Power of lambda: 1\n",
      "    Power of lambda: 2\n",
      "    Power of lambda: 3\n",
      "    Power of lambda: 4\n",
      "  Start for digit 2\n",
      "  Start for digit 3\n",
      "Finished Degree 5. Best lambda is  4.660e-10 with RMSE 0.695829\n",
      "--------------------\n",
      "Start degree 6\n",
      "  Start for digit 1\n",
      "    Power of lambda: -10\n",
      "    Power of lambda: -9\n",
      "    Power of lambda: -8\n",
      "    Power of lambda: -7\n",
      "    Power of lambda: -6\n",
      "    Power of lambda: -5\n",
      "    Power of lambda: -4\n",
      "    Power of lambda: -3\n",
      "    Power of lambda: -2\n",
      "    Power of lambda: -1\n",
      "    Power of lambda: 0\n",
      "    Power of lambda: 1\n",
      "    Power of lambda: 2\n",
      "    Power of lambda: 3\n",
      "    Power of lambda: 4\n",
      "  Start for digit 2\n",
      "  Start for digit 3\n",
      "Finished Degree 6. Best lambda is  7.360e+02 with RMSE 0.693107\n",
      "--------------------\n",
      "Start degree 7\n",
      "  Start for digit 1\n",
      "    Power of lambda: -10\n",
      "    Power of lambda: -9\n",
      "    Power of lambda: -8\n",
      "    Power of lambda: -7\n",
      "    Power of lambda: -6\n",
      "    Power of lambda: -5\n",
      "    Power of lambda: -4\n",
      "    Power of lambda: -3\n",
      "    Power of lambda: -2\n",
      "    Power of lambda: -1\n",
      "    Power of lambda: 0\n",
      "    Power of lambda: 1\n",
      "    Power of lambda: 2\n",
      "    Power of lambda: 3\n",
      "    Power of lambda: 4\n",
      "  Start for digit 2\n",
      "  Start for digit 3\n",
      "Finished Degree 7. Best lambda is  6.900e-01 with RMSE 0.689941\n",
      "--------------------\n",
      "Start degree 8\n",
      "  Start for digit 1\n",
      "    Power of lambda: -10\n",
      "    Power of lambda: -9\n",
      "    Power of lambda: -8\n",
      "    Power of lambda: -7\n",
      "    Power of lambda: -6\n",
      "    Power of lambda: -5\n",
      "    Power of lambda: -4\n",
      "    Power of lambda: -3\n",
      "    Power of lambda: -2\n",
      "    Power of lambda: -1\n",
      "    Power of lambda: 0\n",
      "    Power of lambda: 1\n",
      "    Power of lambda: 2\n",
      "    Power of lambda: 3\n",
      "    Power of lambda: 4\n",
      "  Start for digit 2\n",
      "  Start for digit 3\n",
      "Finished Degree 8. Best lambda is  1.530e+04 with RMSE 0.709807\n",
      "--------------------\n",
      "Start degree 9\n",
      "  Start for digit 1\n",
      "    Power of lambda: -10\n",
      "    Power of lambda: -9\n",
      "    Power of lambda: -8\n",
      "    Power of lambda: -7\n",
      "    Power of lambda: -6\n",
      "    Power of lambda: -5\n",
      "    Power of lambda: -4\n",
      "    Power of lambda: -3\n",
      "    Power of lambda: -2\n",
      "    Power of lambda: -1\n",
      "    Power of lambda: 0\n",
      "    Power of lambda: 1\n",
      "    Power of lambda: 2\n",
      "    Power of lambda: 3\n",
      "    Power of lambda: 4\n",
      "  Start for digit 2\n",
      "  Start for digit 3\n",
      "Finished Degree 9. Best lambda is  5.530e+04 with RMSE 0.720023\n",
      "--------------------\n",
      "Start degree 10\n",
      "  Start for digit 1\n",
      "    Power of lambda: -10\n",
      "    Power of lambda: -9\n",
      "    Power of lambda: -8\n",
      "    Power of lambda: -7\n",
      "    Power of lambda: -6\n",
      "    Power of lambda: -5\n",
      "    Power of lambda: -4\n",
      "    Power of lambda: -3\n",
      "    Power of lambda: -2\n",
      "    Power of lambda: -1\n",
      "    Power of lambda: 0\n",
      "    Power of lambda: 1\n",
      "    Power of lambda: 2\n",
      "    Power of lambda: 3\n",
      "    Power of lambda: 4\n",
      "  Start for digit 2\n",
      "  Start for digit 3\n",
      "Finished Degree 10. Best lambda is  4.900e+04 with RMSE 1.104969\n",
      "--------------------\n",
      "Start degree 11\n",
      "  Start for digit 1\n",
      "    Power of lambda: -10\n",
      "    Power of lambda: -9\n",
      "    Power of lambda: -8\n",
      "    Power of lambda: -7\n",
      "    Power of lambda: -6\n",
      "    Power of lambda: -5\n",
      "    Power of lambda: -4\n",
      "    Power of lambda: -3\n",
      "    Power of lambda: -2\n",
      "    Power of lambda: -1\n",
      "    Power of lambda: 0\n",
      "    Power of lambda: 1\n",
      "    Power of lambda: 2\n",
      "    Power of lambda: 3\n",
      "    Power of lambda: 4\n",
      "  Start for digit 2\n",
      "  Start for digit 3\n",
      "Finished Degree 11. Best lambda is  4.930e+03 with RMSE 2.330663\n",
      "--------------------\n",
      "Start degree 12\n",
      "  Start for digit 1\n",
      "    Power of lambda: -10\n",
      "    Power of lambda: -9\n",
      "    Power of lambda: -8\n",
      "    Power of lambda: -7\n",
      "    Power of lambda: -6\n",
      "    Power of lambda: -5\n",
      "    Power of lambda: -4\n",
      "    Power of lambda: -3\n",
      "    Power of lambda: -2\n",
      "    Power of lambda: -1\n",
      "    Power of lambda: 0\n",
      "    Power of lambda: 1\n",
      "    Power of lambda: 2\n",
      "    Power of lambda: 3\n",
      "    Power of lambda: 4\n",
      "  Start for digit 2\n",
      "  Start for digit 3\n",
      "Finished Degree 12. Best lambda is  8.000e+00 with RMSE 11.422649\n",
      "--------------------\n",
      "Start degree 13\n",
      "  Start for digit 1\n",
      "    Power of lambda: -10\n",
      "    Power of lambda: -9\n",
      "    Power of lambda: -8\n",
      "    Power of lambda: -7\n",
      "    Power of lambda: -6\n",
      "    Power of lambda: -5\n",
      "    Power of lambda: -4\n",
      "    Power of lambda: -3\n",
      "    Power of lambda: -2\n",
      "    Power of lambda: -1\n",
      "    Power of lambda: 0\n",
      "    Power of lambda: 1\n",
      "    Power of lambda: 2\n",
      "    Power of lambda: 3\n",
      "    Power of lambda: 4\n",
      "  Start for digit 2\n",
      "  Start for digit 3\n",
      "Finished Degree 13. Best lambda is  7.900e-09 with RMSE 12.472360\n",
      "--------------------\n",
      "5-fold Cross Validation finished!\n",
      "\n",
      "Min Loss = 0.689941\n",
      "Lambda* =  6.900e-01\n",
      "Degree* = 7\n"
     ]
    }
   ],
   "source": [
    "degrees = np.arange(3, 10) \n",
    "deg_lambdas = np.arange(-10, 5)\n",
    "\n",
    "min_loss_0, degree_star_0, lambda_star_0 = cross_validation(y_0, tX_0, \n",
    "                                            deg_lambdas, degrees, k_fold=5, digits=3)\n",
    "\n",
    "print(\"Min Loss = %f\"%min_loss_0)\n",
    "print(\"Lambda* = %10.3e\"%lambda_star_0)\n",
    "print(\"Degree* = %i\"%degree_star_0)    "
   ]
  },
  {
   "cell_type": "code",
   "execution_count": 63,
   "metadata": {
    "collapsed": true
   },
   "outputs": [],
   "source": [
    "# Just to avoid retraining =)\n",
    "#lambda_star_0 = 6.9e-1\n",
    "#degree_star_0 = 7"
   ]
  },
  {
   "cell_type": "markdown",
   "metadata": {},
   "source": [
    "We can split the data just to see if we have a good prediction."
   ]
  },
  {
   "cell_type": "code",
   "execution_count": 128,
   "metadata": {
    "collapsed": true
   },
   "outputs": [],
   "source": [
    "ratio = 0.8\n",
    "x_train_0, y_train_0, x_test_0, y_test_0 = split_data(tX_0, y_0, ratio)"
   ]
  },
  {
   "cell_type": "markdown",
   "metadata": {},
   "source": [
    "Now, that we have the best degree and best lambda, we can do the Ridge Regression and get the best weights. "
   ]
  },
  {
   "cell_type": "code",
   "execution_count": 129,
   "metadata": {
    "collapsed": false,
    "scrolled": true
   },
   "outputs": [
    {
     "name": "stdout",
     "output_type": "stream",
     "text": [
      "Polynomials done\n",
      "Loss = 0.685650\n"
     ]
    }
   ],
   "source": [
    "# Build poly first\n",
    "tX_train_0 = build_poly(x_train_0, degree_star_0)\n",
    "tX_test_0 = build_poly(x_test_0, degree_star_0)\n",
    "print(\"Polynomials done\")\n",
    "\n",
    "# Ridge Regression\n",
    "loss_0, w_star_0 = ridge_regression(y_train_0, tX_train_0, lambda_star_0)\n",
    "print(\"Loss = %f\"%(loss_0))"
   ]
  },
  {
   "cell_type": "code",
   "execution_count": 130,
   "metadata": {
    "collapsed": false
   },
   "outputs": [
    {
     "name": "stdout",
     "output_type": "stream",
     "text": [
      "Good prediction: 16740/19983 (83.771206%)\n",
      "Wrong prediction: 3243/19983 (16.228794%)\n"
     ]
    }
   ],
   "source": [
    "prediction(y_test_0, tX_test_0, w_star_0)"
   ]
  },
  {
   "cell_type": "markdown",
   "metadata": {},
   "source": [
    "Retrain on all the train data"
   ]
  },
  {
   "cell_type": "code",
   "execution_count": 131,
   "metadata": {
    "collapsed": false
   },
   "outputs": [
    {
     "name": "stdout",
     "output_type": "stream",
     "text": [
      "Loss = 0.686666\n"
     ]
    }
   ],
   "source": [
    "tX_poly_0 = build_poly(tX_0, degree_star_0)\n",
    "loss_0, w_star_0 = ridge_regression(y_0, tX_poly_0, lambda_star_0)\n",
    "print(\"Loss = %f\"%(loss_0))"
   ]
  },
  {
   "cell_type": "markdown",
   "metadata": {},
   "source": [
    "Load the test data and predict."
   ]
  },
  {
   "cell_type": "code",
   "execution_count": 237,
   "metadata": {
    "collapsed": false
   },
   "outputs": [],
   "source": [
    "DATA_TEST_PATH = 'data/test_jet_0_cv.csv' # TODO: download train data and supply path here \n",
    "_, tX_test_0, ids_test_0 = load_csv_data(DATA_TEST_PATH)\n",
    "tX_test_0, _, _ = standardize(tX_test_0)\n",
    "tX_test_poly_0 = build_poly(tX_test_0, degree_star_0)\n",
    "\n",
    "y_pred_0 = predict_labels(w_star_0, tX_test_poly_0)"
   ]
  },
  {
   "cell_type": "markdown",
   "metadata": {},
   "source": [
    "## Jet 1"
   ]
  },
  {
   "cell_type": "code",
   "execution_count": 155,
   "metadata": {
    "collapsed": true
   },
   "outputs": [],
   "source": [
    "DATA_TRAIN_PATH = 'data/train_jet_1_cv.csv' \n",
    "y_1, tX_1, ids_1 = load_csv_data(DATA_TRAIN_PATH)\n",
    "#tX_1, _, _ = standardize(tX_1)"
   ]
  },
  {
   "cell_type": "markdown",
   "metadata": {},
   "source": [
    "We do a 5-fold cross validation to find the best lambda and best degree"
   ]
  },
  {
   "cell_type": "code",
   "execution_count": 156,
   "metadata": {
    "collapsed": false
   },
   "outputs": [
    {
     "name": "stdout",
     "output_type": "stream",
     "text": [
      "Start the 5-fold Cross Validation!\n",
      "Start degree 1\n",
      "  Start for digit 1\n",
      "    Power of lambda: -10\n",
      "    Power of lambda: -9\n",
      "    Power of lambda: -8\n",
      "    Power of lambda: -7\n",
      "    Power of lambda: -6\n",
      "    Power of lambda: -5\n",
      "    Power of lambda: -4\n",
      "    Power of lambda: -3\n",
      "    Power of lambda: -2\n",
      "    Power of lambda: -1\n",
      "    Power of lambda: 0\n",
      "    Power of lambda: 1\n",
      "    Power of lambda: 2\n",
      "    Power of lambda: 3\n",
      "    Power of lambda: 4\n",
      "  Start for digit 2\n",
      "  Start for digit 3\n",
      "Finished Degree 1. Best lambda is  4.570e+02 with RMSE 0.877243\n",
      "--------------------\n",
      "Start degree 2\n",
      "  Start for digit 1\n",
      "    Power of lambda: -10\n",
      "    Power of lambda: -9\n",
      "    Power of lambda: -8\n",
      "    Power of lambda: -7\n",
      "    Power of lambda: -6\n",
      "    Power of lambda: -5\n",
      "    Power of lambda: -4\n",
      "    Power of lambda: -3\n",
      "    Power of lambda: -2\n",
      "    Power of lambda: -1\n",
      "    Power of lambda: 0\n",
      "    Power of lambda: 1\n",
      "    Power of lambda: 2\n",
      "    Power of lambda: 3\n",
      "    Power of lambda: 4\n",
      "  Start for digit 2\n",
      "  Start for digit 3\n",
      "Finished Degree 2. Best lambda is  3.800e-02 with RMSE 0.827634\n",
      "--------------------\n",
      "Start degree 3\n",
      "  Start for digit 1\n",
      "    Power of lambda: -10\n",
      "    Power of lambda: -9\n",
      "    Power of lambda: -8\n",
      "    Power of lambda: -7\n",
      "    Power of lambda: -6\n",
      "    Power of lambda: -5\n",
      "    Power of lambda: -4\n",
      "    Power of lambda: -3\n",
      "    Power of lambda: -2\n",
      "    Power of lambda: -1\n",
      "    Power of lambda: 0\n",
      "    Power of lambda: 1\n",
      "    Power of lambda: 2\n",
      "    Power of lambda: 3\n",
      "    Power of lambda: 4\n",
      "  Start for digit 2\n",
      "  Start for digit 3\n",
      "Finished Degree 3. Best lambda is  2.940e-02 with RMSE 0.818002\n",
      "--------------------\n",
      "Start degree 4\n",
      "  Start for digit 1\n",
      "    Power of lambda: -10\n",
      "    Power of lambda: -9\n",
      "    Power of lambda: -8\n",
      "    Power of lambda: -7\n",
      "    Power of lambda: -6\n",
      "    Power of lambda: -5\n",
      "    Power of lambda: -4\n",
      "    Power of lambda: -3\n",
      "    Power of lambda: -2\n",
      "    Power of lambda: -1\n",
      "    Power of lambda: 0\n",
      "    Power of lambda: 1\n",
      "    Power of lambda: 2\n",
      "    Power of lambda: 3\n",
      "    Power of lambda: 4\n",
      "  Start for digit 2\n",
      "  Start for digit 3\n",
      "Finished Degree 4. Best lambda is  1.467e-01 with RMSE 0.806480\n",
      "--------------------\n",
      "Start degree 5\n",
      "  Start for digit 1\n",
      "    Power of lambda: -10\n",
      "    Power of lambda: -9\n",
      "    Power of lambda: -8\n",
      "    Power of lambda: -7\n",
      "    Power of lambda: -6\n",
      "    Power of lambda: -5\n",
      "    Power of lambda: -4\n",
      "    Power of lambda: -3\n",
      "    Power of lambda: -2\n",
      "    Power of lambda: -1\n",
      "    Power of lambda: 0\n",
      "    Power of lambda: 1\n",
      "    Power of lambda: 2\n",
      "    Power of lambda: 3\n",
      "    Power of lambda: 4\n",
      "  Start for digit 2\n",
      "  Start for digit 3\n",
      "Finished Degree 5. Best lambda is  6.400e-04 with RMSE 0.797830\n",
      "--------------------\n",
      "Start degree 6\n",
      "  Start for digit 1\n",
      "    Power of lambda: -10\n",
      "    Power of lambda: -9\n",
      "    Power of lambda: -8\n",
      "    Power of lambda: -7\n",
      "    Power of lambda: -6\n",
      "    Power of lambda: -5\n",
      "    Power of lambda: -4\n",
      "    Power of lambda: -3\n",
      "    Power of lambda: -2\n",
      "    Power of lambda: -1\n",
      "    Power of lambda: 0\n",
      "    Power of lambda: 1\n",
      "    Power of lambda: 2\n",
      "    Power of lambda: 3\n",
      "    Power of lambda: 4\n",
      "  Start for digit 2\n",
      "  Start for digit 3\n",
      "Finished Degree 6. Best lambda is  2.950e-10 with RMSE 0.797556\n",
      "--------------------\n",
      "Start degree 7\n",
      "  Start for digit 1\n",
      "    Power of lambda: -10\n",
      "    Power of lambda: -9\n",
      "    Power of lambda: -8\n",
      "    Power of lambda: -7\n",
      "    Power of lambda: -6\n",
      "    Power of lambda: -5\n",
      "    Power of lambda: -4\n",
      "    Power of lambda: -3\n",
      "    Power of lambda: -2\n",
      "    Power of lambda: -1\n",
      "    Power of lambda: 0\n",
      "    Power of lambda: 1\n",
      "    Power of lambda: 2\n",
      "    Power of lambda: 3\n",
      "    Power of lambda: 4\n",
      "  Start for digit 2\n",
      "  Start for digit 3\n",
      "Finished Degree 7. Best lambda is  2.000e-04 with RMSE 0.795580\n",
      "--------------------\n",
      "Start degree 8\n",
      "  Start for digit 1\n",
      "    Power of lambda: -10\n",
      "    Power of lambda: -9\n",
      "    Power of lambda: -8\n",
      "    Power of lambda: -7\n",
      "    Power of lambda: -6\n",
      "    Power of lambda: -5\n",
      "    Power of lambda: -4\n",
      "    Power of lambda: -3\n",
      "    Power of lambda: -2\n",
      "    Power of lambda: -1\n",
      "    Power of lambda: 0\n",
      "    Power of lambda: 1\n",
      "    Power of lambda: 2\n",
      "    Power of lambda: 3\n",
      "    Power of lambda: 4\n",
      "  Start for digit 2\n",
      "  Start for digit 3\n",
      "Finished Degree 8. Best lambda is  7.340e-06 with RMSE 0.828998\n",
      "--------------------\n",
      "Start degree 9\n",
      "  Start for digit 1\n",
      "    Power of lambda: -10\n",
      "    Power of lambda: -9\n",
      "    Power of lambda: -8\n",
      "    Power of lambda: -7\n",
      "    Power of lambda: -6\n",
      "    Power of lambda: -5\n",
      "    Power of lambda: -4\n",
      "    Power of lambda: -3\n",
      "    Power of lambda: -2\n",
      "    Power of lambda: -1\n",
      "    Power of lambda: 0\n",
      "    Power of lambda: 1\n",
      "    Power of lambda: 2\n",
      "    Power of lambda: 3\n",
      "    Power of lambda: 4\n",
      "  Start for digit 2\n",
      "  Start for digit 3\n",
      "Finished Degree 9. Best lambda is  1.725e-02 with RMSE 0.848098\n",
      "--------------------\n",
      "Start degree 10\n",
      "  Start for digit 1\n",
      "    Power of lambda: -10\n",
      "    Power of lambda: -9\n",
      "    Power of lambda: -8\n",
      "    Power of lambda: -7\n",
      "    Power of lambda: -6\n",
      "    Power of lambda: -5\n",
      "    Power of lambda: -4\n",
      "    Power of lambda: -3\n",
      "    Power of lambda: -2\n",
      "    Power of lambda: -1\n",
      "    Power of lambda: 0\n",
      "    Power of lambda: 1\n",
      "    Power of lambda: 2\n",
      "    Power of lambda: 3\n",
      "    Power of lambda: 4\n",
      "  Start for digit 2\n",
      "  Start for digit 3\n",
      "Finished Degree 10. Best lambda is  3.000e-01 with RMSE 0.772066\n",
      "--------------------\n",
      "Start degree 11\n",
      "  Start for digit 1\n",
      "    Power of lambda: -10\n",
      "    Power of lambda: -9\n",
      "    Power of lambda: -8\n",
      "    Power of lambda: -7\n",
      "    Power of lambda: -6\n",
      "    Power of lambda: -5\n",
      "    Power of lambda: -4\n",
      "    Power of lambda: -3\n",
      "    Power of lambda: -2\n",
      "    Power of lambda: -1\n",
      "    Power of lambda: 0\n",
      "    Power of lambda: 1\n",
      "    Power of lambda: 2\n",
      "    Power of lambda: 3\n",
      "    Power of lambda: 4\n",
      "  Start for digit 2\n",
      "  Start for digit 3\n",
      "Finished Degree 11. Best lambda is  1.450e+03 with RMSE 7.408662\n",
      "--------------------\n",
      "5-fold Cross Validation finished!\n",
      "\n",
      "Min Loss = 0.772066\n",
      "Lambda* =  3.000e-01\n",
      "Degree* = 10\n"
     ]
    }
   ],
   "source": [
    "degrees = np.arange(1, 12) \n",
    "deg_lambdas = np.arange(-10, 5)\n",
    "\n",
    "min_loss_1, degree_star_1, lambda_star_1 = cross_validation(y_1, tX_1, \n",
    "                                            deg_lambdas, degrees, k_fold=5, digits=3)\n",
    "\n",
    "print(\"Min Loss = %f\"%min_loss_1)\n",
    "print(\"Lambda* = %10.3e\"%lambda_star_1)\n",
    "print(\"Degree* = %i\"%degree_star_1) "
   ]
  },
  {
   "cell_type": "code",
   "execution_count": 157,
   "metadata": {
    "collapsed": true
   },
   "outputs": [],
   "source": [
    "# Just to avoid retraining =)\n",
    "#lambda_star_1 = 9e-9\n",
    "#degree_star_1 = 10"
   ]
  },
  {
   "cell_type": "markdown",
   "metadata": {},
   "source": [
    "We can split the data just to see if we have a good prediction."
   ]
  },
  {
   "cell_type": "code",
   "execution_count": 164,
   "metadata": {
    "collapsed": true
   },
   "outputs": [],
   "source": [
    "ratio = 0.8\n",
    "x_train_1, y_train_1, x_test_1, y_test_1 = split_data(tX_1, y_1, ratio)"
   ]
  },
  {
   "cell_type": "markdown",
   "metadata": {},
   "source": [
    "Now, that we have the best degree and best lambda, we can do the Ridge Regression and get the best weights. "
   ]
  },
  {
   "cell_type": "code",
   "execution_count": 167,
   "metadata": {
    "collapsed": false
   },
   "outputs": [
    {
     "name": "stdout",
     "output_type": "stream",
     "text": [
      "Polynomials done\n",
      "Loss = 0.762413\n",
      "  Iter=0, loss=0.6431948757027607, diff=0.6431948757027607\n",
      "  Iter=100, loss=0.6368030018930573, diff=-0.006391873809703408\n",
      "  Iter=200, loss=0.6367997576149236, diff=-3.244278133696099e-06\n",
      "  Iter=300, loss=0.6367999190971673, diff=1.6148224368794928e-07\n",
      "  Iter=400, loss=0.6368000805770678, diff=1.614799005622558e-07\n",
      "  Iter=500, loss=0.636800242053002, diff=1.6147593417947803e-07\n",
      "  Iter=600, loss=0.6368004035316852, diff=1.614786832027093e-07\n",
      "  Iter=700, loss=0.6368005650113883, diff=1.6147970305357973e-07\n",
      "  Iter=800, loss=0.6368007794753664, diff=2.144639781320734e-07\n",
      "  Iter=900, loss=0.6367941737920172, diff=-6.605683349203417e-06\n",
      "  Iter=999, loss=0.6368027223842582, diff=8.548592240975594e-06\n",
      "Min loss = 0.636197\n"
     ]
    }
   ],
   "source": [
    "# Build poly first\n",
    "tX_train_1 = build_poly(x_train_1, degree_star_1)\n",
    "tX_test_1 = build_poly(x_test_1, degree_star_1)\n",
    "print(\"Polynomials done\")\n",
    "\n",
    "# Ridge Regression\n",
    "loss_1, w_star_1 = ridge_regression(y_train_1, tX_train_1, lambda_star_1)\n",
    "print(\"Loss = %f\"%(loss_1))"
   ]
  },
  {
   "cell_type": "code",
   "execution_count": 166,
   "metadata": {
    "collapsed": false
   },
   "outputs": [
    {
     "name": "stdout",
     "output_type": "stream",
     "text": [
      "Without Gradient\n",
      "Good prediction: 12430/15509 (80.147011%)\n",
      "Wrong prediction: 3079/15509 (19.852989%)\n",
      "\n",
      "With Gradient\n",
      "Good prediction: 12445/15509 (80.243729%)\n",
      "Wrong prediction: 3064/15509 (19.756271%)\n"
     ]
    }
   ],
   "source": [
    "print(\"Without Gradient\")\n",
    "prediction(y_test_1, tX_test_1, w_star_1)\n",
    "print(\"\")\n",
    "print(\"With Gradient\")\n",
    "prediction(y_test_1, tX_test_1, w_star_1_GD)\n"
   ]
  },
  {
   "cell_type": "markdown",
   "metadata": {},
   "source": [
    "Retrain on all the train data"
   ]
  },
  {
   "cell_type": "code",
   "execution_count": 168,
   "metadata": {
    "collapsed": false
   },
   "outputs": [
    {
     "name": "stdout",
     "output_type": "stream",
     "text": [
      "Loss = 0.763001\n",
      "  Iter=0, loss=0.6439864046804787, diff=0.6439864046804787\n",
      "  Iter=11, loss=0.6375636873096008, diff=-0.006422717370877962\n",
      "Min loss = 0.637562\n"
     ]
    }
   ],
   "source": [
    "tX_poly_1 = build_poly(tX_1, degree_star_1)\n",
    "loss_1, w_star_1 = ridge_regression(y_1, tX_poly_1, lambda_star_1)\n",
    "print(\"Loss = %f\"%(loss_1))\n",
    "\n",
    "# GD\n",
    "max_iters = 1000\n",
    "gamma = 1\n",
    "\n",
    "losses, ws = gradient_descent(y_1, tX_poly_1, w_star_1, max_iters, gamma, 'MAE')\n",
    "w_star_1_GD, min_loss = get_best_model(losses, ws)\n",
    "print(\"Min loss = %f\"%(min_loss))"
   ]
  },
  {
   "cell_type": "markdown",
   "metadata": {},
   "source": [
    "Load the test data and predict."
   ]
  },
  {
   "cell_type": "code",
   "execution_count": 238,
   "metadata": {
    "collapsed": false
   },
   "outputs": [],
   "source": [
    "DATA_TEST_PATH = 'data/test_jet_1_cv.csv' # TODO: download train data and supply path here \n",
    "_, tX_test_1, ids_test_1 = load_csv_data(DATA_TEST_PATH)\n",
    "#tX_test_1, _, _ = standardize(tX_test_1)\n",
    "tX_test_poly_1 = build_poly(tX_test_1, degree_star_1)\n",
    "\n",
    "y_pred_1 = predict_labels(w_star_1_GD, tX_test_poly_1)"
   ]
  },
  {
   "cell_type": "markdown",
   "metadata": {},
   "source": [
    "## Jet 2"
   ]
  },
  {
   "cell_type": "code",
   "execution_count": 83,
   "metadata": {
    "collapsed": true
   },
   "outputs": [],
   "source": [
    "DATA_TRAIN_PATH = 'data/train_jet_2_cv.csv' \n",
    "y_2, tX_2, ids_2 = load_csv_data(DATA_TRAIN_PATH)\n",
    "#tX_2, _, _ = standardize(tX_2)"
   ]
  },
  {
   "cell_type": "markdown",
   "metadata": {},
   "source": [
    "We do a 5-fold cross validation to find the best lambda and best degree"
   ]
  },
  {
   "cell_type": "code",
   "execution_count": 84,
   "metadata": {
    "collapsed": false
   },
   "outputs": [
    {
     "name": "stdout",
     "output_type": "stream",
     "text": [
      "Start the 5-fold Cross Validation!\n",
      "Start degree 1\n",
      "  Start for digit 1\n",
      "    Power of lambda: -10\n",
      "    Power of lambda: -9\n",
      "    Power of lambda: -8\n",
      "    Power of lambda: -7\n",
      "    Power of lambda: -6\n",
      "    Power of lambda: -5\n",
      "    Power of lambda: -4\n",
      "    Power of lambda: -3\n",
      "    Power of lambda: -2\n",
      "    Power of lambda: -1\n",
      "    Power of lambda: 0\n",
      "    Power of lambda: 1\n",
      "    Power of lambda: 2\n",
      "    Power of lambda: 3\n",
      "    Power of lambda: 4\n",
      "  Start for digit 2\n",
      "  Start for digit 3\n",
      "Finished Degree 1. Best lambda is  7.590e-01 with RMSE 0.855689\n",
      "--------------------\n",
      "Start degree 2\n",
      "  Start for digit 1\n",
      "    Power of lambda: -10\n",
      "    Power of lambda: -9\n",
      "    Power of lambda: -8\n",
      "    Power of lambda: -7\n",
      "    Power of lambda: -6\n",
      "    Power of lambda: -5\n",
      "    Power of lambda: -4\n",
      "    Power of lambda: -3\n",
      "    Power of lambda: -2\n",
      "    Power of lambda: -1\n",
      "    Power of lambda: 0\n",
      "    Power of lambda: 1\n",
      "    Power of lambda: 2\n",
      "    Power of lambda: 3\n",
      "    Power of lambda: 4\n",
      "  Start for digit 2\n",
      "  Start for digit 3\n",
      "Finished Degree 2. Best lambda is  3.690e+01 with RMSE 0.809959\n",
      "--------------------\n",
      "Start degree 3\n",
      "  Start for digit 1\n",
      "    Power of lambda: -10\n",
      "    Power of lambda: -9\n",
      "    Power of lambda: -8\n",
      "    Power of lambda: -7\n",
      "    Power of lambda: -6\n",
      "    Power of lambda: -5\n",
      "    Power of lambda: -4\n",
      "    Power of lambda: -3\n",
      "    Power of lambda: -2\n",
      "    Power of lambda: -1\n",
      "    Power of lambda: 0\n",
      "    Power of lambda: 1\n",
      "    Power of lambda: 2\n",
      "    Power of lambda: 3\n",
      "    Power of lambda: 4\n",
      "  Start for digit 2\n",
      "  Start for digit 3\n",
      "Finished Degree 3. Best lambda is  1.790e-01 with RMSE 0.801642\n",
      "--------------------\n",
      "Start degree 4\n",
      "  Start for digit 1\n",
      "    Power of lambda: -10\n",
      "    Power of lambda: -9\n",
      "    Power of lambda: -8\n",
      "    Power of lambda: -7\n",
      "    Power of lambda: -6\n",
      "    Power of lambda: -5\n",
      "    Power of lambda: -4\n",
      "    Power of lambda: -3\n",
      "    Power of lambda: -2\n",
      "    Power of lambda: -1\n",
      "    Power of lambda: 0\n",
      "    Power of lambda: 1\n",
      "    Power of lambda: 2\n",
      "    Power of lambda: 3\n",
      "    Power of lambda: 4\n",
      "  Start for digit 2\n",
      "  Start for digit 3\n",
      "Finished Degree 4. Best lambda is  1.800e+03 with RMSE 0.796501\n",
      "--------------------\n",
      "Start degree 5\n",
      "  Start for digit 1\n",
      "    Power of lambda: -10\n",
      "    Power of lambda: -9\n",
      "    Power of lambda: -8\n",
      "    Power of lambda: -7\n",
      "    Power of lambda: -6\n",
      "    Power of lambda: -5\n",
      "    Power of lambda: -4\n",
      "    Power of lambda: -3\n",
      "    Power of lambda: -2\n",
      "    Power of lambda: -1\n",
      "    Power of lambda: 0\n",
      "    Power of lambda: 1\n",
      "    Power of lambda: 2\n",
      "    Power of lambda: 3\n",
      "    Power of lambda: 4\n",
      "  Start for digit 2\n",
      "  Start for digit 3\n",
      "Finished Degree 5. Best lambda is  3.540e+04 with RMSE 0.791822\n",
      "--------------------\n",
      "Start degree 6\n",
      "  Start for digit 1\n",
      "    Power of lambda: -10\n",
      "    Power of lambda: -9\n",
      "    Power of lambda: -8\n",
      "    Power of lambda: -7\n",
      "    Power of lambda: -6\n",
      "    Power of lambda: -5\n",
      "    Power of lambda: -4\n",
      "    Power of lambda: -3\n",
      "    Power of lambda: -2\n",
      "    Power of lambda: -1\n",
      "    Power of lambda: 0\n",
      "    Power of lambda: 1\n",
      "    Power of lambda: 2\n",
      "    Power of lambda: 3\n",
      "    Power of lambda: 4\n",
      "  Start for digit 2\n",
      "  Start for digit 3\n",
      "Finished Degree 6. Best lambda is  1.060e-09 with RMSE 0.783220\n",
      "--------------------\n",
      "Start degree 7\n",
      "  Start for digit 1\n",
      "    Power of lambda: -10\n",
      "    Power of lambda: -9\n",
      "    Power of lambda: -8\n",
      "    Power of lambda: -7\n",
      "    Power of lambda: -6\n",
      "    Power of lambda: -5\n",
      "    Power of lambda: -4\n",
      "    Power of lambda: -3\n",
      "    Power of lambda: -2\n",
      "    Power of lambda: -1\n",
      "    Power of lambda: 0\n",
      "    Power of lambda: 1\n",
      "    Power of lambda: 2\n",
      "    Power of lambda: 3\n",
      "    Power of lambda: 4\n",
      "  Start for digit 2\n",
      "  Start for digit 3\n",
      "Finished Degree 7. Best lambda is  2.000e-01 with RMSE 1.426799\n",
      "--------------------\n",
      "Start degree 8\n",
      "  Start for digit 1\n",
      "    Power of lambda: -10\n",
      "    Power of lambda: -9\n",
      "    Power of lambda: -8\n",
      "    Power of lambda: -7\n",
      "    Power of lambda: -6\n",
      "    Power of lambda: -5\n",
      "    Power of lambda: -4\n",
      "    Power of lambda: -3\n",
      "    Power of lambda: -2\n",
      "    Power of lambda: -1\n",
      "    Power of lambda: 0\n",
      "    Power of lambda: 1\n",
      "    Power of lambda: 2\n",
      "    Power of lambda: 3\n",
      "    Power of lambda: 4\n",
      "  Start for digit 2\n",
      "  Start for digit 3\n",
      "Finished Degree 8. Best lambda is  7.040e-02 with RMSE 2.311877\n",
      "--------------------\n",
      "Start degree 9\n",
      "  Start for digit 1\n",
      "    Power of lambda: -10\n",
      "    Power of lambda: -9\n",
      "    Power of lambda: -8\n",
      "    Power of lambda: -7\n",
      "    Power of lambda: -6\n",
      "    Power of lambda: -5\n",
      "    Power of lambda: -4\n",
      "    Power of lambda: -3\n",
      "    Power of lambda: -2\n",
      "    Power of lambda: -1\n",
      "    Power of lambda: 0\n",
      "    Power of lambda: 1\n",
      "    Power of lambda: 2\n",
      "    Power of lambda: 3\n",
      "    Power of lambda: 4\n",
      "  Start for digit 2\n",
      "  Start for digit 3\n",
      "Finished Degree 9. Best lambda is  8.000e-05 with RMSE 1.998325\n",
      "--------------------\n",
      "Start degree 10\n",
      "  Start for digit 1\n",
      "    Power of lambda: -10\n",
      "    Power of lambda: -9\n",
      "    Power of lambda: -8\n",
      "    Power of lambda: -7\n",
      "    Power of lambda: -6\n",
      "    Power of lambda: -5\n",
      "    Power of lambda: -4\n",
      "    Power of lambda: -3\n",
      "    Power of lambda: -2\n",
      "    Power of lambda: -1\n",
      "    Power of lambda: 0\n",
      "    Power of lambda: 1\n",
      "    Power of lambda: 2\n",
      "    Power of lambda: 3\n",
      "    Power of lambda: 4\n",
      "  Start for digit 2\n",
      "  Start for digit 3\n",
      "Finished Degree 10. Best lambda is  3.010e+03 with RMSE 2.739938\n",
      "--------------------\n",
      "Start degree 11\n",
      "  Start for digit 1\n",
      "    Power of lambda: -10\n",
      "    Power of lambda: -9\n",
      "    Power of lambda: -8\n",
      "    Power of lambda: -7\n",
      "    Power of lambda: -6\n",
      "    Power of lambda: -5\n",
      "    Power of lambda: -4\n",
      "    Power of lambda: -3\n",
      "    Power of lambda: -2\n",
      "    Power of lambda: -1\n",
      "    Power of lambda: 0\n",
      "    Power of lambda: 1\n",
      "    Power of lambda: 2\n",
      "    Power of lambda: 3\n",
      "    Power of lambda: 4\n",
      "  Start for digit 2\n",
      "  Start for digit 3\n",
      "Finished Degree 11. Best lambda is  8.700e-07 with RMSE 31.376108\n",
      "--------------------\n",
      "5-fold Cross Validation finished!\n",
      "\n",
      "Min Loss = 0.783220\n",
      "Lambda* =  1.060e-09\n",
      "Degree* = 6\n"
     ]
    }
   ],
   "source": [
    "degrees = np.arange(1, 12) \n",
    "deg_lambdas = np.arange(-10, 5)\n",
    "\n",
    "min_loss_2, degree_star_2, lambda_star_2 = cross_validation(y_2, tX_2, \n",
    "                                            deg_lambdas, degrees, k_fold=5, digits=3)\n",
    "\n",
    "print(\"Min Loss = %f\"%min_loss_2)\n",
    "print(\"Lambda* = %10.3e\"%lambda_star_2)\n",
    "print(\"Degree* = %i\"%degree_star_2) "
   ]
  },
  {
   "cell_type": "code",
   "execution_count": 85,
   "metadata": {
    "collapsed": true
   },
   "outputs": [],
   "source": [
    "# Just to avoid retraining =)\n",
    "#lambda_star_2 = 1.06e-9\n",
    "#degree_star_2 = 6"
   ]
  },
  {
   "cell_type": "markdown",
   "metadata": {},
   "source": [
    "We can split the data just to see if we have a good prediction."
   ]
  },
  {
   "cell_type": "code",
   "execution_count": 181,
   "metadata": {
    "collapsed": true
   },
   "outputs": [],
   "source": [
    "ratio = 0.8\n",
    "x_train_2, y_train_2, x_test_2, y_test_2 = split_data(tX_2, y_2, ratio)"
   ]
  },
  {
   "cell_type": "markdown",
   "metadata": {},
   "source": [
    "Now, that we have the best degree and best lambda, we can do the Ridge Regression and get the best weights. "
   ]
  },
  {
   "cell_type": "code",
   "execution_count": 182,
   "metadata": {
    "collapsed": false,
    "scrolled": true
   },
   "outputs": [
    {
     "name": "stdout",
     "output_type": "stream",
     "text": [
      "Polynomials done\n",
      "Loss = 0.755694\n"
     ]
    }
   ],
   "source": [
    "# Build poly first\n",
    "tX_train_2 = build_poly(x_train_2, degree_star_2)\n",
    "tX_test_2 = build_poly(x_test_2, degree_star_2)\n",
    "print(\"Polynomials done\")\n",
    "\n",
    "# Ridge Regression\n",
    "loss_2, w_star_2 = ridge_regression(y_train_2, tX_train_2, lambda_star_2)\n",
    "print(\"Loss = %f\"%(loss_2))"
   ]
  },
  {
   "cell_type": "code",
   "execution_count": 183,
   "metadata": {
    "collapsed": false
   },
   "outputs": [
    {
     "name": "stdout",
     "output_type": "stream",
     "text": [
      "Good prediction: 8180/10076 (81.183009%)\n",
      "Wrong prediction: 1896/10076 (18.816991%)\n"
     ]
    }
   ],
   "source": [
    "prediction(y_test_2, tX_test_2, w_star_2)"
   ]
  },
  {
   "cell_type": "markdown",
   "metadata": {},
   "source": [
    "Retrain on all the train data"
   ]
  },
  {
   "cell_type": "code",
   "execution_count": 89,
   "metadata": {
    "collapsed": false
   },
   "outputs": [
    {
     "name": "stdout",
     "output_type": "stream",
     "text": [
      "(50379, 29)\n",
      "Loss = 0.756214\n"
     ]
    }
   ],
   "source": [
    "tX_poly_2 = build_poly(tX_2, degree_star_2)\n",
    "print(tX_2.shape)\n",
    "loss_2, w_star_2 = ridge_regression(y_2, tX_poly_2, lambda_star_2)\n",
    "print(\"Loss = %f\"%(loss_2))"
   ]
  },
  {
   "cell_type": "markdown",
   "metadata": {},
   "source": [
    "Load the test data and predict."
   ]
  },
  {
   "cell_type": "code",
   "execution_count": 239,
   "metadata": {
    "collapsed": false
   },
   "outputs": [],
   "source": [
    "DATA_TEST_PATH = 'data/test_jet_2_cv.csv' # TODO: download train data and supply path here \n",
    "_, tX_test_2, ids_test_2 = load_csv_data(DATA_TEST_PATH)\n",
    "#tX_test_2, _, _ = standardize(tX_test_2)\n",
    "tX_test_poly_2 = build_poly(tX_test_2, degree_star_2)\n",
    "\n",
    "y_pred_2 = predict_labels(w_star_2, tX_test_poly_2)"
   ]
  },
  {
   "cell_type": "markdown",
   "metadata": {},
   "source": [
    "## Jet 3"
   ]
  },
  {
   "cell_type": "code",
   "execution_count": 225,
   "metadata": {
    "collapsed": true
   },
   "outputs": [],
   "source": [
    "DATA_TRAIN_PATH = 'data/train_jet_3_cv.csv' \n",
    "y_3, tX_3, ids_3 = load_csv_data(DATA_TRAIN_PATH)\n",
    "#tX_3, _, _ = standardize(tX_3)"
   ]
  },
  {
   "cell_type": "markdown",
   "metadata": {},
   "source": [
    "We do a 5-fold cross validation to find the best lambda and best degree"
   ]
  },
  {
   "cell_type": "code",
   "execution_count": 215,
   "metadata": {
    "collapsed": false
   },
   "outputs": [
    {
     "name": "stdout",
     "output_type": "stream",
     "text": [
      "Start the 5-fold Cross Validation!\n",
      "Start degree 1\n",
      "  Start for digit 1\n",
      "    Power of lambda: -10\n",
      "    Power of lambda: -9\n",
      "    Power of lambda: -8\n",
      "    Power of lambda: -7\n",
      "    Power of lambda: -6\n",
      "    Power of lambda: -5\n",
      "    Power of lambda: -4\n",
      "    Power of lambda: -3\n",
      "    Power of lambda: -2\n",
      "    Power of lambda: -1\n",
      "    Power of lambda: 0\n",
      "    Power of lambda: 1\n",
      "    Power of lambda: 2\n",
      "    Power of lambda: 3\n",
      "    Power of lambda: 4\n",
      "  Start for digit 2\n",
      "  Start for digit 3\n",
      "Finished Degree 1. Best lambda is  3.020e-10 with RMSE 0.859004\n",
      "--------------------\n",
      "Start degree 2\n",
      "  Start for digit 1\n",
      "    Power of lambda: -10\n",
      "    Power of lambda: -9\n",
      "    Power of lambda: -8\n",
      "    Power of lambda: -7\n",
      "    Power of lambda: -6\n",
      "    Power of lambda: -5\n",
      "    Power of lambda: -4\n",
      "    Power of lambda: -3\n",
      "    Power of lambda: -2\n",
      "    Power of lambda: -1\n",
      "    Power of lambda: 0\n",
      "    Power of lambda: 1\n",
      "    Power of lambda: 2\n",
      "    Power of lambda: 3\n",
      "    Power of lambda: 4\n",
      "  Start for digit 2\n",
      "  Start for digit 3\n",
      "Finished Degree 2. Best lambda is  4.400e-09 with RMSE 0.820748\n",
      "--------------------\n",
      "Start degree 3\n",
      "  Start for digit 1\n",
      "    Power of lambda: -10\n",
      "    Power of lambda: -9\n",
      "    Power of lambda: -8\n",
      "    Power of lambda: -7\n",
      "    Power of lambda: -6\n",
      "    Power of lambda: -5\n",
      "    Power of lambda: -4\n",
      "    Power of lambda: -3\n",
      "    Power of lambda: -2\n",
      "    Power of lambda: -1\n",
      "    Power of lambda: 0\n",
      "    Power of lambda: 1\n",
      "    Power of lambda: 2\n",
      "    Power of lambda: 3\n",
      "    Power of lambda: 4\n",
      "  Start for digit 2\n",
      "  Start for digit 3\n",
      "Finished Degree 3. Best lambda is  1.050e-10 with RMSE 0.807307\n",
      "--------------------\n",
      "Start degree 4\n",
      "  Start for digit 1\n",
      "    Power of lambda: -10\n",
      "    Power of lambda: -9\n",
      "    Power of lambda: -8\n",
      "    Power of lambda: -7\n",
      "    Power of lambda: -6\n",
      "    Power of lambda: -5\n",
      "    Power of lambda: -4\n",
      "    Power of lambda: -3\n",
      "    Power of lambda: -2\n",
      "    Power of lambda: -1\n",
      "    Power of lambda: 0\n",
      "    Power of lambda: 1\n",
      "    Power of lambda: 2\n",
      "    Power of lambda: 3\n",
      "    Power of lambda: 4\n",
      "  Start for digit 2\n",
      "  Start for digit 3\n",
      "Finished Degree 4. Best lambda is  1.810e-03 with RMSE 0.797310\n",
      "--------------------\n",
      "Start degree 5\n",
      "  Start for digit 1\n",
      "    Power of lambda: -10\n",
      "    Power of lambda: -9\n",
      "    Power of lambda: -8\n",
      "    Power of lambda: -7\n",
      "    Power of lambda: -6\n",
      "    Power of lambda: -5\n",
      "    Power of lambda: -4\n",
      "    Power of lambda: -3\n",
      "    Power of lambda: -2\n",
      "    Power of lambda: -1\n",
      "    Power of lambda: 0\n",
      "    Power of lambda: 1\n",
      "    Power of lambda: 2\n",
      "    Power of lambda: 3\n",
      "    Power of lambda: 4\n",
      "  Start for digit 2\n",
      "  Start for digit 3\n",
      "Finished Degree 5. Best lambda is  7.000e-01 with RMSE 0.787256\n",
      "--------------------\n",
      "Start degree 6\n",
      "  Start for digit 1\n",
      "    Power of lambda: -10\n",
      "    Power of lambda: -9\n",
      "    Power of lambda: -8\n",
      "    Power of lambda: -7\n",
      "    Power of lambda: -6\n",
      "    Power of lambda: -5\n",
      "    Power of lambda: -4\n",
      "    Power of lambda: -3\n",
      "    Power of lambda: -2\n",
      "    Power of lambda: -1\n",
      "    Power of lambda: 0\n",
      "    Power of lambda: 1\n",
      "    Power of lambda: 2\n",
      "    Power of lambda: 3\n",
      "    Power of lambda: 4\n",
      "  Start for digit 2\n",
      "  Start for digit 3\n",
      "Finished Degree 6. Best lambda is  5.520e+04 with RMSE 0.810578\n",
      "--------------------\n",
      "Start degree 7\n",
      "  Start for digit 1\n",
      "    Power of lambda: -10\n",
      "    Power of lambda: -9\n",
      "    Power of lambda: -8\n",
      "    Power of lambda: -7\n",
      "    Power of lambda: -6\n",
      "    Power of lambda: -5\n",
      "    Power of lambda: -4\n",
      "    Power of lambda: -3\n",
      "    Power of lambda: -2\n",
      "    Power of lambda: -1\n",
      "    Power of lambda: 0\n",
      "    Power of lambda: 1\n",
      "    Power of lambda: 2\n",
      "    Power of lambda: 3\n",
      "    Power of lambda: 4\n",
      "  Start for digit 2\n",
      "  Start for digit 3\n",
      "Finished Degree 7. Best lambda is  2.000e+02 with RMSE 1.073896\n",
      "--------------------\n",
      "Start degree 8\n",
      "  Start for digit 1\n",
      "    Power of lambda: -10\n",
      "    Power of lambda: -9\n",
      "    Power of lambda: -8\n",
      "    Power of lambda: -7\n",
      "    Power of lambda: -6\n",
      "    Power of lambda: -5\n",
      "    Power of lambda: -4\n",
      "    Power of lambda: -3\n",
      "    Power of lambda: -2\n",
      "    Power of lambda: -1\n",
      "    Power of lambda: 0\n",
      "    Power of lambda: 1\n",
      "    Power of lambda: 2\n",
      "    Power of lambda: 3\n",
      "    Power of lambda: 4\n",
      "  Start for digit 2\n",
      "  Start for digit 3\n",
      "Finished Degree 8. Best lambda is  2.260e+04 with RMSE 1.162106\n",
      "--------------------\n",
      "Start degree 9\n",
      "  Start for digit 1\n",
      "    Power of lambda: -10\n",
      "    Power of lambda: -9\n",
      "    Power of lambda: -8\n",
      "    Power of lambda: -7\n",
      "    Power of lambda: -6\n",
      "    Power of lambda: -5\n",
      "    Power of lambda: -4\n",
      "    Power of lambda: -3\n",
      "    Power of lambda: -2\n",
      "    Power of lambda: -1\n",
      "    Power of lambda: 0\n",
      "    Power of lambda: 1\n",
      "    Power of lambda: 2\n",
      "    Power of lambda: 3\n",
      "    Power of lambda: 4\n",
      "  Start for digit 2\n",
      "  Start for digit 3\n",
      "Finished Degree 9. Best lambda is  9.000e+04 with RMSE 7.207688\n",
      "--------------------\n",
      "5-fold Cross Validation finished!\n",
      "\n",
      "Min Loss = 0.787256\n",
      "Lambda* =  7.000e-01\n",
      "Degree* = 5\n"
     ]
    }
   ],
   "source": [
    "degrees = np.arange(1, 10) \n",
    "deg_lambdas = np.arange(-10, 5)\n",
    "\n",
    "min_loss_3, degree_star_3, lambda_star_3 = cross_validation(y_3, tX_3, \n",
    "                                            deg_lambdas, degrees, k_fold=5, digits=3)\n",
    "\n",
    "print(\"Min Loss = %f\"%min_loss_3)\n",
    "print(\"Lambda* = %10.3e\"%lambda_star_3)\n",
    "print(\"Degree* = %i\"%degree_star_3) "
   ]
  },
  {
   "cell_type": "code",
   "execution_count": 226,
   "metadata": {
    "collapsed": true
   },
   "outputs": [],
   "source": [
    "# Just to avoid retraining =)\n",
    "lambda_star_3 = 2\n",
    "degree_star_3 = 5"
   ]
  },
  {
   "cell_type": "markdown",
   "metadata": {},
   "source": [
    "We can split the data just to see if we have a good prediction."
   ]
  },
  {
   "cell_type": "code",
   "execution_count": 231,
   "metadata": {
    "collapsed": true
   },
   "outputs": [],
   "source": [
    "ratio = 0.8\n",
    "x_train_3, y_train_3, x_test_3, y_test_3 = split_data(tX_3, y_3, ratio)"
   ]
  },
  {
   "cell_type": "markdown",
   "metadata": {},
   "source": [
    "Now, that we have the best degree and best lambda, we can do the Ridge Regression and get the best weights. "
   ]
  },
  {
   "cell_type": "code",
   "execution_count": 232,
   "metadata": {
    "collapsed": false
   },
   "outputs": [
    {
     "name": "stdout",
     "output_type": "stream",
     "text": [
      "Polynomials done\n",
      "Loss = 0.772975\n",
      "  Iter=0, loss=0.6600310021490399, diff=0.6600310021490399\n",
      "  Iter=100, loss=0.6458276250260786, diff=-0.01420337712296127\n",
      "  Iter=200, loss=0.6458302220382908, diff=2.597012212168792e-06\n",
      "  Iter=300, loss=0.6458185848989024, diff=-1.1637139388342987e-05\n",
      "  Iter=400, loss=0.6458211837073551, diff=2.5988084526584743e-06\n",
      "  Iter=500, loss=0.6458237804552517, diff=2.5967478965993607e-06\n",
      "  Iter=600, loss=0.6458263773097115, diff=2.596854459802067e-06\n",
      "  Iter=700, loss=0.6458289742707256, diff=2.5969610141229893e-06\n",
      "  Iter=800, loss=0.6458315785794254, diff=2.6043086998051024e-06\n",
      "  Iter=900, loss=0.645819939326193, diff=-1.1639253232442748e-05\n",
      "  Iter=999, loss=0.645946454950087, diff=0.00012651562389398574\n",
      "Min loss = 0.643913\n"
     ]
    }
   ],
   "source": [
    "# Build poly first\n",
    "tX_train_3 = build_poly(x_train_3, degree_star_3)\n",
    "tX_test_3 = build_poly(x_test_3, degree_star_3)\n",
    "print(\"Polynomials done\")\n",
    "\n",
    "# Ridge Regression\n",
    "loss_3, w_star_3 = ridge_regression(y_train_3, tX_train_3, lambda_star_3)\n",
    "print(\"Loss = %f\"%(loss_3))"
   ]
  },
  {
   "cell_type": "code",
   "execution_count": 233,
   "metadata": {
    "collapsed": false
   },
   "outputs": [
    {
     "name": "stdout",
     "output_type": "stream",
     "text": [
      "Without Gradient\n",
      "Good prediction: 3528/4433 (79.584931%)\n",
      "Wrong prediction: 905/4433 (20.415069%)\n",
      "\n",
      "With Gradient\n",
      "Good prediction: 3528/4433 (79.584931%)\n",
      "Wrong prediction: 905/4433 (20.415069%)\n"
     ]
    }
   ],
   "source": [
    "prediction(y_test_3, tX_test_3, w_star_3)"
   ]
  },
  {
   "cell_type": "markdown",
   "metadata": {},
   "source": [
    "Retrain on all the train data"
   ]
  },
  {
   "cell_type": "code",
   "execution_count": 234,
   "metadata": {
    "collapsed": false
   },
   "outputs": [
    {
     "name": "stdout",
     "output_type": "stream",
     "text": [
      "Loss = 0.774098\n"
     ]
    }
   ],
   "source": [
    "tX_poly_3 = build_poly(tX_3, degree_star_3)\n",
    "loss_3, w_star_3 = ridge_regression(y_3, tX_poly_3, lambda_star_3)\n",
    "print(\"Loss = %f\"%(loss_3))"
   ]
  },
  {
   "cell_type": "markdown",
   "metadata": {},
   "source": [
    "Load the test data and predict."
   ]
  },
  {
   "cell_type": "code",
   "execution_count": 240,
   "metadata": {
    "collapsed": false
   },
   "outputs": [],
   "source": [
    "DATA_TEST_PATH = 'data/test_jet_3_cv.csv' # TODO: download train data and supply path here \n",
    "_, tX_test_3, ids_test_3 = load_csv_data(DATA_TEST_PATH)\n",
    "#tX_test_3, _, _ = standardize(tX_test_3)\n",
    "tX_test_poly_3 = build_poly(tX_test_3, degree_star_3)\n",
    "\n",
    "y_pred_3 = predict_labels(w_star_3, tX_test_poly_3)"
   ]
  },
  {
   "cell_type": "markdown",
   "metadata": {},
   "source": [
    "## Put the prediction back together"
   ]
  },
  {
   "cell_type": "code",
   "execution_count": 241,
   "metadata": {
    "collapsed": false
   },
   "outputs": [
    {
     "name": "stdout",
     "output_type": "stream",
     "text": [
      "227458\n",
      "175338\n",
      "114648\n",
      "50794\n"
     ]
    },
    {
     "data": {
      "text/plain": [
       "568238"
      ]
     },
     "execution_count": 241,
     "metadata": {},
     "output_type": "execute_result"
    }
   ],
   "source": [
    "length = len(y_pred_0) + len(y_pred_1) + len(y_pred_2) + len(y_pred_3)\n",
    "print(len(y_pred_0))\n",
    "print(len(y_pred_1))\n",
    "print(len(y_pred_2))\n",
    "print(len(y_pred_3))\n",
    "length"
   ]
  },
  {
   "cell_type": "code",
   "execution_count": 242,
   "metadata": {
    "collapsed": false,
    "scrolled": true
   },
   "outputs": [
    {
     "name": "stdout",
     "output_type": "stream",
     "text": [
      "0\n",
      "100000\n",
      "200000\n",
      "300000\n",
      "400000\n",
      "500000\n"
     ]
    }
   ],
   "source": [
    "ids_test = []\n",
    "y_pred = []\n",
    "\n",
    "idx = min(ids_test_0[0], ids_test_1[0], ids_test_2[0], ids_test_3[0])\n",
    "\n",
    "for i in range(length):\n",
    "    if ids_test_0[0] == idx:\n",
    "        ids_test.append(idx)\n",
    "        y_pred.append(y_pred_0[0])\n",
    "        ids_test_0 = np.delete(ids_test_0, 0)\n",
    "        y_pred_0 = np.delete(y_pred_0, 0)        \n",
    "        \n",
    "    elif ids_test_1[0] == idx:\n",
    "        ids_test.append(idx)\n",
    "        y_pred.append(y_pred_1[0])\n",
    "        ids_test_1 = np.delete(ids_test_1, 0)\n",
    "        y_pred_1 = np.delete(y_pred_1, 0)\n",
    "        \n",
    "    elif ids_test_2[0] == idx:\n",
    "        ids_test.append(idx)\n",
    "        y_pred.append(y_pred_2[0])\n",
    "        ids_test_2 = np.delete(ids_test_2, 0)\n",
    "        y_pred_2 = np.delete(y_pred_2, 0)\n",
    "        \n",
    "    elif ids_test_3[0] == idx:\n",
    "        ids_test.append(idx)\n",
    "        y_pred.append(y_pred_3[0])\n",
    "        ids_test_3 = np.delete(ids_test_3, 0)\n",
    "        y_pred_3 = np.delete(y_pred_3, 0)\n",
    "\n",
    "    else:\n",
    "        print(\"Problem with idx: %i\"%idx)\n",
    "        \n",
    "    if (i % 100000 == 0):\n",
    "        print(i)\n",
    "        \n",
    "    idx += 1"
   ]
  },
  {
   "cell_type": "code",
   "execution_count": 243,
   "metadata": {
    "collapsed": false
   },
   "outputs": [
    {
     "data": {
      "text/plain": [
       "568238"
      ]
     },
     "execution_count": 243,
     "metadata": {},
     "output_type": "execute_result"
    }
   ],
   "source": [
    "len(y_pred)"
   ]
  },
  {
   "cell_type": "code",
   "execution_count": 244,
   "metadata": {
    "collapsed": false
   },
   "outputs": [],
   "source": [
    "y_pred = np.array(y_pred)\n",
    "ids_test = np.array(ids_test)"
   ]
  },
  {
   "cell_type": "code",
   "execution_count": 245,
   "metadata": {
    "collapsed": true
   },
   "outputs": [],
   "source": [
    "OUTPUT_PATH = 'output/RR.csv' # TODO: fill in desired name of output file for submission\n",
    "create_csv_submission(ids_test, y_pred, OUTPUT_PATH)"
   ]
  },
  {
   "cell_type": "code",
   "execution_count": 246,
   "metadata": {
    "collapsed": false
   },
   "outputs": [
    {
     "data": {
      "text/plain": [
       "0.31306424420753276"
      ]
     },
     "execution_count": 246,
     "metadata": {},
     "output_type": "execute_result"
    }
   ],
   "source": [
    "sum(y_pred==1)/len(y_pred)"
   ]
  },
  {
   "cell_type": "code",
   "execution_count": null,
   "metadata": {
    "collapsed": true
   },
   "outputs": [],
   "source": []
  },
  {
   "cell_type": "code",
   "execution_count": null,
   "metadata": {
    "collapsed": true
   },
   "outputs": [],
   "source": []
  },
  {
   "cell_type": "code",
   "execution_count": null,
   "metadata": {
    "collapsed": true
   },
   "outputs": [],
   "source": []
  },
  {
   "cell_type": "code",
   "execution_count": null,
   "metadata": {
    "collapsed": true
   },
   "outputs": [],
   "source": []
  }
 ],
 "metadata": {
  "anaconda-cloud": {},
  "kernelspec": {
   "display_name": "Python [conda root]",
   "language": "python",
   "name": "conda-root-py"
  },
  "language_info": {
   "codemirror_mode": {
    "name": "ipython",
    "version": 3
   },
   "file_extension": ".py",
   "mimetype": "text/x-python",
   "name": "python",
   "nbconvert_exporter": "python",
   "pygments_lexer": "ipython3",
   "version": "3.5.2"
  }
 },
 "nbformat": 4,
 "nbformat_minor": 1
}

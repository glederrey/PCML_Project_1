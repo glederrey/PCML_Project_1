{
 "cells": [
  {
   "cell_type": "markdown",
   "metadata": {},
   "source": [
    "# ML with Ridge Regression\n",
    "\n",
    "In this notebook, we will use the functions in the file ridge_regression.py. This time, we will use the 4 data sets and see if the prediction becomes better."
   ]
  },
  {
   "cell_type": "code",
   "execution_count": 1,
   "metadata": {
    "collapsed": false
   },
   "outputs": [],
   "source": [
    "# Useful starting lines\n",
    "%matplotlib inline\n",
    "import numpy as np\n",
    "import matplotlib.pyplot as plt\n",
    "%load_ext autoreload\n",
    "%autoreload 2\n",
    "from IPython import display\n",
    "# Import everything in the functions folder\n",
    "from functions.costs import *\n",
    "from functions.proj1_helpers import *\n",
    "from functions.split import *\n",
    "from functions.ridge_regression import *\n",
    "from functions.helpers import *"
   ]
  },
  {
   "cell_type": "markdown",
   "metadata": {},
   "source": [
    "## Jet 0"
   ]
  },
  {
   "cell_type": "code",
   "execution_count": 2,
   "metadata": {
    "collapsed": false
   },
   "outputs": [],
   "source": [
    "DATA_TRAIN_PATH = 'data/train_jet_0_with_nan.csv' \n",
    "y_0, tX_0, ids_0 = load_csv_data(DATA_TRAIN_PATH)\n",
    "#tX_0, _, _ = standardize(tX_0)"
   ]
  },
  {
   "cell_type": "markdown",
   "metadata": {},
   "source": [
    "We do a 5-fold cross validation to find the best lambda and best degree"
   ]
  },
  {
   "cell_type": "code",
   "execution_count": 3,
   "metadata": {
    "collapsed": false,
    "scrolled": true
   },
   "outputs": [
    {
     "name": "stdout",
     "output_type": "stream",
     "text": [
      "Start the 5-fold Cross Validation!\n",
      "Degree 3/10 done!\n",
      "Degree 4/10 done!\n",
      "Degree 5/10 done!\n",
      "Degree 6/10 done!\n",
      "Degree 7/10 done!\n",
      "Degree 8/10 done!\n",
      "Degree 9/10 done!\n",
      "Degree 10/10 done!\n",
      "5-fold Cross Validation finished!\n"
     ]
    }
   ],
   "source": [
    "degrees = np.linspace(3, 10, 8) \n",
    "lambdas = np.logspace(-5, 0, 20)\n",
    "rmse_te_0 = cross_validation(y_0, tX_0, lambdas, degrees, 5, False, 1)"
   ]
  },
  {
   "cell_type": "markdown",
   "metadata": {},
   "source": [
    "Get the best parameter with min value for rmse_te"
   ]
  },
  {
   "cell_type": "code",
   "execution_count": 4,
   "metadata": {
    "collapsed": false,
    "scrolled": true
   },
   "outputs": [
    {
     "name": "stdout",
     "output_type": "stream",
     "text": [
      "Min for rmse_te: 0.700164\n",
      "test = 0.700164\n",
      "Lambda* = 0.014384\n",
      "Degree* = 5.000000\n"
     ]
    }
   ],
   "source": [
    "lambda_star_0, degree_star_0 = find_min(rmse_te_0, lambdas, degrees)\n",
    "print(\"Lambda* = %f\"%lambda_star_0)\n",
    "print(\"Degree* = %f\"%degree_star_0)"
   ]
  },
  {
   "cell_type": "markdown",
   "metadata": {},
   "source": [
    "We can split the data just to see if we have a good prediction."
   ]
  },
  {
   "cell_type": "code",
   "execution_count": 5,
   "metadata": {
    "collapsed": true
   },
   "outputs": [],
   "source": [
    "ratio = 0.8\n",
    "x_train_0, y_train_0, x_test_0, y_test_0 = split_data(tX_0, y_0, ratio)"
   ]
  },
  {
   "cell_type": "markdown",
   "metadata": {},
   "source": [
    "Now, that we have the best degree and best lambda, we can do the Ridge Regression and get the best weights. "
   ]
  },
  {
   "cell_type": "code",
   "execution_count": 6,
   "metadata": {
    "collapsed": false
   },
   "outputs": [
    {
     "name": "stdout",
     "output_type": "stream",
     "text": [
      "Polynomials done\n",
      "Loss = 0.690801\n"
     ]
    }
   ],
   "source": [
    "# Build poly first\n",
    "tX_train_0 = build_poly(x_train_0, degree_star_0)\n",
    "tX_test_0 = build_poly(x_test_0, degree_star_0)\n",
    "print(\"Polynomials done\")\n",
    "\n",
    "# Ridge Regression\n",
    "loss_0, w_star_0 = ridge_regression(y_train_0, tX_train_0, lambda_star_0)\n",
    "print(\"Loss = %f\"%(loss_0))"
   ]
  },
  {
   "cell_type": "code",
   "execution_count": 7,
   "metadata": {
    "collapsed": false
   },
   "outputs": [
    {
     "name": "stdout",
     "output_type": "stream",
     "text": [
      "Good prediction: 16745/19983 (83.796227%)\n",
      "Wrong prediction: 3238/19983 (16.203773%)\n"
     ]
    }
   ],
   "source": [
    "prediction(y_test_0, tX_test_0, w_star_0)"
   ]
  },
  {
   "cell_type": "markdown",
   "metadata": {},
   "source": [
    "Retrain on all the train data"
   ]
  },
  {
   "cell_type": "code",
   "execution_count": 8,
   "metadata": {
    "collapsed": false
   },
   "outputs": [
    {
     "name": "stdout",
     "output_type": "stream",
     "text": [
      "Loss = 0.690535\n"
     ]
    }
   ],
   "source": [
    "tX_poly_0 = build_poly(tX_0, degree_star_0)\n",
    "loss_0, w_star_0 = ridge_regression(y_0, tX_poly_0, lambda_star_0)\n",
    "print(\"Loss = %f\"%(loss_0))"
   ]
  },
  {
   "cell_type": "markdown",
   "metadata": {},
   "source": [
    "Load the test data and predict."
   ]
  },
  {
   "cell_type": "code",
   "execution_count": 9,
   "metadata": {
    "collapsed": false
   },
   "outputs": [],
   "source": [
    "DATA_TEST_PATH = 'data/test_jet_0_with_nan.csv' # TODO: download train data and supply path here \n",
    "_, tX_test_0, ids_test_0 = load_csv_data(DATA_TEST_PATH)\n",
    "#tX_test, mean_tX_test, std_tX_test = standardize(tX_test)\n",
    "tX_test_poly_0 = build_poly(tX_test_0, degree_star_0)\n",
    "\n",
    "y_pred_0 = predict_labels(w_star_0, tX_test_poly_0)"
   ]
  },
  {
   "cell_type": "markdown",
   "metadata": {},
   "source": [
    "## Jet 1"
   ]
  },
  {
   "cell_type": "code",
   "execution_count": 10,
   "metadata": {
    "collapsed": true
   },
   "outputs": [],
   "source": [
    "DATA_TRAIN_PATH = 'data/train_jet_1_with_nan.csv' \n",
    "y_1, tX_1, ids_1 = load_csv_data(DATA_TRAIN_PATH)\n",
    "#tX_1, _, _ = standardize(tX_1)"
   ]
  },
  {
   "cell_type": "markdown",
   "metadata": {},
   "source": [
    "We do a 5-fold cross validation to find the best lambda and best degree"
   ]
  },
  {
   "cell_type": "code",
   "execution_count": 11,
   "metadata": {
    "collapsed": false
   },
   "outputs": [
    {
     "name": "stdout",
     "output_type": "stream",
     "text": [
      "Start the 5-fold Cross Validation!\n",
      "Degree 3/10 done!\n",
      "Degree 4/10 done!\n",
      "Degree 5/10 done!\n",
      "Degree 6/10 done!\n",
      "Degree 7/10 done!\n",
      "Degree 8/10 done!\n",
      "Degree 9/10 done!\n",
      "Degree 10/10 done!\n",
      "5-fold Cross Validation finished!\n"
     ]
    }
   ],
   "source": [
    "degrees = np.linspace(3, 10, 8) \n",
    "lambdas = np.logspace(-5, 0, 20)\n",
    "rmse_te_1 = cross_validation(y_1, tX_1, lambdas, degrees, 5, False, 1)"
   ]
  },
  {
   "cell_type": "markdown",
   "metadata": {},
   "source": [
    "Get the best parameter with min value for rmse_te"
   ]
  },
  {
   "cell_type": "code",
   "execution_count": 12,
   "metadata": {
    "collapsed": false
   },
   "outputs": [
    {
     "name": "stdout",
     "output_type": "stream",
     "text": [
      "Min for rmse_te: 0.778513\n",
      "test = 0.778513\n",
      "Lambda* = 1.000000\n",
      "Degree* = 10.000000\n"
     ]
    }
   ],
   "source": [
    "lambda_star_1, degree_star_1 = find_min(rmse_te_1, lambdas, degrees)\n",
    "print(\"Lambda* = %f\"%lambda_star_1)\n",
    "print(\"Degree* = %f\"%degree_star_1)"
   ]
  },
  {
   "cell_type": "markdown",
   "metadata": {},
   "source": [
    "We can split the data just to see if we have a good prediction."
   ]
  },
  {
   "cell_type": "code",
   "execution_count": 13,
   "metadata": {
    "collapsed": true
   },
   "outputs": [],
   "source": [
    "ratio = 0.8\n",
    "x_train_1, y_train_1, x_test_1, y_test_1 = split_data(tX_1, y_1, ratio)"
   ]
  },
  {
   "cell_type": "markdown",
   "metadata": {},
   "source": [
    "Now, that we have the best degree and best lambda, we can do the Ridge Regression and get the best weights. "
   ]
  },
  {
   "cell_type": "code",
   "execution_count": 14,
   "metadata": {
    "collapsed": false
   },
   "outputs": [
    {
     "name": "stdout",
     "output_type": "stream",
     "text": [
      "Polynomials done\n",
      "Loss = 0.762857\n"
     ]
    }
   ],
   "source": [
    "# Build poly first\n",
    "tX_train_1 = build_poly(x_train_1, degree_star_1)\n",
    "tX_test_1 = build_poly(x_test_1, degree_star_1)\n",
    "print(\"Polynomials done\")\n",
    "\n",
    "# Ridge Regression\n",
    "loss_1, w_star_1 = ridge_regression(y_train_1, tX_train_1, lambda_star_1)\n",
    "print(\"Loss = %f\"%(loss_1))"
   ]
  },
  {
   "cell_type": "code",
   "execution_count": 15,
   "metadata": {
    "collapsed": false
   },
   "outputs": [
    {
     "name": "stdout",
     "output_type": "stream",
     "text": [
      "Good prediction: 12430/15509 (80.147011%)\n",
      "Wrong prediction: 3079/15509 (19.852989%)\n"
     ]
    }
   ],
   "source": [
    "prediction(y_test_1, tX_test_1, w_star_1)"
   ]
  },
  {
   "cell_type": "markdown",
   "metadata": {},
   "source": [
    "Retrain on all the train data"
   ]
  },
  {
   "cell_type": "code",
   "execution_count": 16,
   "metadata": {
    "collapsed": false
   },
   "outputs": [
    {
     "name": "stdout",
     "output_type": "stream",
     "text": [
      "Loss = 0.762937\n"
     ]
    }
   ],
   "source": [
    "tX_poly_1 = build_poly(tX_1, degree_star_1)\n",
    "loss_1, w_star_1 = ridge_regression(y_1, tX_poly_1, lambda_star_1)\n",
    "print(\"Loss = %f\"%(loss_1))"
   ]
  },
  {
   "cell_type": "markdown",
   "metadata": {},
   "source": [
    "Load the test data and predict."
   ]
  },
  {
   "cell_type": "code",
   "execution_count": 17,
   "metadata": {
    "collapsed": false
   },
   "outputs": [],
   "source": [
    "DATA_TEST_PATH = 'data/test_jet_1_with_nan.csv' # TODO: download train data and supply path here \n",
    "_, tX_test_1, ids_test_1 = load_csv_data(DATA_TEST_PATH)\n",
    "#tX_test, mean_tX_test, std_tX_test = standardize(tX_test)\n",
    "tX_test_poly_1 = build_poly(tX_test_1, degree_star_1)\n",
    "\n",
    "y_pred_1 = predict_labels(w_star_1, tX_test_poly_1)"
   ]
  },
  {
   "cell_type": "markdown",
   "metadata": {},
   "source": [
    "## Jet 2"
   ]
  },
  {
   "cell_type": "code",
   "execution_count": 18,
   "metadata": {
    "collapsed": true
   },
   "outputs": [],
   "source": [
    "DATA_TRAIN_PATH = 'data/train_jet_2_with_nan.csv' \n",
    "y_2, tX_2, ids_2 = load_csv_data(DATA_TRAIN_PATH)\n",
    "#tX_2, _, _ = standardize(tX_2)"
   ]
  },
  {
   "cell_type": "markdown",
   "metadata": {},
   "source": [
    "We do a 5-fold cross validation to find the best lambda and best degree"
   ]
  },
  {
   "cell_type": "code",
   "execution_count": 19,
   "metadata": {
    "collapsed": false
   },
   "outputs": [
    {
     "name": "stdout",
     "output_type": "stream",
     "text": [
      "Start the 5-fold Cross Validation!\n",
      "Degree 3/10 done!\n",
      "Degree 4/10 done!\n",
      "Degree 5/10 done!\n",
      "Degree 6/10 done!\n",
      "Degree 7/10 done!\n",
      "Degree 8/10 done!\n",
      "Degree 9/10 done!\n",
      "Degree 10/10 done!\n",
      "5-fold Cross Validation finished!\n"
     ]
    }
   ],
   "source": [
    "degrees = np.linspace(3, 10, 8) \n",
    "lambdas = np.logspace(-5, 0, 20)\n",
    "rmse_te_2 = cross_validation(y_2, tX_2, lambdas, degrees, 5, False, 1)"
   ]
  },
  {
   "cell_type": "markdown",
   "metadata": {},
   "source": [
    "Get the best parameter with min value for rmse_te"
   ]
  },
  {
   "cell_type": "code",
   "execution_count": 20,
   "metadata": {
    "collapsed": false
   },
   "outputs": [
    {
     "name": "stdout",
     "output_type": "stream",
     "text": [
      "Min for rmse_te: 0.783230\n",
      "test = 0.783230\n",
      "Lambda* = 0.000010\n",
      "Degree* = 6.000000\n"
     ]
    }
   ],
   "source": [
    "lambda_star_2, degree_star_2 = find_min(rmse_te_2, lambdas, degrees)\n",
    "print(\"Lambda* = %f\"%lambda_star_2)\n",
    "print(\"Degree* = %f\"%degree_star_2)"
   ]
  },
  {
   "cell_type": "markdown",
   "metadata": {},
   "source": [
    "We can split the data just to see if we have a good prediction."
   ]
  },
  {
   "cell_type": "code",
   "execution_count": 21,
   "metadata": {
    "collapsed": true
   },
   "outputs": [],
   "source": [
    "ratio = 0.8\n",
    "x_train_2, y_train_2, x_test_2, y_test_2 = split_data(tX_2, y_2, ratio)"
   ]
  },
  {
   "cell_type": "markdown",
   "metadata": {},
   "source": [
    "Now, that we have the best degree and best lambda, we can do the Ridge Regression and get the best weights. "
   ]
  },
  {
   "cell_type": "code",
   "execution_count": 22,
   "metadata": {
    "collapsed": false
   },
   "outputs": [
    {
     "name": "stdout",
     "output_type": "stream",
     "text": [
      "Polynomials done\n",
      "Loss = 0.755808\n"
     ]
    }
   ],
   "source": [
    "# Build poly first\n",
    "tX_train_2 = build_poly(x_train_2, degree_star_2)\n",
    "tX_test_2 = build_poly(x_test_2, degree_star_2)\n",
    "print(\"Polynomials done\")\n",
    "\n",
    "# Ridge Regression\n",
    "loss_2, w_star_2 = ridge_regression(y_train_2, tX_train_2, lambda_star_2)\n",
    "print(\"Loss = %f\"%(loss_2))"
   ]
  },
  {
   "cell_type": "code",
   "execution_count": 23,
   "metadata": {
    "collapsed": false
   },
   "outputs": [
    {
     "name": "stdout",
     "output_type": "stream",
     "text": [
      "Good prediction: 8164/10076 (81.024216%)\n",
      "Wrong prediction: 1912/10076 (18.975784%)\n"
     ]
    }
   ],
   "source": [
    "prediction(y_test_2, tX_test_2, w_star_2)"
   ]
  },
  {
   "cell_type": "markdown",
   "metadata": {},
   "source": [
    "Retrain on all the train data"
   ]
  },
  {
   "cell_type": "code",
   "execution_count": 24,
   "metadata": {
    "collapsed": false
   },
   "outputs": [
    {
     "name": "stdout",
     "output_type": "stream",
     "text": [
      "Loss = 0.756214\n"
     ]
    }
   ],
   "source": [
    "tX_poly_2 = build_poly(tX_2, degree_star_2)\n",
    "loss_2, w_star_2 = ridge_regression(y_2, tX_poly_2, lambda_star_2)\n",
    "print(\"Loss = %f\"%(loss_2))"
   ]
  },
  {
   "cell_type": "markdown",
   "metadata": {},
   "source": [
    "Load the test data and predict."
   ]
  },
  {
   "cell_type": "code",
   "execution_count": 25,
   "metadata": {
    "collapsed": true
   },
   "outputs": [],
   "source": [
    "DATA_TEST_PATH = 'data/test_jet_2_with_nan.csv' # TODO: download train data and supply path here \n",
    "_, tX_test_2, ids_test_2 = load_csv_data(DATA_TEST_PATH)\n",
    "#tX_test, mean_tX_test, std_tX_test = standardize(tX_test)\n",
    "tX_test_poly_2 = build_poly(tX_test_2, degree_star_2)\n",
    "\n",
    "y_pred_2 = predict_labels(w_star_2, tX_test_poly_2)"
   ]
  },
  {
   "cell_type": "markdown",
   "metadata": {},
   "source": [
    "## Jet 3"
   ]
  },
  {
   "cell_type": "code",
   "execution_count": 26,
   "metadata": {
    "collapsed": true
   },
   "outputs": [],
   "source": [
    "DATA_TRAIN_PATH = 'data/train_jet_3_with_nan.csv' \n",
    "y_3, tX_3, ids_3 = load_csv_data(DATA_TRAIN_PATH)\n",
    "#tX_3, _, _ = standardize(tX_3)"
   ]
  },
  {
   "cell_type": "markdown",
   "metadata": {},
   "source": [
    "We do a 5-fold cross validation to find the best lambda and best degree"
   ]
  },
  {
   "cell_type": "code",
   "execution_count": 27,
   "metadata": {
    "collapsed": false
   },
   "outputs": [
    {
     "name": "stdout",
     "output_type": "stream",
     "text": [
      "Start the 5-fold Cross Validation!\n",
      "Degree 3/10 done!\n",
      "Degree 4/10 done!\n",
      "Degree 5/10 done!\n",
      "Degree 6/10 done!\n",
      "Degree 7/10 done!\n",
      "Degree 8/10 done!\n",
      "Degree 9/10 done!\n",
      "Degree 10/10 done!\n",
      "5-fold Cross Validation finished!\n"
     ]
    }
   ],
   "source": [
    "degrees = np.linspace(3, 10, 8) \n",
    "lambdas = np.logspace(-5, 0, 20)\n",
    "rmse_te_3 = cross_validation(y_3, tX_3, lambdas, degrees, 5, False, 1)"
   ]
  },
  {
   "cell_type": "markdown",
   "metadata": {},
   "source": [
    "Get the best parameter with min value for rmse_te"
   ]
  },
  {
   "cell_type": "code",
   "execution_count": 28,
   "metadata": {
    "collapsed": false
   },
   "outputs": [
    {
     "name": "stdout",
     "output_type": "stream",
     "text": [
      "Min for rmse_te: 0.788872\n",
      "test = 0.788872\n",
      "Lambda* = 0.000010\n",
      "Degree* = 6.000000\n"
     ]
    }
   ],
   "source": [
    "lambda_star_3, degree_star_3 = find_min(rmse_te_3, lambdas, degrees)\n",
    "print(\"Lambda* = %f\"%lambda_star_2)\n",
    "print(\"Degree* = %f\"%degree_star_2)"
   ]
  },
  {
   "cell_type": "markdown",
   "metadata": {},
   "source": [
    "We can split the data just to see if we have a good prediction."
   ]
  },
  {
   "cell_type": "code",
   "execution_count": 29,
   "metadata": {
    "collapsed": true
   },
   "outputs": [],
   "source": [
    "ratio = 0.8\n",
    "x_train_3, y_train_3, x_test_3, y_test_3 = split_data(tX_3, y_3, ratio)"
   ]
  },
  {
   "cell_type": "markdown",
   "metadata": {},
   "source": [
    "Now, that we have the best degree and best lambda, we can do the Ridge Regression and get the best weights. "
   ]
  },
  {
   "cell_type": "code",
   "execution_count": 30,
   "metadata": {
    "collapsed": false
   },
   "outputs": [
    {
     "name": "stdout",
     "output_type": "stream",
     "text": [
      "Polynomials done\n",
      "Loss = 0.771266\n"
     ]
    }
   ],
   "source": [
    "# Build poly first\n",
    "tX_train_3 = build_poly(x_train_3, degree_star_3)\n",
    "tX_test_3 = build_poly(x_test_3, degree_star_3)\n",
    "print(\"Polynomials done\")\n",
    "\n",
    "# Ridge Regression\n",
    "loss_3, w_star_3 = ridge_regression(y_train_3, tX_train_3, lambda_star_3)\n",
    "print(\"Loss = %f\"%(loss_3))"
   ]
  },
  {
   "cell_type": "code",
   "execution_count": 31,
   "metadata": {
    "collapsed": false
   },
   "outputs": [
    {
     "name": "stdout",
     "output_type": "stream",
     "text": [
      "Good prediction: 3521/4433 (79.427025%)\n",
      "Wrong prediction: 912/4433 (20.572975%)\n"
     ]
    }
   ],
   "source": [
    "prediction(y_test_3, tX_test_3, w_star_3)"
   ]
  },
  {
   "cell_type": "markdown",
   "metadata": {},
   "source": [
    "Retrain on all the train data"
   ]
  },
  {
   "cell_type": "code",
   "execution_count": 32,
   "metadata": {
    "collapsed": false
   },
   "outputs": [
    {
     "name": "stdout",
     "output_type": "stream",
     "text": [
      "Loss = 0.774088\n"
     ]
    }
   ],
   "source": [
    "tX_poly_3 = build_poly(tX_3, degree_star_3)\n",
    "loss_3, w_star_3 = ridge_regression(y_3, tX_poly_3, lambda_star_3)\n",
    "print(\"Loss = %f\"%(loss_3))"
   ]
  },
  {
   "cell_type": "markdown",
   "metadata": {},
   "source": [
    "Load the test data and predict."
   ]
  },
  {
   "cell_type": "code",
   "execution_count": 33,
   "metadata": {
    "collapsed": false
   },
   "outputs": [],
   "source": [
    "DATA_TEST_PATH = 'data/test_jet_3_with_nan.csv' # TODO: download train data and supply path here \n",
    "_, tX_test_3, ids_test_3 = load_csv_data(DATA_TEST_PATH)\n",
    "#tX_test, mean_tX_test, std_tX_test = standardize(tX_test)\n",
    "tX_test_poly_3 = build_poly(tX_test_3, degree_star_3)\n",
    "\n",
    "y_pred_3 = predict_labels(w_star_3, tX_test_poly_3)"
   ]
  },
  {
   "cell_type": "markdown",
   "metadata": {},
   "source": [
    "## Put the prediction back together"
   ]
  },
  {
   "cell_type": "code",
   "execution_count": 34,
   "metadata": {
    "collapsed": false
   },
   "outputs": [
    {
     "data": {
      "text/plain": [
       "568238"
      ]
     },
     "execution_count": 34,
     "metadata": {},
     "output_type": "execute_result"
    }
   ],
   "source": [
    "length = len(y_pred_0) + len(y_pred_1) + len(y_pred_2) + len(y_pred_3)\n",
    "length"
   ]
  },
  {
   "cell_type": "code",
   "execution_count": 35,
   "metadata": {
    "collapsed": false,
    "scrolled": true
   },
   "outputs": [
    {
     "name": "stdout",
     "output_type": "stream",
     "text": [
      "0\n",
      "100000\n",
      "200000\n",
      "300000\n",
      "400000\n",
      "500000\n"
     ]
    }
   ],
   "source": [
    "ids_test = []\n",
    "y_pred = []\n",
    "\n",
    "idx = min(ids_test_0[0], ids_test_1[0], ids_test_2[0], ids_test_3[0])\n",
    "\n",
    "for i in range(length):\n",
    "    if ids_test_0[0] == idx:\n",
    "        ids_test.append(idx)\n",
    "        y_pred.append(y_pred_0[0])\n",
    "        ids_test_0 = np.delete(ids_test_0, 0)\n",
    "        y_pred_0 = np.delete(y_pred_0, 0)        \n",
    "        \n",
    "    elif ids_test_1[0] == idx:\n",
    "        ids_test.append(idx)\n",
    "        y_pred.append(y_pred_1[0])\n",
    "        ids_test_1 = np.delete(ids_test_1, 0)\n",
    "        y_pred_1 = np.delete(y_pred_1, 0)\n",
    "        \n",
    "    elif ids_test_2[0] == idx:\n",
    "        ids_test.append(idx)\n",
    "        y_pred.append(y_pred_2[0])\n",
    "        ids_test_2 = np.delete(ids_test_2, 0)\n",
    "        y_pred_2 = np.delete(y_pred_2, 0)\n",
    "        \n",
    "    elif ids_test_3[0] == idx:\n",
    "        ids_test.append(idx)\n",
    "        y_pred.append(y_pred_3[0])\n",
    "        ids_test_3 = np.delete(ids_test_3, 0)\n",
    "        y_pred_3 = np.delete(y_pred_3, 0)\n",
    "\n",
    "    else:\n",
    "        print(\"Problem with idx: %i\"%idx)\n",
    "        \n",
    "    if (i % 100000 == 0):\n",
    "        print(i)\n",
    "        \n",
    "    idx += 1"
   ]
  },
  {
   "cell_type": "code",
   "execution_count": 36,
   "metadata": {
    "collapsed": false
   },
   "outputs": [
    {
     "data": {
      "text/plain": [
       "568238"
      ]
     },
     "execution_count": 36,
     "metadata": {},
     "output_type": "execute_result"
    }
   ],
   "source": [
    "len(y_pred)"
   ]
  },
  {
   "cell_type": "code",
   "execution_count": 37,
   "metadata": {
    "collapsed": false
   },
   "outputs": [],
   "source": [
    "y_pred = np.array(y_pred)\n",
    "ids_test = np.array(ids_test)"
   ]
  },
  {
   "cell_type": "code",
   "execution_count": 38,
   "metadata": {
    "collapsed": true
   },
   "outputs": [],
   "source": [
    "OUTPUT_PATH = 'output/RR_clean_with_nan.csv' # TODO: fill in desired name of output file for submission\n",
    "create_csv_submission(ids_test, y_pred, OUTPUT_PATH)"
   ]
  },
  {
   "cell_type": "code",
   "execution_count": 39,
   "metadata": {
    "collapsed": false
   },
   "outputs": [
    {
     "data": {
      "text/plain": [
       "0.30951115553694053"
      ]
     },
     "execution_count": 39,
     "metadata": {},
     "output_type": "execute_result"
    }
   ],
   "source": [
    "sum(y_pred==1)/len(y_pred)"
   ]
  }
 ],
 "metadata": {
  "anaconda-cloud": {},
  "kernelspec": {
   "display_name": "Python [conda root]",
   "language": "python",
   "name": "conda-root-py"
  },
  "language_info": {
   "codemirror_mode": {
    "name": "ipython",
    "version": 3
   },
   "file_extension": ".py",
   "mimetype": "text/x-python",
   "name": "python",
   "nbconvert_exporter": "python",
   "pygments_lexer": "ipython3",
   "version": "3.5.2"
  }
 },
 "nbformat": 4,
 "nbformat_minor": 1
}

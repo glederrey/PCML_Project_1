{
 "cells": [
  {
   "cell_type": "markdown",
   "metadata": {},
   "source": [
    "# ML with Ridge Regression\n",
    "\n",
    "In this notebook, we will use the functions in the file ridge_regression.py. This time, we will use the 4 data sets and see if the prediction becomes better."
   ]
  },
  {
   "cell_type": "code",
   "execution_count": 1,
   "metadata": {
    "collapsed": false
   },
   "outputs": [],
   "source": [
    "# Useful starting lines\n",
    "%matplotlib inline\n",
    "import numpy as np\n",
    "import matplotlib.pyplot as plt\n",
    "%load_ext autoreload\n",
    "%autoreload 2\n",
    "from IPython import display\n",
    "# Import everything in the functions folder\n",
    "from functions.costs import *\n",
    "from functions.helpers import *\n",
    "from functions.split import *\n",
    "from functions.ridge_regression import *\n",
    "from functions.helpers import *\n",
    "from functions.least_squares_GD import *"
   ]
  },
  {
   "cell_type": "markdown",
   "metadata": {},
   "source": [
    "## Jet 0"
   ]
  },
  {
   "cell_type": "code",
   "execution_count": 2,
   "metadata": {
    "collapsed": false
   },
   "outputs": [],
   "source": [
    "DATA_TRAIN_PATH = 'data/train_jet_0.csv' \n",
    "y_0, tX_0, ids_0 = load_csv_data(DATA_TRAIN_PATH)\n",
    "tX_0, _, _ = standardize(tX_0)"
   ]
  },
  {
   "cell_type": "markdown",
   "metadata": {},
   "source": [
    "We do a 5-fold cross validation to find the best lambda and best degree"
   ]
  },
  {
   "cell_type": "code",
   "execution_count": 3,
   "metadata": {
    "collapsed": false,
    "scrolled": false
   },
   "outputs": [
    {
     "name": "stdout",
     "output_type": "stream",
     "text": [
      "Start the 5-fold Cross Validation!\n",
      "Start degree 3\n",
      "  Start for digit 1\n",
      "    Power of lambda: -10\n",
      "    Power of lambda: -9\n",
      "    Power of lambda: -8\n",
      "    Power of lambda: -7\n",
      "    Power of lambda: -6\n",
      "    Power of lambda: -5\n",
      "    Power of lambda: -4\n",
      "    Power of lambda: -3\n",
      "    Power of lambda: -2\n",
      "    Power of lambda: -1\n",
      "    Power of lambda: 0\n",
      "    Power of lambda: 1\n",
      "    Power of lambda: 2\n",
      "    Power of lambda: 3\n",
      "    Power of lambda: 4\n",
      "  Start for digit 2\n",
      "  Start for digit 3\n",
      "Finished Degree 3. Best lambda is  2.970e+02 with percentage wrong pred 0.172355\n",
      "--------------------\n",
      "Start degree 4\n",
      "  Start for digit 1\n",
      "    Power of lambda: -10\n",
      "    Power of lambda: -9\n",
      "    Power of lambda: -8\n",
      "    Power of lambda: -7\n",
      "    Power of lambda: -6\n",
      "    Power of lambda: -5\n",
      "    Power of lambda: -4\n",
      "    Power of lambda: -3\n",
      "    Power of lambda: -2\n",
      "    Power of lambda: -1\n",
      "    Power of lambda: 0\n",
      "    Power of lambda: 1\n",
      "    Power of lambda: 2\n",
      "    Power of lambda: 3\n",
      "    Power of lambda: 4\n",
      "  Start for digit 2\n",
      "  Start for digit 3\n",
      "Finished Degree 4. Best lambda is  5.680e-08 with percentage wrong pred 0.168602\n",
      "--------------------\n",
      "Start degree 5\n",
      "  Start for digit 1\n",
      "    Power of lambda: -10\n",
      "    Power of lambda: -9\n",
      "    Power of lambda: -8\n",
      "    Power of lambda: -7\n",
      "    Power of lambda: -6\n",
      "    Power of lambda: -5\n",
      "    Power of lambda: -4\n",
      "    Power of lambda: -3\n",
      "    Power of lambda: -2\n",
      "    Power of lambda: -1\n",
      "    Power of lambda: 0\n",
      "    Power of lambda: 1\n",
      "    Power of lambda: 2\n",
      "    Power of lambda: 3\n",
      "    Power of lambda: 4\n",
      "  Start for digit 2\n",
      "  Start for digit 3\n",
      "Finished Degree 5. Best lambda is  3.360e-03 with percentage wrong pred 0.164998\n",
      "--------------------\n",
      "Start degree 6\n",
      "  Start for digit 1\n",
      "    Power of lambda: -10\n",
      "    Power of lambda: -9\n",
      "    Power of lambda: -8\n",
      "    Power of lambda: -7\n",
      "    Power of lambda: -6\n",
      "    Power of lambda: -5\n",
      "    Power of lambda: -4\n",
      "    Power of lambda: -3\n",
      "    Power of lambda: -2\n",
      "    Power of lambda: -1\n",
      "    Power of lambda: 0\n",
      "    Power of lambda: 1\n",
      "    Power of lambda: 2\n",
      "    Power of lambda: 3\n",
      "    Power of lambda: 4\n",
      "  Start for digit 2\n",
      "  Start for digit 3\n",
      "Finished Degree 6. Best lambda is  5.990e-09 with percentage wrong pred 0.162196\n",
      "--------------------\n",
      "Start degree 7\n",
      "  Start for digit 1\n",
      "    Power of lambda: -10\n",
      "    Power of lambda: -9\n",
      "    Power of lambda: -8\n",
      "    Power of lambda: -7\n",
      "    Power of lambda: -6\n",
      "    Power of lambda: -5\n",
      "    Power of lambda: -4\n",
      "    Power of lambda: -3\n",
      "    Power of lambda: -2\n",
      "    Power of lambda: -1\n",
      "    Power of lambda: 0\n",
      "    Power of lambda: 1\n",
      "    Power of lambda: 2\n",
      "    Power of lambda: 3\n",
      "    Power of lambda: 4\n",
      "  Start for digit 2\n",
      "  Start for digit 3\n",
      "Finished Degree 7. Best lambda is  7.060e-02 with percentage wrong pred 0.161846\n",
      "--------------------\n",
      "Start degree 8\n",
      "  Start for digit 1\n",
      "    Power of lambda: -10\n",
      "    Power of lambda: -9\n",
      "    Power of lambda: -8\n",
      "    Power of lambda: -7\n",
      "    Power of lambda: -6\n",
      "    Power of lambda: -5\n",
      "    Power of lambda: -4\n",
      "    Power of lambda: -3\n",
      "    Power of lambda: -2\n",
      "    Power of lambda: -1\n",
      "    Power of lambda: 0\n",
      "    Power of lambda: 1\n",
      "    Power of lambda: 2\n",
      "    Power of lambda: 3\n",
      "    Power of lambda: 4\n",
      "  Start for digit 2\n",
      "  Start for digit 3\n",
      "Finished Degree 8. Best lambda is  6.000e-04 with percentage wrong pred 0.158092\n",
      "--------------------\n",
      "Start degree 9\n",
      "  Start for digit 1\n",
      "    Power of lambda: -10\n",
      "    Power of lambda: -9\n",
      "    Power of lambda: -8\n",
      "    Power of lambda: -7\n",
      "    Power of lambda: -6\n",
      "    Power of lambda: -5\n",
      "    Power of lambda: -4\n",
      "    Power of lambda: -3\n",
      "    Power of lambda: -2\n",
      "    Power of lambda: -1\n",
      "    Power of lambda: 0\n",
      "    Power of lambda: 1\n",
      "    Power of lambda: 2\n",
      "    Power of lambda: 3\n",
      "    Power of lambda: 4\n",
      "  Start for digit 2\n",
      "  Start for digit 3\n",
      "Finished Degree 9. Best lambda is  2.100e-07 with percentage wrong pred 0.157892\n",
      "--------------------\n",
      "Start degree 10\n",
      "  Start for digit 1\n",
      "    Power of lambda: -10\n",
      "    Power of lambda: -9\n",
      "    Power of lambda: -8\n",
      "    Power of lambda: -7\n",
      "    Power of lambda: -6\n",
      "    Power of lambda: -5\n",
      "    Power of lambda: -4\n",
      "    Power of lambda: -3\n",
      "    Power of lambda: -2\n",
      "    Power of lambda: -1\n",
      "    Power of lambda: 0\n",
      "    Power of lambda: 1\n",
      "    Power of lambda: 2\n",
      "    Power of lambda: 3\n",
      "    Power of lambda: 4\n",
      "  Start for digit 2\n",
      "  Start for digit 3\n",
      "Finished Degree 10. Best lambda is  2.700e+02 with percentage wrong pred 0.160194\n",
      "--------------------\n",
      "Start degree 11\n",
      "  Start for digit 1\n",
      "    Power of lambda: -10\n",
      "    Power of lambda: -9\n",
      "    Power of lambda: -8\n",
      "    Power of lambda: -7\n",
      "    Power of lambda: -6\n",
      "    Power of lambda: -5\n",
      "    Power of lambda: -4\n",
      "    Power of lambda: -3\n",
      "    Power of lambda: -2\n",
      "    Power of lambda: -1\n",
      "    Power of lambda: 0\n",
      "    Power of lambda: 1\n",
      "    Power of lambda: 2\n",
      "    Power of lambda: 3\n",
      "    Power of lambda: 4\n",
      "  Start for digit 2\n",
      "  Start for digit 3\n",
      "Finished Degree 11. Best lambda is  5.010e+03 with percentage wrong pred 0.170053\n",
      "--------------------\n",
      "Start degree 12\n",
      "  Start for digit 1\n",
      "    Power of lambda: -10\n",
      "    Power of lambda: -9\n",
      "    Power of lambda: -8\n",
      "    Power of lambda: -7\n",
      "    Power of lambda: -6\n",
      "    Power of lambda: -5\n",
      "    Power of lambda: -4\n",
      "    Power of lambda: -3\n",
      "    Power of lambda: -2\n",
      "    Power of lambda: -1\n",
      "    Power of lambda: 0\n",
      "    Power of lambda: 1\n",
      "    Power of lambda: 2\n",
      "    Power of lambda: 3\n",
      "    Power of lambda: 4\n",
      "  Start for digit 2\n",
      "  Start for digit 3\n",
      "Finished Degree 12. Best lambda is  3.300e+04 with percentage wrong pred 0.200030\n",
      "--------------------\n",
      "Start degree 13\n",
      "  Start for digit 1\n",
      "    Power of lambda: -10\n",
      "    Power of lambda: -9\n",
      "    Power of lambda: -8\n",
      "    Power of lambda: -7\n",
      "    Power of lambda: -6\n",
      "    Power of lambda: -5\n",
      "    Power of lambda: -4\n",
      "    Power of lambda: -3\n",
      "    Power of lambda: -2\n",
      "    Power of lambda: -1\n",
      "    Power of lambda: 0\n",
      "    Power of lambda: 1\n",
      "    Power of lambda: 2\n",
      "    Power of lambda: 3\n",
      "    Power of lambda: 4\n",
      "  Start for digit 2\n",
      "  Start for digit 3\n",
      "Finished Degree 13. Best lambda is  2.900e+04 with percentage wrong pred 0.241017\n",
      "--------------------\n",
      "Start degree 14\n",
      "  Start for digit 1\n",
      "    Power of lambda: -10\n",
      "    Power of lambda: -9\n",
      "    Power of lambda: -8\n",
      "    Power of lambda: -7\n",
      "    Power of lambda: -6\n",
      "    Power of lambda: -5\n",
      "    Power of lambda: -4\n",
      "    Power of lambda: -3\n",
      "    Power of lambda: -2\n",
      "    Power of lambda: -1\n",
      "    Power of lambda: 0\n",
      "    Power of lambda: 1\n",
      "    Power of lambda: 2\n",
      "    Power of lambda: 3\n",
      "    Power of lambda: 4\n",
      "  Start for digit 2\n",
      "  Start for digit 3\n",
      "Finished Degree 14. Best lambda is  4.060e+04 with percentage wrong pred 0.252727\n",
      "--------------------\n",
      "5-fold Cross Validation finished!\n",
      "\n",
      "Min Loss = 0.157892\n",
      "Lambda* =  2.100e-07\n",
      "Degree* = 9\n"
     ]
    }
   ],
   "source": [
    "degrees = np.arange(3, 15) \n",
    "deg_lambdas = np.arange(-10, 5)\n",
    "\n",
    "min_loss_0, degree_star_0, lambda_star_0 = cross_validation(y_0, tX_0, \n",
    "                                            deg_lambdas, degrees, k_fold=5, digits=3)\n",
    "\n",
    "print(\"Min Loss = %f\"%min_loss_0)\n",
    "print(\"Lambda* = %10.3e\"%lambda_star_0)\n",
    "print(\"Degree* = %i\"%degree_star_0)    "
   ]
  },
  {
   "cell_type": "code",
   "execution_count": 4,
   "metadata": {
    "collapsed": true
   },
   "outputs": [],
   "source": [
    "# Just to avoid retraining =)\n",
    "#lambda_star_0 = 6.5e-1\n",
    "#degree_star_0 = 7"
   ]
  },
  {
   "cell_type": "markdown",
   "metadata": {},
   "source": [
    "We can split the data just to see if we have a good prediction."
   ]
  },
  {
   "cell_type": "code",
   "execution_count": 5,
   "metadata": {
    "collapsed": true
   },
   "outputs": [],
   "source": [
    "ratio = 0.8\n",
    "x_train_0, y_train_0, x_test_0, y_test_0 = split_data(tX_0, y_0, ratio)"
   ]
  },
  {
   "cell_type": "markdown",
   "metadata": {},
   "source": [
    "Now, that we have the best degree and best lambda, we can do the Ridge Regression and get the best weights. "
   ]
  },
  {
   "cell_type": "code",
   "execution_count": 6,
   "metadata": {
    "collapsed": false,
    "scrolled": true
   },
   "outputs": [
    {
     "name": "stdout",
     "output_type": "stream",
     "text": [
      "Polynomials done\n",
      "Loss = 0.818281\n"
     ]
    }
   ],
   "source": [
    "# Build poly first\n",
    "tX_train_0 = build_poly(x_train_0, degree_star_0)\n",
    "tX_test_0 = build_poly(x_test_0, degree_star_0)\n",
    "print(\"Polynomials done\")\n",
    "\n",
    "# Ridge Regression\n",
    "loss_0, w_star_0 = ridge_regression(y_train_0, tX_train_0, lambda_star_0)\n",
    "print(\"Loss = %f\"%(loss_0))"
   ]
  },
  {
   "cell_type": "code",
   "execution_count": 7,
   "metadata": {
    "collapsed": false
   },
   "outputs": [
    {
     "name": "stdout",
     "output_type": "stream",
     "text": [
      "Good prediction: 16744/19983 (83.791223%)\n",
      "Wrong prediction: 3239/19983 (16.208777%)\n"
     ]
    }
   ],
   "source": [
    "prediction(y_test_0, tX_test_0, w_star_0)"
   ]
  },
  {
   "cell_type": "markdown",
   "metadata": {},
   "source": [
    "Retrain on all the train data"
   ]
  },
  {
   "cell_type": "code",
   "execution_count": 8,
   "metadata": {
    "collapsed": false
   },
   "outputs": [
    {
     "name": "stdout",
     "output_type": "stream",
     "text": [
      "Loss = 4.089678\n"
     ]
    }
   ],
   "source": [
    "tX_poly_0 = build_poly(tX_0, degree_star_0)\n",
    "loss_0, w_star_0 = ridge_regression(y_0, tX_poly_0, lambda_star_0)\n",
    "print(\"Loss = %f\"%(loss_0))"
   ]
  },
  {
   "cell_type": "markdown",
   "metadata": {},
   "source": [
    "Load the test data and predict."
   ]
  },
  {
   "cell_type": "code",
   "execution_count": 9,
   "metadata": {
    "collapsed": false
   },
   "outputs": [],
   "source": [
    "DATA_TEST_PATH = 'data/test_jet_0.csv' # TODO: download train data and supply path here \n",
    "_, tX_test_0, ids_test_0 = load_csv_data(DATA_TEST_PATH)\n",
    "tX_test_0, _, _ = standardize(tX_test_0)\n",
    "tX_test_poly_0 = build_poly(tX_test_0, degree_star_0)\n",
    "\n",
    "y_pred_0 = predict_labels(w_star_0, tX_test_poly_0)"
   ]
  },
  {
   "cell_type": "markdown",
   "metadata": {},
   "source": [
    "## Jet 1"
   ]
  },
  {
   "cell_type": "code",
   "execution_count": 10,
   "metadata": {
    "collapsed": true
   },
   "outputs": [],
   "source": [
    "DATA_TRAIN_PATH = 'data/train_jet_1.csv' \n",
    "y_1, tX_1, ids_1 = load_csv_data(DATA_TRAIN_PATH)\n",
    "#tX_1, _, _ = standardize(tX_1)"
   ]
  },
  {
   "cell_type": "markdown",
   "metadata": {},
   "source": [
    "We do a 5-fold cross validation to find the best lambda and best degree"
   ]
  },
  {
   "cell_type": "code",
   "execution_count": 11,
   "metadata": {
    "collapsed": false
   },
   "outputs": [
    {
     "name": "stdout",
     "output_type": "stream",
     "text": [
      "Start the 5-fold Cross Validation!\n",
      "Start degree 1\n",
      "  Start for digit 1\n",
      "    Power of lambda: -10\n",
      "    Power of lambda: -9\n",
      "    Power of lambda: -8\n",
      "    Power of lambda: -7\n",
      "    Power of lambda: -6\n",
      "    Power of lambda: -5\n",
      "    Power of lambda: -4\n",
      "    Power of lambda: -3\n",
      "    Power of lambda: -2\n",
      "    Power of lambda: -1\n",
      "    Power of lambda: 0\n",
      "    Power of lambda: 1\n",
      "    Power of lambda: 2\n",
      "    Power of lambda: 3\n",
      "    Power of lambda: 4\n",
      "  Start for digit 2\n",
      "  Start for digit 3\n",
      "Finished Degree 1. Best lambda is  4.220e+00 with percentage wrong pred 0.305649\n",
      "--------------------\n",
      "Start degree 2\n",
      "  Start for digit 1\n",
      "    Power of lambda: -10\n",
      "    Power of lambda: -9\n",
      "    Power of lambda: -8\n",
      "    Power of lambda: -7\n",
      "    Power of lambda: -6\n",
      "    Power of lambda: -5\n",
      "    Power of lambda: -4\n",
      "    Power of lambda: -3\n",
      "    Power of lambda: -2\n",
      "    Power of lambda: -1\n",
      "    Power of lambda: 0\n",
      "    Power of lambda: 1\n",
      "    Power of lambda: 2\n",
      "    Power of lambda: 3\n",
      "    Power of lambda: 4\n",
      "  Start for digit 2\n",
      "  Start for digit 3\n",
      "Finished Degree 2. Best lambda is  9.770e-04 with percentage wrong pred 0.245809\n",
      "--------------------\n",
      "Start degree 3\n",
      "  Start for digit 1\n",
      "    Power of lambda: -10\n",
      "    Power of lambda: -9\n",
      "    Power of lambda: -8\n",
      "    Power of lambda: -7\n",
      "    Power of lambda: -6\n",
      "    Power of lambda: -5\n",
      "    Power of lambda: -4\n",
      "    Power of lambda: -3\n",
      "    Power of lambda: -2\n",
      "    Power of lambda: -1\n",
      "    Power of lambda: 0\n",
      "    Power of lambda: 1\n",
      "    Power of lambda: 2\n",
      "    Power of lambda: 3\n",
      "    Power of lambda: 4\n",
      "  Start for digit 2\n",
      "  Start for digit 3\n",
      "Finished Degree 3. Best lambda is  1.860e-03 with percentage wrong pred 0.238716\n",
      "--------------------\n",
      "Start degree 4\n",
      "  Start for digit 1\n",
      "    Power of lambda: -10\n",
      "    Power of lambda: -9\n",
      "    Power of lambda: -8\n",
      "    Power of lambda: -7\n",
      "    Power of lambda: -6\n",
      "    Power of lambda: -5\n",
      "    Power of lambda: -4\n",
      "    Power of lambda: -3\n",
      "    Power of lambda: -2\n",
      "    Power of lambda: -1\n",
      "    Power of lambda: 0\n",
      "    Power of lambda: 1\n",
      "    Power of lambda: 2\n",
      "    Power of lambda: 3\n",
      "    Power of lambda: 4\n",
      "  Start for digit 2\n",
      "  Start for digit 3\n",
      "Finished Degree 4. Best lambda is  3.960e-04 with percentage wrong pred 0.224013\n",
      "--------------------\n",
      "Start degree 5\n",
      "  Start for digit 1\n",
      "    Power of lambda: -10\n",
      "    Power of lambda: -9\n",
      "    Power of lambda: -8\n",
      "    Power of lambda: -7\n",
      "    Power of lambda: -6\n",
      "    Power of lambda: -5\n",
      "    Power of lambda: -4\n",
      "    Power of lambda: -3\n",
      "    Power of lambda: -2\n",
      "    Power of lambda: -1\n",
      "    Power of lambda: 0\n",
      "    Power of lambda: 1\n",
      "    Power of lambda: 2\n",
      "    Power of lambda: 3\n",
      "    Power of lambda: 4\n",
      "  Start for digit 2\n",
      "  Start for digit 3\n",
      "Finished Degree 5. Best lambda is  8.100e-04 with percentage wrong pred 0.216404\n",
      "--------------------\n",
      "Start degree 6\n",
      "  Start for digit 1\n",
      "    Power of lambda: -10\n",
      "    Power of lambda: -9\n",
      "    Power of lambda: -8\n",
      "    Power of lambda: -7\n",
      "    Power of lambda: -6\n",
      "    Power of lambda: -5\n",
      "    Power of lambda: -4\n",
      "    Power of lambda: -3\n",
      "    Power of lambda: -2\n",
      "    Power of lambda: -1\n",
      "    Power of lambda: 0\n",
      "    Power of lambda: 1\n",
      "    Power of lambda: 2\n",
      "    Power of lambda: 3\n",
      "    Power of lambda: 4\n",
      "  Start for digit 2\n",
      "  Start for digit 3\n",
      "Finished Degree 6. Best lambda is  8.100e-05 with percentage wrong pred 0.216211\n",
      "--------------------\n",
      "Start degree 7\n",
      "  Start for digit 1\n",
      "    Power of lambda: -10\n",
      "    Power of lambda: -9\n",
      "    Power of lambda: -8\n",
      "    Power of lambda: -7\n",
      "    Power of lambda: -6\n",
      "    Power of lambda: -5\n",
      "    Power of lambda: -4\n",
      "    Power of lambda: -3\n",
      "    Power of lambda: -2\n",
      "    Power of lambda: -1\n",
      "    Power of lambda: 0\n",
      "    Power of lambda: 1\n",
      "    Power of lambda: 2\n",
      "    Power of lambda: 3\n",
      "    Power of lambda: 4\n",
      "  Start for digit 2\n",
      "  Start for digit 3\n",
      "Finished Degree 7. Best lambda is  3.900e-04 with percentage wrong pred 0.213696\n",
      "--------------------\n",
      "Start degree 8\n",
      "  Start for digit 1\n",
      "    Power of lambda: -10\n",
      "    Power of lambda: -9\n",
      "    Power of lambda: -8\n",
      "    Power of lambda: -7\n",
      "    Power of lambda: -6\n",
      "    Power of lambda: -5\n",
      "    Power of lambda: -4\n",
      "    Power of lambda: -3\n",
      "    Power of lambda: -2\n",
      "    Power of lambda: -1\n",
      "    Power of lambda: 0\n",
      "    Power of lambda: 1\n",
      "    Power of lambda: 2\n",
      "    Power of lambda: 3\n",
      "    Power of lambda: 4\n",
      "  Start for digit 2\n",
      "  Start for digit 3\n",
      "Finished Degree 8. Best lambda is  4.100e-06 with percentage wrong pred 0.204346\n",
      "--------------------\n",
      "Start degree 9\n",
      "  Start for digit 1\n",
      "    Power of lambda: -10\n",
      "    Power of lambda: -9\n",
      "    Power of lambda: -8\n",
      "    Power of lambda: -7\n",
      "    Power of lambda: -6\n",
      "    Power of lambda: -5\n",
      "    Power of lambda: -4\n",
      "    Power of lambda: -3\n",
      "    Power of lambda: -2\n",
      "    Power of lambda: -1\n",
      "    Power of lambda: 0\n",
      "    Power of lambda: 1\n",
      "    Power of lambda: 2\n",
      "    Power of lambda: 3\n",
      "    Power of lambda: 4\n",
      "  Start for digit 2\n",
      "  Start for digit 3\n",
      "Finished Degree 9. Best lambda is  2.000e-01 with percentage wrong pred 0.197769\n",
      "--------------------\n",
      "Start degree 10\n",
      "  Start for digit 1\n",
      "    Power of lambda: -10\n",
      "    Power of lambda: -9\n",
      "    Power of lambda: -8\n",
      "    Power of lambda: -7\n",
      "    Power of lambda: -6\n",
      "    Power of lambda: -5\n",
      "    Power of lambda: -4\n",
      "    Power of lambda: -3\n",
      "    Power of lambda: -2\n",
      "    Power of lambda: -1\n",
      "    Power of lambda: 0\n",
      "    Power of lambda: 1\n",
      "    Power of lambda: 2\n",
      "    Power of lambda: 3\n",
      "    Power of lambda: 4\n",
      "  Start for digit 2\n",
      "  Start for digit 3\n",
      "Finished Degree 10. Best lambda is  6.500e+00 with percentage wrong pred 0.195705\n",
      "--------------------\n",
      "Start degree 11\n",
      "  Start for digit 1\n",
      "    Power of lambda: -10\n",
      "    Power of lambda: -9\n",
      "    Power of lambda: -8\n",
      "    Power of lambda: -7\n",
      "    Power of lambda: -6\n",
      "    Power of lambda: -5\n",
      "    Power of lambda: -4\n",
      "    Power of lambda: -3\n",
      "    Power of lambda: -2\n",
      "    Power of lambda: -1\n",
      "    Power of lambda: 0\n",
      "    Power of lambda: 1\n",
      "    Power of lambda: 2\n",
      "    Power of lambda: 3\n",
      "    Power of lambda: 4\n",
      "  Start for digit 2\n",
      "  Start for digit 3\n",
      "Finished Degree 11. Best lambda is  6.000e+01 with percentage wrong pred 0.196931\n",
      "--------------------\n",
      "Start degree 12\n",
      "  Start for digit 1\n",
      "    Power of lambda: -10\n",
      "    Power of lambda: -9\n",
      "    Power of lambda: -8\n",
      "    Power of lambda: -7\n",
      "    Power of lambda: -6\n",
      "    Power of lambda: -5\n",
      "    Power of lambda: -4\n",
      "    Power of lambda: -3\n",
      "    Power of lambda: -2\n",
      "    Power of lambda: -1\n",
      "    Power of lambda: 0\n",
      "    Power of lambda: 1\n",
      "    Power of lambda: 2\n",
      "    Power of lambda: 3\n",
      "    Power of lambda: 4\n",
      "  Start for digit 2\n",
      "  Start for digit 3\n",
      "Finished Degree 12. Best lambda is  4.300e+03 with percentage wrong pred 0.195705\n",
      "--------------------\n",
      "Start degree 13\n",
      "  Start for digit 1\n",
      "    Power of lambda: -10\n",
      "    Power of lambda: -9\n",
      "    Power of lambda: -8\n",
      "    Power of lambda: -7\n",
      "    Power of lambda: -6\n",
      "    Power of lambda: -5\n",
      "    Power of lambda: -4\n",
      "    Power of lambda: -3\n",
      "    Power of lambda: -2\n",
      "    Power of lambda: -1\n",
      "    Power of lambda: 0\n",
      "    Power of lambda: 1\n",
      "    Power of lambda: 2\n",
      "    Power of lambda: 3\n",
      "    Power of lambda: 4\n",
      "  Start for digit 2\n",
      "  Start for digit 3\n",
      "Finished Degree 13. Best lambda is  1.660e+02 with percentage wrong pred 0.196995\n",
      "--------------------\n",
      "Start degree 14\n",
      "  Start for digit 1\n",
      "    Power of lambda: -10\n",
      "    Power of lambda: -9\n",
      "    Power of lambda: -8\n",
      "    Power of lambda: -7\n",
      "    Power of lambda: -6\n",
      "    Power of lambda: -5\n",
      "    Power of lambda: -4\n",
      "    Power of lambda: -3\n",
      "    Power of lambda: -2\n",
      "    Power of lambda: -1\n",
      "    Power of lambda: 0\n",
      "    Power of lambda: 1\n",
      "    Power of lambda: 2\n",
      "    Power of lambda: 3\n",
      "    Power of lambda: 4\n",
      "  Start for digit 2\n",
      "  Start for digit 3\n",
      "Finished Degree 14. Best lambda is  8.210e+03 with percentage wrong pred 0.198156\n",
      "--------------------\n",
      "5-fold Cross Validation finished!\n",
      "\n",
      "Min Loss = 0.195705\n",
      "Lambda* =  6.500e+00\n",
      "Degree* = 10\n"
     ]
    }
   ],
   "source": [
    "degrees = np.arange(1, 15) \n",
    "deg_lambdas = np.arange(-10, 5)\n",
    "\n",
    "min_loss_1, degree_star_1, lambda_star_1 = cross_validation(y_1, tX_1, \n",
    "                                            deg_lambdas, degrees, k_fold=5, digits=3)\n",
    "\n",
    "print(\"Min Loss = %f\"%min_loss_1)\n",
    "print(\"Lambda* = %10.3e\"%lambda_star_1)\n",
    "print(\"Degree* = %i\"%degree_star_1) "
   ]
  },
  {
   "cell_type": "code",
   "execution_count": 12,
   "metadata": {
    "collapsed": true
   },
   "outputs": [],
   "source": [
    "# Just to avoid retraining =)\n",
    "#lambda_star_1 = 9e-9\n",
    "#degree_star_1 = 10"
   ]
  },
  {
   "cell_type": "markdown",
   "metadata": {},
   "source": [
    "We can split the data just to see if we have a good prediction."
   ]
  },
  {
   "cell_type": "code",
   "execution_count": 13,
   "metadata": {
    "collapsed": true
   },
   "outputs": [],
   "source": [
    "ratio = 0.8\n",
    "x_train_1, y_train_1, x_test_1, y_test_1 = split_data(tX_1, y_1, ratio)"
   ]
  },
  {
   "cell_type": "markdown",
   "metadata": {},
   "source": [
    "Now, that we have the best degree and best lambda, we can do the Ridge Regression and get the best weights. "
   ]
  },
  {
   "cell_type": "code",
   "execution_count": 14,
   "metadata": {
    "collapsed": false
   },
   "outputs": [
    {
     "name": "stdout",
     "output_type": "stream",
     "text": [
      "Polynomials done\n",
      "Loss = 0.763316\n"
     ]
    }
   ],
   "source": [
    "# Build poly first\n",
    "tX_train_1 = build_poly(x_train_1, degree_star_1)\n",
    "tX_test_1 = build_poly(x_test_1, degree_star_1)\n",
    "print(\"Polynomials done\")\n",
    "\n",
    "# Ridge Regression\n",
    "loss_1, w_star_1 = ridge_regression(y_train_1, tX_train_1, lambda_star_1)\n",
    "print(\"Loss = %f\"%(loss_1))"
   ]
  },
  {
   "cell_type": "code",
   "execution_count": 15,
   "metadata": {
    "collapsed": false
   },
   "outputs": [
    {
     "name": "stdout",
     "output_type": "stream",
     "text": [
      "Good prediction: 12416/15509 (80.056741%)\n",
      "Wrong prediction: 3093/15509 (19.943259%)\n"
     ]
    }
   ],
   "source": [
    "prediction(y_test_1, tX_test_1, w_star_1)\n"
   ]
  },
  {
   "cell_type": "markdown",
   "metadata": {},
   "source": [
    "Retrain on all the train data"
   ]
  },
  {
   "cell_type": "code",
   "execution_count": 16,
   "metadata": {
    "collapsed": false
   },
   "outputs": [
    {
     "name": "stdout",
     "output_type": "stream",
     "text": [
      "Loss = 0.763572\n"
     ]
    }
   ],
   "source": [
    "tX_poly_1 = build_poly(tX_1, degree_star_1)\n",
    "loss_1, w_star_1 = ridge_regression(y_1, tX_poly_1, lambda_star_1)\n",
    "print(\"Loss = %f\"%(loss_1))"
   ]
  },
  {
   "cell_type": "markdown",
   "metadata": {},
   "source": [
    "Load the test data and predict."
   ]
  },
  {
   "cell_type": "code",
   "execution_count": 17,
   "metadata": {
    "collapsed": false
   },
   "outputs": [],
   "source": [
    "DATA_TEST_PATH = 'data/test_jet_1.csv' # TODO: download train data and supply path here \n",
    "_, tX_test_1, ids_test_1 = load_csv_data(DATA_TEST_PATH)\n",
    "#tX_test_1, _, _ = standardize(tX_test_1)\n",
    "tX_test_poly_1 = build_poly(tX_test_1, degree_star_1)\n",
    "\n",
    "y_pred_1 = predict_labels(w_star_1, tX_test_poly_1)"
   ]
  },
  {
   "cell_type": "markdown",
   "metadata": {},
   "source": [
    "## Jet 2"
   ]
  },
  {
   "cell_type": "code",
   "execution_count": null,
   "metadata": {
    "collapsed": true
   },
   "outputs": [],
   "source": [
    "DATA_TRAIN_PATH = 'data/train_jet_2.csv' \n",
    "y_2, tX_2, ids_2 = load_csv_data(DATA_TRAIN_PATH)\n",
    "#tX_2, _, _ = standardize(tX_2)"
   ]
  },
  {
   "cell_type": "markdown",
   "metadata": {},
   "source": [
    "We do a 5-fold cross validation to find the best lambda and best degree"
   ]
  },
  {
   "cell_type": "code",
   "execution_count": null,
   "metadata": {
    "collapsed": false
   },
   "outputs": [
    {
     "name": "stdout",
     "output_type": "stream",
     "text": [
      "Start the 5-fold Cross Validation!\n",
      "Start degree 1\n",
      "  Start for digit 1\n",
      "    Power of lambda: -10\n",
      "    Power of lambda: -9\n",
      "    Power of lambda: -8\n",
      "    Power of lambda: -7\n",
      "    Power of lambda: -6\n",
      "    Power of lambda: -5\n",
      "    Power of lambda: -4\n",
      "    Power of lambda: -3\n",
      "    Power of lambda: -2\n",
      "    Power of lambda: -1\n",
      "    Power of lambda: 0\n",
      "    Power of lambda: 1\n",
      "    Power of lambda: 2\n",
      "    Power of lambda: 3\n",
      "    Power of lambda: 4\n",
      "  Start for digit 2\n",
      "  Start for digit 3\n",
      "Finished Degree 1. Best lambda is  9.160e+02 with percentage wrong pred 0.273350\n",
      "--------------------\n",
      "Start degree 2\n",
      "  Start for digit 1\n",
      "    Power of lambda: -10\n",
      "    Power of lambda: -9\n",
      "    Power of lambda: -8\n",
      "    Power of lambda: -7\n",
      "    Power of lambda: -6\n",
      "    Power of lambda: -5\n",
      "    Power of lambda: -4\n",
      "    Power of lambda: -3\n",
      "    Power of lambda: -2\n",
      "    Power of lambda: -1\n",
      "    Power of lambda: 0\n",
      "    Power of lambda: 1\n",
      "    Power of lambda: 2\n",
      "    Power of lambda: 3\n",
      "    Power of lambda: 4\n",
      "  Start for digit 2\n",
      "  Start for digit 3\n",
      "Finished Degree 2. Best lambda is  3.540e+00 with percentage wrong pred 0.227097\n",
      "--------------------\n",
      "Start degree 3\n",
      "  Start for digit 1\n",
      "    Power of lambda: -10\n",
      "    Power of lambda: -9\n",
      "    Power of lambda: -8\n",
      "    Power of lambda: -7\n",
      "    Power of lambda: -6\n",
      "    Power of lambda: -5\n",
      "    Power of lambda: -4\n",
      "    Power of lambda: -3\n",
      "    Power of lambda: -2\n",
      "    Power of lambda: -1\n",
      "    Power of lambda: 0\n",
      "    Power of lambda: 1\n",
      "    Power of lambda: 2\n",
      "    Power of lambda: 3\n",
      "    Power of lambda: 4\n",
      "  Start for digit 2\n",
      "  Start for digit 3\n",
      "Finished Degree 3. Best lambda is  5.790e-01 with percentage wrong pred 0.213598\n",
      "--------------------\n",
      "Start degree 4\n",
      "  Start for digit 1\n",
      "    Power of lambda: -10\n",
      "    Power of lambda: -9\n",
      "    Power of lambda: -8\n",
      "    Power of lambda: -7\n",
      "    Power of lambda: -6\n",
      "    Power of lambda: -5\n",
      "    Power of lambda: -4\n",
      "    Power of lambda: -3\n",
      "    Power of lambda: -2\n",
      "    Power of lambda: -1\n",
      "    Power of lambda: 0\n",
      "    Power of lambda: 1\n",
      "    Power of lambda: 2\n",
      "    Power of lambda: 3\n",
      "    Power of lambda: 4\n",
      "  Start for digit 2\n"
     ]
    }
   ],
   "source": [
    "degrees = np.arange(1, 15) \n",
    "deg_lambdas = np.arange(-10, 5)\n",
    "\n",
    "min_loss_2, degree_star_2, lambda_star_2 = cross_validation(y_2, tX_2, \n",
    "                                            deg_lambdas, degrees, k_fold=5, digits=3)\n",
    "\n",
    "print(\"Min Loss = %f\"%min_loss_2)\n",
    "print(\"Lambda* = %10.3e\"%lambda_star_2)\n",
    "print(\"Degree* = %i\"%degree_star_2) "
   ]
  },
  {
   "cell_type": "code",
   "execution_count": null,
   "metadata": {
    "collapsed": true
   },
   "outputs": [],
   "source": [
    "# Just to avoid retraining =)\n",
    "#lambda_star_2 = 1.06e-9\n",
    "#degree_star_2 = 6"
   ]
  },
  {
   "cell_type": "markdown",
   "metadata": {},
   "source": [
    "We can split the data just to see if we have a good prediction."
   ]
  },
  {
   "cell_type": "code",
   "execution_count": null,
   "metadata": {
    "collapsed": true
   },
   "outputs": [],
   "source": [
    "ratio = 0.8\n",
    "x_train_2, y_train_2, x_test_2, y_test_2 = split_data(tX_2, y_2, ratio)"
   ]
  },
  {
   "cell_type": "markdown",
   "metadata": {},
   "source": [
    "Now, that we have the best degree and best lambda, we can do the Ridge Regression and get the best weights. "
   ]
  },
  {
   "cell_type": "code",
   "execution_count": null,
   "metadata": {
    "collapsed": false,
    "scrolled": true
   },
   "outputs": [],
   "source": [
    "# Build poly first\n",
    "tX_train_2 = build_poly(x_train_2, degree_star_2)\n",
    "tX_test_2 = build_poly(x_test_2, degree_star_2)\n",
    "print(\"Polynomials done\")\n",
    "\n",
    "# Ridge Regression\n",
    "loss_2, w_star_2 = ridge_regression(y_train_2, tX_train_2, lambda_star_2)\n",
    "print(\"Loss = %f\"%(loss_2))"
   ]
  },
  {
   "cell_type": "code",
   "execution_count": null,
   "metadata": {
    "collapsed": false
   },
   "outputs": [],
   "source": [
    "prediction(y_test_2, tX_test_2, w_star_2)"
   ]
  },
  {
   "cell_type": "markdown",
   "metadata": {},
   "source": [
    "Retrain on all the train data"
   ]
  },
  {
   "cell_type": "code",
   "execution_count": null,
   "metadata": {
    "collapsed": false
   },
   "outputs": [],
   "source": [
    "tX_poly_2 = build_poly(tX_2, degree_star_2)\n",
    "print(tX_2.shape)\n",
    "loss_2, w_star_2 = ridge_regression(y_2, tX_poly_2, lambda_star_2)\n",
    "print(\"Loss = %f\"%(loss_2))"
   ]
  },
  {
   "cell_type": "markdown",
   "metadata": {},
   "source": [
    "Load the test data and predict."
   ]
  },
  {
   "cell_type": "code",
   "execution_count": null,
   "metadata": {
    "collapsed": false
   },
   "outputs": [],
   "source": [
    "DATA_TEST_PATH = 'data/test_jet_2.csv' # TODO: download train data and supply path here \n",
    "_, tX_test_2, ids_test_2 = load_csv_data(DATA_TEST_PATH)\n",
    "#tX_test_2, _, _ = standardize(tX_test_2)\n",
    "tX_test_poly_2 = build_poly(tX_test_2, degree_star_2)\n",
    "\n",
    "y_pred_2 = predict_labels(w_star_2, tX_test_poly_2)"
   ]
  },
  {
   "cell_type": "markdown",
   "metadata": {},
   "source": [
    "## Jet 3"
   ]
  },
  {
   "cell_type": "code",
   "execution_count": null,
   "metadata": {
    "collapsed": true
   },
   "outputs": [],
   "source": [
    "DATA_TRAIN_PATH = 'data/train_jet_3.csv' \n",
    "y_3, tX_3, ids_3 = load_csv_data(DATA_TRAIN_PATH)\n",
    "#tX_3, _, _ = standardize(tX_3)"
   ]
  },
  {
   "cell_type": "markdown",
   "metadata": {},
   "source": [
    "We do a 5-fold cross validation to find the best lambda and best degree"
   ]
  },
  {
   "cell_type": "code",
   "execution_count": null,
   "metadata": {
    "collapsed": false
   },
   "outputs": [],
   "source": [
    "degrees = np.arange(1, 15) \n",
    "deg_lambdas = np.arange(-10, 5)\n",
    "\n",
    "min_loss_3, degree_star_3, lambda_star_3 = cross_validation(y_3, tX_3, \n",
    "                                            deg_lambdas, degrees, k_fold=5, digits=3)\n",
    "\n",
    "print(\"Min Loss = %f\"%min_loss_3)\n",
    "print(\"Lambda* = %10.3e\"%lambda_star_3)\n",
    "print(\"Degree* = %i\"%degree_star_3) "
   ]
  },
  {
   "cell_type": "code",
   "execution_count": null,
   "metadata": {
    "collapsed": true
   },
   "outputs": [],
   "source": [
    "# Just to avoid retraining =)\n",
    "#lambda_star_3 = 2\n",
    "#degree_star_3 = 5"
   ]
  },
  {
   "cell_type": "markdown",
   "metadata": {},
   "source": [
    "We can split the data just to see if we have a good prediction."
   ]
  },
  {
   "cell_type": "code",
   "execution_count": null,
   "metadata": {
    "collapsed": true
   },
   "outputs": [],
   "source": [
    "ratio = 0.8\n",
    "x_train_3, y_train_3, x_test_3, y_test_3 = split_data(tX_3, y_3, ratio)"
   ]
  },
  {
   "cell_type": "markdown",
   "metadata": {},
   "source": [
    "Now, that we have the best degree and best lambda, we can do the Ridge Regression and get the best weights. "
   ]
  },
  {
   "cell_type": "code",
   "execution_count": null,
   "metadata": {
    "collapsed": false
   },
   "outputs": [],
   "source": [
    "# Build poly first\n",
    "tX_train_3 = build_poly(x_train_3, degree_star_3)\n",
    "tX_test_3 = build_poly(x_test_3, degree_star_3)\n",
    "print(\"Polynomials done\")\n",
    "\n",
    "# Ridge Regression\n",
    "loss_3, w_star_3 = ridge_regression(y_train_3, tX_train_3, lambda_star_3)\n",
    "print(\"Loss = %f\"%(loss_3))"
   ]
  },
  {
   "cell_type": "code",
   "execution_count": null,
   "metadata": {
    "collapsed": false
   },
   "outputs": [],
   "source": [
    "prediction(y_test_3, tX_test_3, w_star_3)"
   ]
  },
  {
   "cell_type": "markdown",
   "metadata": {},
   "source": [
    "Retrain on all the train data"
   ]
  },
  {
   "cell_type": "code",
   "execution_count": null,
   "metadata": {
    "collapsed": false
   },
   "outputs": [],
   "source": [
    "tX_poly_3 = build_poly(tX_3, degree_star_3)\n",
    "loss_3, w_star_3 = ridge_regression(y_3, tX_poly_3, lambda_star_3)\n",
    "print(\"Loss = %f\"%(loss_3))"
   ]
  },
  {
   "cell_type": "markdown",
   "metadata": {},
   "source": [
    "Load the test data and predict."
   ]
  },
  {
   "cell_type": "code",
   "execution_count": null,
   "metadata": {
    "collapsed": false
   },
   "outputs": [],
   "source": [
    "DATA_TEST_PATH = 'data/test_jet_3.csv' # TODO: download train data and supply path here \n",
    "_, tX_test_3, ids_test_3 = load_csv_data(DATA_TEST_PATH)\n",
    "#tX_test_3, _, _ = standardize(tX_test_3)\n",
    "tX_test_poly_3 = build_poly(tX_test_3, degree_star_3)\n",
    "\n",
    "y_pred_3 = predict_labels(w_star_3, tX_test_poly_3)"
   ]
  },
  {
   "cell_type": "markdown",
   "metadata": {},
   "source": [
    "## Put the prediction back together"
   ]
  },
  {
   "cell_type": "code",
   "execution_count": null,
   "metadata": {
    "collapsed": false
   },
   "outputs": [],
   "source": [
    "length = len(y_pred_0) + len(y_pred_1) + len(y_pred_2) + len(y_pred_3)\n",
    "print(len(y_pred_0))\n",
    "print(len(y_pred_1))\n",
    "print(len(y_pred_2))\n",
    "print(len(y_pred_3))\n",
    "length"
   ]
  },
  {
   "cell_type": "code",
   "execution_count": null,
   "metadata": {
    "collapsed": false,
    "scrolled": true
   },
   "outputs": [],
   "source": [
    "ids_test = []\n",
    "y_pred = []\n",
    "\n",
    "idx = min(ids_test_0[0], ids_test_1[0], ids_test_2[0], ids_test_3[0])\n",
    "\n",
    "for i in range(length):\n",
    "    if ids_test_0[0] == idx:\n",
    "        ids_test.append(idx)\n",
    "        y_pred.append(y_pred_0[0])\n",
    "        ids_test_0 = np.delete(ids_test_0, 0)\n",
    "        y_pred_0 = np.delete(y_pred_0, 0)        \n",
    "        \n",
    "    elif ids_test_1[0] == idx:\n",
    "        ids_test.append(idx)\n",
    "        y_pred.append(y_pred_1[0])\n",
    "        ids_test_1 = np.delete(ids_test_1, 0)\n",
    "        y_pred_1 = np.delete(y_pred_1, 0)\n",
    "        \n",
    "    elif ids_test_2[0] == idx:\n",
    "        ids_test.append(idx)\n",
    "        y_pred.append(y_pred_2[0])\n",
    "        ids_test_2 = np.delete(ids_test_2, 0)\n",
    "        y_pred_2 = np.delete(y_pred_2, 0)\n",
    "        \n",
    "    elif ids_test_3[0] == idx:\n",
    "        ids_test.append(idx)\n",
    "        y_pred.append(y_pred_3[0])\n",
    "        ids_test_3 = np.delete(ids_test_3, 0)\n",
    "        y_pred_3 = np.delete(y_pred_3, 0)\n",
    "\n",
    "    else:\n",
    "        print(\"Problem with idx: %i\"%idx)\n",
    "        \n",
    "    if (i % 100000 == 0):\n",
    "        print(i)\n",
    "        \n",
    "    idx += 1"
   ]
  },
  {
   "cell_type": "code",
   "execution_count": null,
   "metadata": {
    "collapsed": false
   },
   "outputs": [],
   "source": [
    "len(y_pred)"
   ]
  },
  {
   "cell_type": "code",
   "execution_count": null,
   "metadata": {
    "collapsed": false
   },
   "outputs": [],
   "source": [
    "y_pred = np.array(y_pred)\n",
    "ids_test = np.array(ids_test)"
   ]
  },
  {
   "cell_type": "code",
   "execution_count": null,
   "metadata": {
    "collapsed": true
   },
   "outputs": [],
   "source": [
    "OUTPUT_PATH = 'output/RR.csv' # TODO: fill in desired name of output file for submission\n",
    "create_csv_submission(ids_test, y_pred, OUTPUT_PATH)"
   ]
  },
  {
   "cell_type": "code",
   "execution_count": null,
   "metadata": {
    "collapsed": false
   },
   "outputs": [],
   "source": [
    "sum(y_pred==1)/len(y_pred)"
   ]
  },
  {
   "cell_type": "code",
   "execution_count": null,
   "metadata": {
    "collapsed": true
   },
   "outputs": [],
   "source": []
  }
 ],
 "metadata": {
  "anaconda-cloud": {},
  "kernelspec": {
   "display_name": "Python [conda root]",
   "language": "python",
   "name": "conda-root-py"
  },
  "language_info": {
   "codemirror_mode": {
    "name": "ipython",
    "version": 3
   },
   "file_extension": ".py",
   "mimetype": "text/x-python",
   "name": "python",
   "nbconvert_exporter": "python",
   "pygments_lexer": "ipython3",
   "version": "3.5.2"
  }
 },
 "nbformat": 4,
 "nbformat_minor": 1
}

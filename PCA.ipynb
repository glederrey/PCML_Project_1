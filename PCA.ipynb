{
 "cells": [
  {
   "cell_type": "markdown",
   "metadata": {},
   "source": [
    "# Principal Component Analysis (PCA)\n",
    "\n",
    "In this notebook, we will do a PCA. The purpose of the PCA is to reduce the number of variables. Currently, we have 30 different variables. We can be almost sure that some variables are useless for the prediction. So, it's possible that if we reduce the number of variables, the prediction will be better. \n",
    "\n",
    "**But** we can't remove a variable like this. The PCA will rank each of the parameters from the most important one to the least important one."
   ]
  },
  {
   "cell_type": "code",
   "execution_count": 2,
   "metadata": {
    "collapsed": false
   },
   "outputs": [
    {
     "name": "stdout",
     "output_type": "stream",
     "text": [
      "The autoreload extension is already loaded. To reload it, use:\n",
      "  %reload_ext autoreload\n"
     ]
    }
   ],
   "source": [
    "# Useful starting lines\n",
    "%matplotlib inline\n",
    "import numpy as np\n",
    "import matplotlib.pyplot as plt\n",
    "%load_ext autoreload\n",
    "%autoreload 2\n",
    "from IPython import display"
   ]
  },
  {
   "cell_type": "markdown",
   "metadata": {},
   "source": [
    "First, we load the data."
   ]
  },
  {
   "cell_type": "code",
   "execution_count": 3,
   "metadata": {
    "collapsed": true
   },
   "outputs": [],
   "source": [
    "DATA_TRAIN_PATH = 'data/train.csv' \n",
    "y, tX, ids = load_csv_data(DATA_TRAIN_PATH)"
   ]
  },
  {
   "cell_type": "markdown",
   "metadata": {},
   "source": [
    "Now, we need to calculate all the mean values.\n"
   ]
  },
  {
   "cell_type": "code",
   "execution_count": 6,
   "metadata": {
    "collapsed": false
   },
   "outputs": [
    {
     "name": "stdout",
     "output_type": "stream",
     "text": [
      "[ -4.90230794e+01   4.92398193e+01   8.11819816e+01   5.78959617e+01\n",
      "  -7.08420675e+02  -6.01237051e+02  -7.09356603e+02   2.37309984e+00\n",
      "   1.89173324e+01   1.58432217e+02   1.43760943e+00  -1.28304708e-01\n",
      "  -7.08985189e+02   3.87074191e+01  -1.09730480e-02  -8.17107200e-03\n",
      "   4.66602072e+01  -1.95074680e-02   4.35429640e-02   4.17172345e+01\n",
      "  -1.01191920e-02   2.09797178e+02   9.79176000e-01  -3.48329567e+02\n",
      "  -3.99254314e+02  -3.99259788e+02  -6.92381204e+02  -7.09121609e+02\n",
      "  -7.09118631e+02   7.30645914e+01]\n"
     ]
    }
   ],
   "source": [
    "mean_vector = np.zeros(len(tX[0]))\n",
    "\n",
    "for i in range(len(tX[0])):\n",
    "    mean_vector[i] = np.mean(tX[:,i])\n",
    "    \n",
    "print('Mean vector:\\n', mean_vector)"
   ]
  },
  {
   "cell_type": "markdown",
   "metadata": {},
   "source": [
    "We compute the covariance matrix."
   ]
  },
  {
   "cell_type": "code",
   "execution_count": 9,
   "metadata": {
    "collapsed": false
   },
   "outputs": [
    {
     "name": "stdout",
     "output_type": "stream",
     "text": [
      "Covariance Matrix:\n",
      " [[ 165116.78459432   -6545.66262133]\n",
      " [  -6545.66262133    1249.26093892]]\n"
     ]
    }
   ],
   "source": [
    "\n",
    "print('Covariance Matrix:\\n', cov_mat)"
   ]
  },
  {
   "cell_type": "code",
   "execution_count": null,
   "metadata": {
    "collapsed": true
   },
   "outputs": [],
   "source": []
  }
 ],
 "metadata": {
  "anaconda-cloud": {},
  "kernelspec": {
   "display_name": "Python [Root]",
   "language": "python",
   "name": "Python [Root]"
  },
  "language_info": {
   "codemirror_mode": {
    "name": "ipython",
    "version": 3
   },
   "file_extension": ".py",
   "mimetype": "text/x-python",
   "name": "python",
   "nbconvert_exporter": "python",
   "pygments_lexer": "ipython3",
   "version": "3.5.2"
  }
 },
 "nbformat": 4,
 "nbformat_minor": 0
}

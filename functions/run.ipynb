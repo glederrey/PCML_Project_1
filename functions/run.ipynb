{
 "cells": [
  {
   "cell_type": "markdown",
   "metadata": {},
   "source": [
    "# Run\n",
    "\n",
    "This notebook runs all the functions such that you can get the same result we've got on Kaggle. You can also find a file called `run.py`. But since we did all our tests in Jupyter, we decided to give you a Python Notebook as well.\n",
    "\n",
    "Import the libraries needed"
   ]
  },
  {
   "cell_type": "code",
   "execution_count": 1,
   "metadata": {
    "collapsed": true
   },
   "outputs": [],
   "source": [
    "# All the \"long\" functions are in the file called helpers_run.py\n",
    "from helpers_run import *"
   ]
  },
  {
   "cell_type": "markdown",
   "metadata": {},
   "source": [
    "Names of the different data sets"
   ]
  },
  {
   "cell_type": "code",
   "execution_count": 2,
   "metadata": {
    "collapsed": true
   },
   "outputs": [],
   "source": [
    "# Name of the train file\n",
    "TRAIN = 'train.csv'\n",
    "try:\n",
    "    open(TRAIN, 'r')\n",
    "except:\n",
    "    raise NameError('Cannot open file %s! Are you sure it exists in this directory' % TRAIN)\n",
    "\n",
    "# Name of the test file\n",
    "TEST = 'test.csv'\n",
    "try:\n",
    "    open(TEST, 'r')\n",
    "except:\n",
    "    raise NameError('Cannot open file %s! Are you sure it exists in this directory' % TEST)\n",
    "\n",
    "# Name of the training data\n",
    "TRAINING_DATA = ['train_jet_0_wout_mass.csv', 'train_jet_0_with_mass.csv',\n",
    "                 'train_jet_1_wout_mass.csv', 'train_jet_1_with_mass.csv',\n",
    "                 'train_jet_2_wout_mass.csv', 'train_jet_2_with_mass.csv',\n",
    "                 'train_jet_3_wout_mass.csv', 'train_jet_3_with_mass.csv']\n",
    "\n",
    "# Name of the test data                   \n",
    "TESTING_DATA = ['test_jet_0_wout_mass.csv', 'test_jet_0_with_mass.csv',\n",
    "                'test_jet_1_wout_mass.csv', 'test_jet_1_with_mass.csv',\n",
    "                'test_jet_2_wout_mass.csv', 'test_jet_2_with_mass.csv',\n",
    "                'test_jet_3_wout_mass.csv', 'test_jet_3_with_mass.csv']"
   ]
  },
  {
   "cell_type": "markdown",
   "metadata": {},
   "source": [
    "## Data Analysis and Splitting\n",
    "\n",
    "If you don't have the files in the lists `TRAINING_DATA` and `TESTING_DATA`, you can run the next cell. It will split the training and testint data-sets into 8 models as explained in the report."
   ]
  },
  {
   "cell_type": "code",
   "execution_count": null,
   "metadata": {
    "collapsed": false,
    "scrolled": true
   },
   "outputs": [],
   "source": [
    "data_analysis_splitting(TRAIN, TEST, TRAINING_DATA, TESTING_DATA)"
   ]
  },
  {
   "cell_type": "markdown",
   "metadata": {},
   "source": [
    "## Cross-Validation\n",
    "\n",
    "If you want to run the cross-validation, you can simply run the next cell. If you just want to use our $\\lambda*$ and $degree*$, you can run the cell after. \n",
    "\n",
    "The cross-validation will take a bit of time to get all the results"
   ]
  },
  {
   "cell_type": "code",
   "execution_count": 3,
   "metadata": {
    "collapsed": false,
    "scrolled": true
   },
   "outputs": [
    {
     "name": "stdout",
     "output_type": "stream",
     "text": [
      "Cross-validation with file train_jet_0_wout_mass.csv\n",
      "-----------------------------------------------------\n",
      "  Start the 10-fold Cross Validation!\n",
      "  Start degree 8\n",
      "  Finished Degree 8. Best lambda is  4.040e-03 with percentage wrong pred 0.050153\n",
      "  --------------------\n",
      "  Start degree 9\n",
      "  Finished Degree 9. Best lambda is  5.040e+00 with percentage wrong pred 0.050153\n",
      "  --------------------\n",
      "  Start degree 10\n",
      "  Finished Degree 10. Best lambda is  2.270e+03 with percentage wrong pred 0.049579\n",
      "  --------------------\n",
      "  Start degree 11\n",
      "  Finished Degree 11. Best lambda is  6.500e-04 with percentage wrong pred 0.049579\n",
      "  --------------------\n",
      "  Start degree 12\n",
      "  Finished Degree 12. Best lambda is  9.000e-06 with percentage wrong pred 0.049196\n",
      "  --------------------\n",
      " 10-fold Cross Validation finished!\n",
      "\n",
      "  Max pred = 0.950804\n",
      "  Lambda* =  9.000e-06\n",
      "  Degree* = 12\n",
      "\n",
      "\n",
      "Cross-validation with file train_jet_0_with_mass.csv\n",
      "-----------------------------------------------------\n",
      "  Start the 10-fold Cross Validation!\n",
      "  Start degree 8\n",
      "  Finished Degree 8. Best lambda is  7.000e-06 with percentage wrong pred 0.191448\n",
      "  --------------------\n",
      "  Start degree 9\n",
      "  Finished Degree 9. Best lambda is  2.120e-02 with percentage wrong pred 0.190160\n",
      "  --------------------\n",
      "  Start degree 10\n",
      "  Finished Degree 10. Best lambda is  8.050e-01 with percentage wrong pred 0.190905\n",
      "  --------------------\n",
      "  Start degree 11\n",
      "  Finished Degree 11. Best lambda is  3.510e+04 with percentage wrong pred 0.191312\n",
      "  --------------------\n",
      "  Start degree 12\n",
      "  Finished Degree 12. Best lambda is  6.900e-02 with percentage wrong pred 0.191990\n",
      "  --------------------\n",
      " 10-fold Cross Validation finished!\n",
      "\n",
      "  Max pred = 0.809840\n",
      "  Lambda* =  2.120e-02\n",
      "  Degree* = 9\n",
      "\n",
      "\n",
      "Cross-validation with file train_jet_1_wout_mass.csv\n",
      "-----------------------------------------------------\n",
      "  Start the 10-fold Cross Validation!\n",
      "  Start degree 8\n",
      "  Finished Degree 8. Best lambda is  8.000e-06 with percentage wrong pred 0.082011\n",
      "  --------------------\n",
      "  Start degree 9\n"
     ]
    },
    {
     "ename": "KeyboardInterrupt",
     "evalue": "",
     "output_type": "error",
     "traceback": [
      "\u001b[0;31m---------------------------------------------------------------------------\u001b[0m",
      "\u001b[0;31mKeyboardInterrupt\u001b[0m                         Traceback (most recent call last)",
      "\u001b[0;32m<ipython-input-3-5dc0bb21f6b5>\u001b[0m in \u001b[0;36m<module>\u001b[0;34m()\u001b[0m\n\u001b[0;32m----> 1\u001b[0;31m \u001b[0mget_ipython\u001b[0m\u001b[1;33m(\u001b[0m\u001b[1;33m)\u001b[0m\u001b[1;33m.\u001b[0m\u001b[0mrun_cell_magic\u001b[0m\u001b[1;33m(\u001b[0m\u001b[1;34m'time'\u001b[0m\u001b[1;33m,\u001b[0m \u001b[1;34m''\u001b[0m\u001b[1;33m,\u001b[0m \u001b[1;34m\"perc_right_pred, degree_star, lambda_star = cross_validation(TRAINING_DATA, verbose=True)\\nprint(u'Percentage of right pred on training set: {0:f}'.format(perc_right_pred))\\nprint('degree_star = ', degree_star)\\nprint('lambda_star = ', lambda_star)\"\u001b[0m\u001b[1;33m)\u001b[0m\u001b[1;33m\u001b[0m\u001b[0m\n\u001b[0m",
      "\u001b[0;32mC:\\Users\\glede\\Anaconda3\\lib\\site-packages\\IPython\\core\\interactiveshell.py\u001b[0m in \u001b[0;36mrun_cell_magic\u001b[0;34m(self, magic_name, line, cell)\u001b[0m\n\u001b[1;32m   2113\u001b[0m             \u001b[0mmagic_arg_s\u001b[0m \u001b[1;33m=\u001b[0m \u001b[0mself\u001b[0m\u001b[1;33m.\u001b[0m\u001b[0mvar_expand\u001b[0m\u001b[1;33m(\u001b[0m\u001b[0mline\u001b[0m\u001b[1;33m,\u001b[0m \u001b[0mstack_depth\u001b[0m\u001b[1;33m)\u001b[0m\u001b[1;33m\u001b[0m\u001b[0m\n\u001b[1;32m   2114\u001b[0m             \u001b[1;32mwith\u001b[0m \u001b[0mself\u001b[0m\u001b[1;33m.\u001b[0m\u001b[0mbuiltin_trap\u001b[0m\u001b[1;33m:\u001b[0m\u001b[1;33m\u001b[0m\u001b[0m\n\u001b[0;32m-> 2115\u001b[0;31m                 \u001b[0mresult\u001b[0m \u001b[1;33m=\u001b[0m \u001b[0mfn\u001b[0m\u001b[1;33m(\u001b[0m\u001b[0mmagic_arg_s\u001b[0m\u001b[1;33m,\u001b[0m \u001b[0mcell\u001b[0m\u001b[1;33m)\u001b[0m\u001b[1;33m\u001b[0m\u001b[0m\n\u001b[0m\u001b[1;32m   2116\u001b[0m             \u001b[1;32mreturn\u001b[0m \u001b[0mresult\u001b[0m\u001b[1;33m\u001b[0m\u001b[0m\n\u001b[1;32m   2117\u001b[0m \u001b[1;33m\u001b[0m\u001b[0m\n",
      "\u001b[0;32m<decorator-gen-60>\u001b[0m in \u001b[0;36mtime\u001b[0;34m(self, line, cell, local_ns)\u001b[0m\n",
      "\u001b[0;32mC:\\Users\\glede\\Anaconda3\\lib\\site-packages\\IPython\\core\\magic.py\u001b[0m in \u001b[0;36m<lambda>\u001b[0;34m(f, *a, **k)\u001b[0m\n\u001b[1;32m    186\u001b[0m     \u001b[1;31m# but it's overkill for just that one bit of state.\u001b[0m\u001b[1;33m\u001b[0m\u001b[1;33m\u001b[0m\u001b[0m\n\u001b[1;32m    187\u001b[0m     \u001b[1;32mdef\u001b[0m \u001b[0mmagic_deco\u001b[0m\u001b[1;33m(\u001b[0m\u001b[0marg\u001b[0m\u001b[1;33m)\u001b[0m\u001b[1;33m:\u001b[0m\u001b[1;33m\u001b[0m\u001b[0m\n\u001b[0;32m--> 188\u001b[0;31m         \u001b[0mcall\u001b[0m \u001b[1;33m=\u001b[0m \u001b[1;32mlambda\u001b[0m \u001b[0mf\u001b[0m\u001b[1;33m,\u001b[0m \u001b[1;33m*\u001b[0m\u001b[0ma\u001b[0m\u001b[1;33m,\u001b[0m \u001b[1;33m**\u001b[0m\u001b[0mk\u001b[0m\u001b[1;33m:\u001b[0m \u001b[0mf\u001b[0m\u001b[1;33m(\u001b[0m\u001b[1;33m*\u001b[0m\u001b[0ma\u001b[0m\u001b[1;33m,\u001b[0m \u001b[1;33m**\u001b[0m\u001b[0mk\u001b[0m\u001b[1;33m)\u001b[0m\u001b[1;33m\u001b[0m\u001b[0m\n\u001b[0m\u001b[1;32m    189\u001b[0m \u001b[1;33m\u001b[0m\u001b[0m\n\u001b[1;32m    190\u001b[0m         \u001b[1;32mif\u001b[0m \u001b[0mcallable\u001b[0m\u001b[1;33m(\u001b[0m\u001b[0marg\u001b[0m\u001b[1;33m)\u001b[0m\u001b[1;33m:\u001b[0m\u001b[1;33m\u001b[0m\u001b[0m\n",
      "\u001b[0;32mC:\\Users\\glede\\Anaconda3\\lib\\site-packages\\IPython\\core\\magics\\execution.py\u001b[0m in \u001b[0;36mtime\u001b[0;34m(self, line, cell, local_ns)\u001b[0m\n\u001b[1;32m   1178\u001b[0m         \u001b[1;32melse\u001b[0m\u001b[1;33m:\u001b[0m\u001b[1;33m\u001b[0m\u001b[0m\n\u001b[1;32m   1179\u001b[0m             \u001b[0mst\u001b[0m \u001b[1;33m=\u001b[0m \u001b[0mclock2\u001b[0m\u001b[1;33m(\u001b[0m\u001b[1;33m)\u001b[0m\u001b[1;33m\u001b[0m\u001b[0m\n\u001b[0;32m-> 1180\u001b[0;31m             \u001b[0mexec\u001b[0m\u001b[1;33m(\u001b[0m\u001b[0mcode\u001b[0m\u001b[1;33m,\u001b[0m \u001b[0mglob\u001b[0m\u001b[1;33m,\u001b[0m \u001b[0mlocal_ns\u001b[0m\u001b[1;33m)\u001b[0m\u001b[1;33m\u001b[0m\u001b[0m\n\u001b[0m\u001b[1;32m   1181\u001b[0m             \u001b[0mend\u001b[0m \u001b[1;33m=\u001b[0m \u001b[0mclock2\u001b[0m\u001b[1;33m(\u001b[0m\u001b[1;33m)\u001b[0m\u001b[1;33m\u001b[0m\u001b[0m\n\u001b[1;32m   1182\u001b[0m             \u001b[0mout\u001b[0m \u001b[1;33m=\u001b[0m \u001b[1;32mNone\u001b[0m\u001b[1;33m\u001b[0m\u001b[0m\n",
      "\u001b[0;32m<timed exec>\u001b[0m in \u001b[0;36m<module>\u001b[0;34m()\u001b[0m\n",
      "\u001b[0;32mD:\\Users\\glede\\Desktop\\EPFL\\PCML_Project_1\\submission\\functions\\helpers_run.py\u001b[0m in \u001b[0;36mcross_validation\u001b[0;34m(TRAINING_DATA, verbose)\u001b[0m\n\u001b[1;32m    127\u001b[0m         min_loss, deg, lamb = cv(y_train, x_train,\n\u001b[1;32m    128\u001b[0m                                   \u001b[0mdegrees_lambdas\u001b[0m\u001b[1;33m,\u001b[0m \u001b[0mdegrees_poly\u001b[0m\u001b[1;33m,\u001b[0m\u001b[1;33m\u001b[0m\u001b[0m\n\u001b[0;32m--> 129\u001b[0;31m                                   k_fold, digits, verbose=verbose)\n\u001b[0m\u001b[1;32m    130\u001b[0m         \u001b[1;31m# Print some interesting values\u001b[0m\u001b[1;33m\u001b[0m\u001b[1;33m\u001b[0m\u001b[0m\n\u001b[1;32m    131\u001b[0m         \u001b[0mprint\u001b[0m\u001b[1;33m(\u001b[0m\u001b[1;34m\"  Max pred = %f\"\u001b[0m \u001b[1;33m%\u001b[0m \u001b[1;33m(\u001b[0m\u001b[1;36m1\u001b[0m \u001b[1;33m-\u001b[0m \u001b[0mmin_loss\u001b[0m\u001b[1;33m)\u001b[0m\u001b[1;33m)\u001b[0m\u001b[1;33m\u001b[0m\u001b[0m\n",
      "\u001b[0;32mD:\\Users\\glede\\Desktop\\EPFL\\PCML_Project_1\\submission\\functions\\helpers_run.py\u001b[0m in \u001b[0;36mcv\u001b[0;34m(y, tx, deg_lambdas, degrees, k_fold, digits, verbose, seed)\u001b[0m\n\u001b[1;32m    398\u001b[0m \u001b[1;33m\u001b[0m\u001b[0m\n\u001b[1;32m    399\u001b[0m         \u001b[1;31m# Create the matrices\u001b[0m\u001b[1;33m\u001b[0m\u001b[1;33m\u001b[0m\u001b[0m\n\u001b[0;32m--> 400\u001b[0;31m         \u001b[0mmats_train\u001b[0m\u001b[1;33m,\u001b[0m \u001b[0mpred_train\u001b[0m\u001b[1;33m,\u001b[0m \u001b[0mmats_test\u001b[0m\u001b[1;33m,\u001b[0m \u001b[0mpred_test\u001b[0m \u001b[1;33m=\u001b[0m \u001b[0mcreate_matrices\u001b[0m\u001b[1;33m(\u001b[0m\u001b[0my\u001b[0m\u001b[1;33m,\u001b[0m \u001b[0mtx\u001b[0m\u001b[1;33m,\u001b[0m \u001b[0mk_indices\u001b[0m\u001b[1;33m,\u001b[0m \u001b[0mdeg\u001b[0m\u001b[1;33m)\u001b[0m\u001b[1;33m\u001b[0m\u001b[0m\n\u001b[0m\u001b[1;32m    401\u001b[0m \u001b[1;33m\u001b[0m\u001b[0m\n\u001b[1;32m    402\u001b[0m         \u001b[1;31m# First, we find the best lambdas in the first digit\u001b[0m\u001b[1;33m\u001b[0m\u001b[1;33m\u001b[0m\u001b[0m\n",
      "\u001b[0;32mD:\\Users\\glede\\Desktop\\EPFL\\PCML_Project_1\\submission\\functions\\helpers_run.py\u001b[0m in \u001b[0;36mcreate_matrices\u001b[0;34m(y, tx, k_indices, degree)\u001b[0m\n\u001b[1;32m    512\u001b[0m \u001b[1;33m\u001b[0m\u001b[0m\n\u001b[1;32m    513\u001b[0m         \u001b[1;31m# Build the polynomials functions\u001b[0m\u001b[1;33m\u001b[0m\u001b[1;33m\u001b[0m\u001b[0m\n\u001b[0;32m--> 514\u001b[0;31m         \u001b[0mtx_train\u001b[0m \u001b[1;33m=\u001b[0m \u001b[0mbuild_poly_cross_terms\u001b[0m\u001b[1;33m(\u001b[0m\u001b[0mtx_train\u001b[0m\u001b[1;33m,\u001b[0m \u001b[0mdegree\u001b[0m\u001b[1;33m)\u001b[0m\u001b[1;33m\u001b[0m\u001b[0m\n\u001b[0m\u001b[1;32m    515\u001b[0m         \u001b[0mtx_test\u001b[0m \u001b[1;33m=\u001b[0m \u001b[0mbuild_poly_cross_terms\u001b[0m\u001b[1;33m(\u001b[0m\u001b[0mtx_test\u001b[0m\u001b[1;33m,\u001b[0m \u001b[0mdegree\u001b[0m\u001b[1;33m)\u001b[0m\u001b[1;33m\u001b[0m\u001b[0m\n\u001b[1;32m    516\u001b[0m \u001b[1;33m\u001b[0m\u001b[0m\n",
      "\u001b[0;32mD:\\Users\\glede\\Desktop\\EPFL\\PCML_Project_1\\submission\\functions\\helpers_run.py\u001b[0m in \u001b[0;36mbuild_poly_cross_terms\u001b[0;34m(x, degree, ct, sqrt, square)\u001b[0m\n\u001b[1;32m    308\u001b[0m         \u001b[1;32mfor\u001b[0m \u001b[0mj\u001b[0m \u001b[1;32min\u001b[0m \u001b[0mrange\u001b[0m\u001b[1;33m(\u001b[0m\u001b[0mnbr_param\u001b[0m\u001b[1;33m)\u001b[0m\u001b[1;33m:\u001b[0m\u001b[1;33m\u001b[0m\u001b[0m\n\u001b[1;32m    309\u001b[0m             \u001b[1;32mfor\u001b[0m \u001b[0mk\u001b[0m \u001b[1;32min\u001b[0m \u001b[0mrange\u001b[0m\u001b[1;33m(\u001b[0m\u001b[0mdegree\u001b[0m \u001b[1;33m+\u001b[0m \u001b[1;36m1\u001b[0m\u001b[1;33m)\u001b[0m\u001b[1;33m:\u001b[0m\u001b[1;33m\u001b[0m\u001b[0m\n\u001b[0;32m--> 310\u001b[0;31m                 \u001b[0mmat\u001b[0m\u001b[1;33m[\u001b[0m\u001b[1;33m:\u001b[0m\u001b[1;33m,\u001b[0m \u001b[0mj\u001b[0m \u001b[1;33m*\u001b[0m \u001b[1;33m(\u001b[0m\u001b[0mdegree\u001b[0m \u001b[1;33m+\u001b[0m \u001b[1;36m1\u001b[0m\u001b[1;33m)\u001b[0m \u001b[1;33m+\u001b[0m \u001b[0mk\u001b[0m\u001b[1;33m]\u001b[0m \u001b[1;33m=\u001b[0m \u001b[0mx\u001b[0m\u001b[1;33m[\u001b[0m\u001b[1;33m:\u001b[0m\u001b[1;33m,\u001b[0m \u001b[0mj\u001b[0m\u001b[1;33m]\u001b[0m \u001b[1;33m**\u001b[0m \u001b[0mk\u001b[0m\u001b[1;33m\u001b[0m\u001b[0m\n\u001b[0m\u001b[1;32m    311\u001b[0m \u001b[1;33m\u001b[0m\u001b[0m\n\u001b[1;32m    312\u001b[0m         \u001b[1;31m# Prepare for the cross-terms\u001b[0m\u001b[1;33m\u001b[0m\u001b[1;33m\u001b[0m\u001b[0m\n",
      "\u001b[0;31mKeyboardInterrupt\u001b[0m: "
     ]
    }
   ],
   "source": [
    "%%time\n",
    "perc_right_pred, degree_star, lambda_star = cross_validation(TRAINING_DATA, verbose=True)\n",
    "print(u'Percentage of right pred on training set: {0:f}'.format(perc_right_pred))\n",
    "print('degree_star = ', degree_star)\n",
    "print('lambda_star = ', lambda_star)"
   ]
  },
  {
   "cell_type": "code",
   "execution_count": 4,
   "metadata": {
    "collapsed": false
   },
   "outputs": [],
   "source": [
    "degree_star = [12, 9, 7, 9, 10, 10, 8, 9]\n",
    "lambda_star = [9e-06, 0.0212, 1.65e-05, 0.00027, 2.42e-06, 0.000309, 4e-05, 3.63e-10]"
   ]
  },
  {
   "cell_type": "markdown",
   "metadata": {},
   "source": [
    "## Training\n",
    "\n",
    "Next step is to train the data. First, we defined some hardcoded booleans. They were tested by hand as explained in the report. The training is quite fast."
   ]
  },
  {
   "cell_type": "code",
   "execution_count": 18,
   "metadata": {
    "collapsed": false,
    "scrolled": false
   },
   "outputs": [
    {
     "name": "stdout",
     "output_type": "stream",
     "text": [
      "Training with file train_jet_0_wout_mass.csv\n",
      "-----------------------------------------------------\n",
      "  Good prediction: 95.142212\n",
      "Training with file train_jet_0_with_mass.csv\n",
      "-----------------------------------------------------\n",
      "  Good prediction: 81.403732\n",
      "Training with file train_jet_1_wout_mass.csv\n",
      "-----------------------------------------------------\n",
      "  Good prediction: 92.832584\n",
      "Training with file train_jet_1_with_mass.csv\n",
      "-----------------------------------------------------\n",
      "  Good prediction: 80.487840\n",
      "Training with file train_jet_2_wout_mass.csv\n",
      "-----------------------------------------------------\n",
      "  Good prediction: 94.681572\n",
      "Training with file train_jet_2_with_mass.csv\n",
      "-----------------------------------------------------\n",
      "  Good prediction: 85.335357\n",
      "Training with file train_jet_3_wout_mass.csv\n",
      "-----------------------------------------------------\n",
      "  Good prediction: 97.833446\n",
      "Training with file train_jet_3_with_mass.csv\n",
      "-----------------------------------------------------\n",
      "  Good prediction: 84.695703\n",
      "\n",
      "In total, there was 84.200737% of good predictions on the training set.\n",
      "\n"
     ]
    }
   ],
   "source": [
    "# Booleans for the cross-terms\n",
    "ct = [False, True, False, True, True, True, False, True]\n",
    "sqrt = [True, True, True, True, False, True, False, True]\n",
    "square = [False, True, False, True, False, True, True, False]\n",
    "\n",
    "weights, prediction_train = training(TRAINING_DATA, degree_star, lambda_star, ct, sqrt, square)\n",
    "print(u'\\nIn total, there was {0:2f}% of good predictions on the training set.\\n'.format(prediction_train))\n"
   ]
  },
  {
   "cell_type": "markdown",
   "metadata": {},
   "source": [
    "## Testing\n",
    "\n",
    "Now, we just need to apply the weights on the test data and create the Kaggle submission."
   ]
  },
  {
   "cell_type": "code",
   "execution_count": 19,
   "metadata": {
    "collapsed": false,
    "scrolled": false
   },
   "outputs": [
    {
     "name": "stdout",
     "output_type": "stream",
     "text": [
      "Testing with file test_jet_0_wout_mass.csv\n",
      "-----------------------------------------------------\n",
      "Testing with file test_jet_0_with_mass.csv\n",
      "-----------------------------------------------------\n",
      "Testing with file test_jet_1_wout_mass.csv\n",
      "-----------------------------------------------------\n",
      "Testing with file test_jet_1_with_mass.csv\n",
      "-----------------------------------------------------\n",
      "Testing with file test_jet_2_wout_mass.csv\n",
      "-----------------------------------------------------\n",
      "Testing with file test_jet_2_with_mass.csv\n",
      "-----------------------------------------------------\n",
      "Testing with file test_jet_3_wout_mass.csv\n",
      "-----------------------------------------------------\n",
      "Testing with file test_jet_3_with_mass.csv\n",
      "-----------------------------------------------------\n",
      "Concatenate the predictions.\n",
      "  0/568238 concatenated\n",
      "  100000/568238 concatenated\n",
      "  200000/568238 concatenated\n",
      "  300000/568238 concatenated\n",
      "  400000/568238 concatenated\n",
      "  500000/568238 concatenated\n",
      "Data are ready to be submitted!\n"
     ]
    }
   ],
   "source": [
    "test(TESTING_DATA, degree_star, ct, sqrt, square, weights, 'RR_8models_10foldCV_CT.csv')"
   ]
  },
  {
   "cell_type": "code",
   "execution_count": null,
   "metadata": {
    "collapsed": true
   },
   "outputs": [],
   "source": []
  }
 ],
 "metadata": {
  "anaconda-cloud": {},
  "kernelspec": {
   "display_name": "Python [conda root]",
   "language": "python",
   "name": "conda-root-py"
  },
  "language_info": {
   "codemirror_mode": {
    "name": "ipython",
    "version": 3
   },
   "file_extension": ".py",
   "mimetype": "text/x-python",
   "name": "python",
   "nbconvert_exporter": "python",
   "pygments_lexer": "ipython3",
   "version": "3.5.2"
  }
 },
 "nbformat": 4,
 "nbformat_minor": 1
}

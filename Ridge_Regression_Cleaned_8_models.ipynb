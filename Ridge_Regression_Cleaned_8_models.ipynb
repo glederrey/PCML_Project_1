{
 "cells": [
  {
   "cell_type": "markdown",
   "metadata": {},
   "source": [
    "# ML with Ridge Regression (8 models)\n",
    "\n",
    "In this notebook, we will use the functions in the file ridge_regression.py. This time, we will use the 8 data sets and see if the prediction becomes better."
   ]
  },
  {
   "cell_type": "code",
   "execution_count": 6,
   "metadata": {
    "collapsed": false
   },
   "outputs": [
    {
     "name": "stdout",
     "output_type": "stream",
     "text": [
      "The autoreload extension is already loaded. To reload it, use:\n",
      "  %reload_ext autoreload\n"
     ]
    }
   ],
   "source": [
    "# Useful starting lines\n",
    "%matplotlib inline\n",
    "import numpy as np\n",
    "import matplotlib.pyplot as plt\n",
    "%load_ext autoreload\n",
    "%autoreload 2\n",
    "from IPython import display\n",
    "# Import everything in the functions folder\n",
    "from functions.costs import *\n",
    "from functions.helpers import *\n",
    "from functions.split import *\n",
    "from functions.ridge_regression import *\n",
    "from functions.helpers import *\n",
    "from functions.least_squares_GD import *"
   ]
  },
  {
   "cell_type": "markdown",
   "metadata": {},
   "source": [
    "## Jet 0 (with mass)"
   ]
  },
  {
   "cell_type": "code",
   "execution_count": 20,
   "metadata": {
    "collapsed": true
   },
   "outputs": [],
   "source": [
    "DATA_TRAIN_PATH = 'data/train_jet_0_wout_mass.csv' \n",
    "y_0_m, tX_0_m, ids_0_m = load_csv_data(DATA_TRAIN_PATH)\n",
    "#tX_0_m, _, _ = standardize(tX_0_m)"
   ]
  },
  {
   "cell_type": "markdown",
   "metadata": {},
   "source": [
    "We do a 5-fold cross validation to find the best lambda and best degree"
   ]
  },
  {
   "cell_type": "code",
   "execution_count": 21,
   "metadata": {
    "collapsed": false,
    "scrolled": false
   },
   "outputs": [
    {
     "name": "stdout",
     "output_type": "stream",
     "text": [
      "Start the 5-fold Cross Validation!\n",
      "Start degree 1\n",
      "  Start for digit 1\n",
      "    Power of lambda: -10\n",
      "    Power of lambda: -9\n",
      "    Power of lambda: -8\n",
      "    Power of lambda: -7\n",
      "    Power of lambda: -6\n",
      "    Power of lambda: -5\n",
      "    Power of lambda: -4\n",
      "    Power of lambda: -3\n",
      "    Power of lambda: -2\n",
      "    Power of lambda: -1\n",
      "    Power of lambda: 0\n",
      "    Power of lambda: 1\n",
      "    Power of lambda: 2\n",
      "    Power of lambda: 3\n",
      "    Power of lambda: 4\n",
      "  Start for digit 2\n",
      "  Start for digit 3\n",
      "Finished Degree 1. Best lambda is  1.000e-10 with percentage wrong pred 0.058576\n",
      "--------------------\n",
      "Start degree 2\n",
      "  Start for digit 1\n",
      "    Power of lambda: -10\n",
      "    Power of lambda: -9\n",
      "    Power of lambda: -8\n",
      "    Power of lambda: -7\n",
      "    Power of lambda: -6\n",
      "    Power of lambda: -5\n",
      "    Power of lambda: -4\n",
      "    Power of lambda: -3\n",
      "    Power of lambda: -2\n",
      "    Power of lambda: -1\n",
      "    Power of lambda: 0\n",
      "    Power of lambda: 1\n",
      "    Power of lambda: 2\n",
      "    Power of lambda: 3\n",
      "    Power of lambda: 4\n",
      "  Start for digit 2\n",
      "  Start for digit 3\n",
      "Finished Degree 2. Best lambda is  5.230e+01 with percentage wrong pred 0.053216\n",
      "--------------------\n",
      "Start degree 3\n",
      "  Start for digit 1\n",
      "    Power of lambda: -10\n",
      "    Power of lambda: -9\n",
      "    Power of lambda: -8\n",
      "    Power of lambda: -7\n",
      "    Power of lambda: -6\n",
      "    Power of lambda: -5\n",
      "    Power of lambda: -4\n",
      "    Power of lambda: -3\n",
      "    Power of lambda: -2\n",
      "    Power of lambda: -1\n",
      "    Power of lambda: 0\n",
      "    Power of lambda: 1\n",
      "    Power of lambda: 2\n",
      "    Power of lambda: 3\n",
      "    Power of lambda: 4\n",
      "  Start for digit 2\n",
      "  Start for digit 3\n",
      "Finished Degree 3. Best lambda is  3.710e-04 with percentage wrong pred 0.052450\n",
      "--------------------\n",
      "Start degree 4\n",
      "  Start for digit 1\n",
      "    Power of lambda: -10\n",
      "    Power of lambda: -9\n",
      "    Power of lambda: -8\n",
      "    Power of lambda: -7\n",
      "    Power of lambda: -6\n",
      "    Power of lambda: -5\n",
      "    Power of lambda: -4\n",
      "    Power of lambda: -3\n",
      "    Power of lambda: -2\n",
      "    Power of lambda: -1\n",
      "    Power of lambda: 0\n",
      "    Power of lambda: 1\n",
      "    Power of lambda: 2\n",
      "    Power of lambda: 3\n",
      "    Power of lambda: 4\n",
      "  Start for digit 2\n",
      "  Start for digit 3\n",
      "Finished Degree 4. Best lambda is  2.340e-02 with percentage wrong pred 0.050345\n",
      "--------------------\n",
      "Start degree 5\n",
      "  Start for digit 1\n",
      "    Power of lambda: -10\n",
      "    Power of lambda: -9\n",
      "    Power of lambda: -8\n",
      "    Power of lambda: -7\n",
      "    Power of lambda: -6\n",
      "    Power of lambda: -5\n",
      "    Power of lambda: -4\n",
      "    Power of lambda: -3\n",
      "    Power of lambda: -2\n",
      "    Power of lambda: -1\n",
      "    Power of lambda: 0\n",
      "    Power of lambda: 1\n",
      "    Power of lambda: 2\n",
      "    Power of lambda: 3\n",
      "    Power of lambda: 4\n",
      "  Start for digit 2\n",
      "  Start for digit 3\n",
      "Finished Degree 5. Best lambda is  3.770e+03 with percentage wrong pred 0.050727\n",
      "--------------------\n",
      "Start degree 6\n",
      "  Start for digit 1\n",
      "    Power of lambda: -10\n",
      "    Power of lambda: -9\n",
      "    Power of lambda: -8\n",
      "    Power of lambda: -7\n",
      "    Power of lambda: -6\n",
      "    Power of lambda: -5\n",
      "    Power of lambda: -4\n",
      "    Power of lambda: -3\n",
      "    Power of lambda: -2\n",
      "    Power of lambda: -1\n",
      "    Power of lambda: 0\n",
      "    Power of lambda: 1\n",
      "    Power of lambda: 2\n",
      "    Power of lambda: 3\n",
      "    Power of lambda: 4\n",
      "  Start for digit 2\n",
      "  Start for digit 3\n",
      "Finished Degree 6. Best lambda is  9.935e+01 with percentage wrong pred 0.051110\n",
      "--------------------\n",
      "Start degree 7\n",
      "  Start for digit 1\n",
      "    Power of lambda: -10\n",
      "    Power of lambda: -9\n",
      "    Power of lambda: -8\n",
      "    Power of lambda: -7\n",
      "    Power of lambda: -6\n",
      "    Power of lambda: -5\n",
      "    Power of lambda: -4\n",
      "    Power of lambda: -3\n",
      "    Power of lambda: -2\n",
      "    Power of lambda: -1\n",
      "    Power of lambda: 0\n",
      "    Power of lambda: 1\n",
      "    Power of lambda: 2\n",
      "    Power of lambda: 3\n",
      "    Power of lambda: 4\n",
      "  Start for digit 2\n",
      "  Start for digit 3\n",
      "Finished Degree 7. Best lambda is  6.000e-05 with percentage wrong pred 0.051493\n",
      "--------------------\n",
      "Start degree 8\n",
      "  Start for digit 1\n",
      "    Power of lambda: -10\n",
      "    Power of lambda: -9\n",
      "    Power of lambda: -8\n",
      "    Power of lambda: -7\n",
      "    Power of lambda: -6\n",
      "    Power of lambda: -5\n",
      "    Power of lambda: -4\n",
      "    Power of lambda: -3\n",
      "    Power of lambda: -2\n",
      "    Power of lambda: -1\n",
      "    Power of lambda: 0\n",
      "    Power of lambda: 1\n",
      "    Power of lambda: 2\n",
      "    Power of lambda: 3\n",
      "    Power of lambda: 4\n",
      "  Start for digit 2\n",
      "  Start for digit 3\n",
      "Finished Degree 8. Best lambda is  1.700e-04 with percentage wrong pred 0.050536\n",
      "--------------------\n",
      "Start degree 9\n",
      "  Start for digit 1\n",
      "    Power of lambda: -10\n",
      "    Power of lambda: -9\n",
      "    Power of lambda: -8\n",
      "    Power of lambda: -7\n",
      "    Power of lambda: -6\n",
      "    Power of lambda: -5\n",
      "    Power of lambda: -4\n",
      "    Power of lambda: -3\n",
      "    Power of lambda: -2\n",
      "    Power of lambda: -1\n",
      "    Power of lambda: 0\n",
      "    Power of lambda: 1\n",
      "    Power of lambda: 2\n",
      "    Power of lambda: 3\n",
      "    Power of lambda: 4\n",
      "  Start for digit 2\n",
      "  Start for digit 3\n",
      "Finished Degree 9. Best lambda is  4.310e-04 with percentage wrong pred 0.049579\n",
      "--------------------\n",
      "5-fold Cross Validation finished!\n",
      "\n",
      "Min Loss = 0.049579\n",
      "Lambda* =  4.310e-04\n",
      "Degree* = 9\n"
     ]
    }
   ],
   "source": [
    "degrees = np.arange(1, 10) \n",
    "deg_lambdas = np.arange(-10, 5)\n",
    "\n",
    "min_loss_0_m, degree_star_0_m, lambda_star_0_m = cross_validation(y_0_m, tX_0_m, \n",
    "                                            deg_lambdas, degrees, k_fold=5, digits=3)\n",
    "\n",
    "print(\"Min Loss = %f\"%min_loss_0_m)\n",
    "print(\"Lambda* = %10.3e\"%lambda_star_0_m)\n",
    "print(\"Degree* = %i\"%degree_star_0_m)    "
   ]
  },
  {
   "cell_type": "code",
   "execution_count": 22,
   "metadata": {
    "collapsed": true
   },
   "outputs": [],
   "source": [
    "# Just to avoid retraining =)\n",
    "#lambda_star_0_m = 6.5e-1\n",
    "#degree_star_0_m = 7"
   ]
  },
  {
   "cell_type": "markdown",
   "metadata": {},
   "source": [
    "We can split the data just to see if we have a good prediction."
   ]
  },
  {
   "cell_type": "code",
   "execution_count": 23,
   "metadata": {
    "collapsed": true
   },
   "outputs": [],
   "source": [
    "ratio = 0.8\n",
    "x_train_0, y_train_0, x_test_0, y_test_0 = split_data(tX_0_m, y_0_m, ratio)"
   ]
  },
  {
   "cell_type": "markdown",
   "metadata": {},
   "source": [
    "Now, that we have the best degree and best lambda, we can do the Ridge Regression and get the best weights. "
   ]
  },
  {
   "cell_type": "code",
   "execution_count": 24,
   "metadata": {
    "collapsed": false
   },
   "outputs": [
    {
     "name": "stdout",
     "output_type": "stream",
     "text": [
      "Polynomials done\n",
      "Loss = 0.420310\n"
     ]
    }
   ],
   "source": [
    "# Build poly first\n",
    "tX_train_0 = build_poly(x_train_0, degree_star_0_m)\n",
    "tX_test_0 = build_poly(x_test_0, degree_star_0_m)\n",
    "print(\"Polynomials done\")\n",
    "\n",
    "# Ridge Regression\n",
    "loss_0, w_star_0 = ridge_regression(y_train_0, tX_train_0, lambda_star_0_m)\n",
    "print(\"Loss = %f\"%(loss_0))"
   ]
  },
  {
   "cell_type": "code",
   "execution_count": 25,
   "metadata": {
    "collapsed": false
   },
   "outputs": [
    {
     "name": "stdout",
     "output_type": "stream",
     "text": [
      "Good prediction: 4970/5225 (95.119617%)\n",
      "Wrong prediction: 255/5225 (4.880383%)\n"
     ]
    }
   ],
   "source": [
    "prediction(y_test_0, tX_test_0, w_star_0)"
   ]
  },
  {
   "cell_type": "markdown",
   "metadata": {},
   "source": [
    "Retrain on all the train data"
   ]
  },
  {
   "cell_type": "code",
   "execution_count": null,
   "metadata": {
    "collapsed": true
   },
   "outputs": [],
   "source": [
    "tX_poly_0_m = build_poly(tX_0_m, degree_star_0_m)\n",
    "loss_0_m, w_star_0_m = ridge_regression(y_0, tX_poly_0_m, lambda_star_0_m)\n",
    "print(\"Loss = %f\"%(loss_0_m))"
   ]
  },
  {
   "cell_type": "markdown",
   "metadata": {},
   "source": [
    "Load the test data and predict."
   ]
  },
  {
   "cell_type": "code",
   "execution_count": null,
   "metadata": {
    "collapsed": true
   },
   "outputs": [],
   "source": [
    "DATA_TEST_PATH = 'data/test_jet_0_with_mass.csv' # TODO: download train data and supply path here \n",
    "_, tX_test_0_m, ids_test_0_m = load_csv_data(DATA_TEST_PATH)\n",
    "tX_test_0_m, _, _ = standardize(tX_test_0_m)\n",
    "tX_test_poly_0_m = build_poly(tX_test_0_m, degree_star_0_m)\n",
    "\n",
    "y_pred_0_m = predict_labels(w_star_0_m, tX_test_poly_0_m)"
   ]
  }
 ],
 "metadata": {
  "anaconda-cloud": {},
  "kernelspec": {
   "display_name": "Python [conda root]",
   "language": "python",
   "name": "conda-root-py"
  },
  "language_info": {
   "codemirror_mode": {
    "name": "ipython",
    "version": 3
   },
   "file_extension": ".py",
   "mimetype": "text/x-python",
   "name": "python",
   "nbconvert_exporter": "python",
   "pygments_lexer": "ipython3",
   "version": "3.5.2"
  }
 },
 "nbformat": 4,
 "nbformat_minor": 1
}

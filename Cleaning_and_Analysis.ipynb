{
 "cells": [
  {
   "cell_type": "code",
   "execution_count": 1,
   "metadata": {
    "collapsed": false
   },
   "outputs": [],
   "source": [
    "# Useful starting lines\n",
    "%matplotlib inline\n",
    "import numpy as np\n",
    "import matplotlib.pyplot as plt\n",
    "%load_ext autoreload\n",
    "%autoreload 2\n",
    "from IPython import display\n",
    "# Import everything in the functions folder\n",
    "from functions.helpers import *\n",
    "from functions.clean_data import *\n",
    "from functions.least_squares import *\n",
    "from functions.split import *\n",
    "from functions.pca import *\n",
    "from functions.helpers import *"
   ]
  },
  {
   "cell_type": "markdown",
   "metadata": {},
   "source": [
    "# Cleaning and Analysis #2\n",
    "\n",
    "In the notebook `Cleaning_and_Analysis_Simple` we tried to remove columns or change the NaNs with the mean value or the median. But we saw that if we don't study the data correctly, it doesn't work that well. So, in this notebook, we will first study the data. \n",
    "\n",
    "## Study of the data\n",
    "\n",
    "First, we load the training data. (We'll test our hypothesis on the test data later."
   ]
  },
  {
   "cell_type": "code",
   "execution_count": 2,
   "metadata": {
    "collapsed": false
   },
   "outputs": [],
   "source": [
    "DATA_TRAIN_PATH = 'data/train.csv' \n",
    "_, _, _, headers = load_data(DATA_TRAIN_PATH)\n",
    "y, tX, ids = load_csv_data(DATA_TRAIN_PATH)"
   ]
  },
  {
   "cell_type": "markdown",
   "metadata": {},
   "source": [
    "Since we never checked what the data look like, it would be a good idea to use an histogram on all the columns to get an idea about each of the variables."
   ]
  },
  {
   "cell_type": "code",
   "execution_count": 3,
   "metadata": {
    "collapsed": false
   },
   "outputs": [
    {
     "name": "stdout",
     "output_type": "stream",
     "text": [
      "Number of variables: 30\n"
     ]
    },
    {
     "data": {
      "text/plain": [
       "'\\nfor i in range(len(tX[0])):\\n    array = tX[:,i]\\n    n, bins, patches = plt.hist(array[array != -999], 50)\\n    plt.title(\"Variable %i: %s\"%(i, headers[i+2]))\\n    plt.show()\\n'"
      ]
     },
     "execution_count": 3,
     "metadata": {},
     "output_type": "execute_result"
    }
   ],
   "source": [
    "nbr_param = len(tX[0])\n",
    "print(\"Number of variables: %i\"%(nbr_param))\n",
    "\n",
    "# Plot the histograms\n",
    "\"\"\"\n",
    "for i in range(len(tX[0])):\n",
    "    array = tX[:,i]\n",
    "    n, bins, patches = plt.hist(array[array != -999], 50)\n",
    "    plt.title(\"Variable %i: %s\"%(i, headers[i+2]))\n",
    "    plt.show()\n",
    "\"\"\""
   ]
  },
  {
   "cell_type": "markdown",
   "metadata": {
    "collapsed": true
   },
   "source": [
    "We have a lot of interesting histograms. We can see different kind of distributions. But one of the most interesting histogram is the one with `PRI_jet_num`. Indeed, we have only four values available and this can be explained easily. When particles collide (especially heavy ion or quark or gluon), they can create a cone of hadrons (or other particles) called **jet**. We also see that the next histograms are about angles. But if we have 0 or 1 jet, then we won't have any angle. So, let's check the percentage of data with jet equals to 0 or to 1."
   ]
  },
  {
   "cell_type": "code",
   "execution_count": 4,
   "metadata": {
    "collapsed": false
   },
   "outputs": [
    {
     "name": "stdout",
     "output_type": "stream",
     "text": [
      "Percentage of 0 or 1 jet: 0.709828\n"
     ]
    }
   ],
   "source": [
    "nbr_jets = tX[:,22]\n",
    "perc_zero_one_jet = (len(nbr_jets[nbr_jets == 0]) + \n",
    "                     len(nbr_jets[nbr_jets == 1])) / len(nbr_jets)\n",
    "print(\"Percentage of 0 or 1 jet: %f\"%perc_zero_one_jet)"
   ]
  },
  {
   "cell_type": "markdown",
   "metadata": {},
   "source": [
    "And now we see a really interesting result. In the notebook `Cleaning_and_Analysis_Simple`, we saw that some columns has around 70% of missing values. These missing values then correspond to the 0 or 1 jet. So, let's cut the matrix of parameters into four matrices, one for each jet."
   ]
  },
  {
   "cell_type": "code",
   "execution_count": 5,
   "metadata": {
    "collapsed": false
   },
   "outputs": [],
   "source": [
    "tX_jet_0 = tX[tX[:,22] == 0]\n",
    "tX_jet_1 = tX[tX[:,22] == 1]\n",
    "tX_jet_2 = tX[tX[:,22] == 2]\n",
    "tX_jet_3 = tX[tX[:,22] == 3]\n",
    "\n",
    "# Remove the column 22 with only 1 value\n",
    "tX_jet_0 = np.delete(tX_jet_0, 22, 1)\n",
    "tX_jet_1 = np.delete(tX_jet_1, 22, 1)\n",
    "tX_jet_2 = np.delete(tX_jet_2, 22, 1)\n",
    "tX_jet_3 = np.delete(tX_jet_3, 22, 1)\n",
    "\n",
    "# Remove column in header\n",
    "headers_jet_0 = np.delete(headers, 24)\n",
    "headers_jet_1 = np.delete(headers, 24)\n",
    "headers_jet_2 = np.delete(headers, 24)\n",
    "headers_jet_3 = np.delete(headers, 24)"
   ]
  },
  {
   "cell_type": "markdown",
   "metadata": {},
   "source": [
    "Now, we can check which column contains NaN and which columns contains **only** NaN for each jet."
   ]
  },
  {
   "cell_type": "code",
   "execution_count": 6,
   "metadata": {
    "collapsed": false
   },
   "outputs": [
    {
     "name": "stdout",
     "output_type": "stream",
     "text": [
      "jet_0 (Perc NaN): \n",
      "  26123 (26%) <- DER_mass_MMC\n",
      "  99913 (100%) <- DER_deltaeta_jet_jet\n",
      "  99913 (100%) <- DER_mass_jet_jet\n",
      "  99913 (100%) <- DER_prodeta_jet_jet\n",
      "  99913 (100%) <- DER_lep_eta_centrality\n",
      "  99913 (100%) <- PRI_jet_leading_pt\n",
      "  99913 (100%) <- PRI_jet_leading_eta\n",
      "  99913 (100%) <- PRI_jet_leading_phi\n",
      "  99913 (100%) <- PRI_jet_subleading_pt\n",
      "  99913 (100%) <- PRI_jet_subleading_eta\n",
      "  99913 (100%) <- PRI_jet_subleading_phi\n",
      "jet_1 (Perc NaN): \n",
      "  7562 (9%) <- DER_mass_MMC\n",
      "  77544 (100%) <- DER_deltaeta_jet_jet\n",
      "  77544 (100%) <- DER_mass_jet_jet\n",
      "  77544 (100%) <- DER_prodeta_jet_jet\n",
      "  77544 (100%) <- DER_lep_eta_centrality\n",
      "  77544 (100%) <- PRI_jet_subleading_pt\n",
      "  77544 (100%) <- PRI_jet_subleading_eta\n",
      "  77544 (100%) <- PRI_jet_subleading_phi\n",
      "jet_2 (Perc NaN): \n",
      "  2952 (5%) <- DER_mass_MMC\n",
      "jet_3 (Perc NaN): \n",
      "  1477 (6%) <- DER_mass_MMC\n"
     ]
    }
   ],
   "source": [
    "nan_jet_0 = np.ones(len(tX_jet_0[0]), dtype=bool)\n",
    "header_nan_jet_0 = np.ones(len(tX_jet_0[0])+2, dtype=bool)\n",
    "print('jet_0 (Perc NaN): ')\n",
    "for i in range(len(tX_jet_0[0])):\n",
    "    array = tX_jet_0[:,i]\n",
    "    nbr_NaN = len(array[array == -999])\n",
    "    if (nbr_NaN == len(array)):\n",
    "        nan_jet_0[i] = False\n",
    "        header_nan_jet_0[i+2] = False\n",
    "    if(nbr_NaN > 0):\n",
    "        print('  %i (%i%%) <- %s'%(nbr_NaN, 100*nbr_NaN/len(array), \n",
    "                                   headers_jet_0[i+2]))\n",
    "        \n",
    "nan_jet_1 = np.ones(len(tX_jet_1[0]), dtype=bool)\n",
    "header_nan_jet_1 = np.ones(len(tX_jet_0[0])+2, dtype=bool)\n",
    "print('jet_1 (Perc NaN): ')\n",
    "for i in range(len(tX_jet_1[0])):\n",
    "    array = tX_jet_1[:,i]\n",
    "    nbr_NaN = len(array[array == -999])\n",
    "    if (nbr_NaN == len(array)):\n",
    "        nan_jet_1[i] = False \n",
    "        header_nan_jet_1[i+2] = False        \n",
    "    if(nbr_NaN > 0):\n",
    "        print('  %i (%i%%) <- %s'%(nbr_NaN, 100*nbr_NaN/len(array), \n",
    "                                   headers_jet_1[i+2])) \n",
    "        \n",
    "print('jet_2 (Perc NaN): ')\n",
    "for i in range(len(tX_jet_2[0])):\n",
    "    array = tX_jet_2[:,i]\n",
    "    nbr_NaN = len(array[array == -999])\n",
    "    if(nbr_NaN > 0):\n",
    "        print('  %i (%i%%) <- %s'%(nbr_NaN, 100*nbr_NaN/len(array), \n",
    "                                   headers_jet_2[i+2])) \n",
    "        \n",
    "print('jet_3 (Perc NaN): ')\n",
    "for i in range(len(tX_jet_3[0])):\n",
    "    array = tX_jet_3[:,i]\n",
    "    nbr_NaN = len(array[array == -999])\n",
    "    if(nbr_NaN > 0):\n",
    "        print('  %i (%i%%) <- %s'%(nbr_NaN, 100*nbr_NaN/len(array), \n",
    "                                   headers_jet_3[i+2])) \n",
    "    "
   ]
  },
  {
   "cell_type": "markdown",
   "metadata": {
    "collapsed": true
   },
   "source": [
    "This result is really interesting (again). If we go check the parameters with missing values in the `Cleaning_and_Analysis_Simple` notebook, we can have a look at the missing values for each kind of jets produced. \n",
    "\n",
    "**Missing for all jets**\n",
    "- DER_mass_MMC (~15%): We can find these missing values for each jet. So, we can imagine that the mass can be sometimes difficult to find due to experimental problems.\n",
    "\n",
    "**Missing for jet 0**\n",
    "- PRI_jet_leading_pt: `pt` corresponds to the *momentum that is perpendicular to the beamline of a particle detector*. So, it's logic that it's missing if no beam is created\n",
    "- PRI_jet_leading_eta: $\\eta$ corresponds to the pseudorapidity. So, it's normal it's missing when there's no beam created.\n",
    "- PRI_jet_leading_phi: $\\phi$ corresponds also to the pseudorapidity.\n",
    "\n",
    "**Missing for jet 0 and 1**\n",
    "The following parameters have something to do between two (or more) jets. Therefore it is normal that they are null when we only have zero or one jet.\n",
    "- DER_deltaeta_jet_jet\n",
    "- DER_mass_jet_jet\n",
    "- DER_prodeta_jet_jet\n",
    "- DER_lep_eta_centrality\n",
    "- PRI_jet_subleading_pt\n",
    "- PRI_jet_subleading_eta\n",
    "- PRI_jet_subleading_phi\n",
    "\n",
    "### Conclusion\n",
    "\n",
    "If we split our data set into four data sets, we can remove a lot of NaNs. We won't remove the NaNs due to the DER_mass_MMC because we won't have enough data."
   ]
  },
  {
   "cell_type": "markdown",
   "metadata": {},
   "source": [
    "## Checking if we can remove more columns\n",
    "\n",
    "To do this, we need the histogram again but this time, we will plot them by the four differents models (using different colors)"
   ]
  },
  {
   "cell_type": "code",
   "execution_count": 7,
   "metadata": {
    "collapsed": false
   },
   "outputs": [],
   "source": [
    "# Cut the predictions\n",
    "y_jet_0 = y[tX[:,22] == 0]\n",
    "y_jet_1 = y[tX[:,22] == 1]\n",
    "y_jet_2 = y[tX[:,22] == 2]\n",
    "y_jet_3 = y[tX[:,22] == 3]\n",
    "\n",
    "# Cut the labels\n",
    "ids_jet_0 = ids[tX[:,22] == 0]\n",
    "ids_jet_1 = ids[tX[:,22] == 1]\n",
    "ids_jet_2 = ids[tX[:,22] == 2]\n",
    "ids_jet_3 = ids[tX[:,22] == 3]"
   ]
  },
  {
   "cell_type": "code",
   "execution_count": 8,
   "metadata": {
    "collapsed": false,
    "scrolled": true
   },
   "outputs": [
    {
     "data": {
      "text/plain": [
       "'\\nfor i in range(len(tX[0])-1):\\n    f, ((ax1, ax2), (ax3, ax4)) = plt.subplots(2, 2)\\n    array = tX_jet_0[:,i]\\n    back = array[y_jet_0 == -1]\\n    boson = array[y_jet_0 == 1]\\n    ax1.hist(back[back != -999], 50, alpha=0.5, label=\\'0;-1\\')\\n    ax1.hist(boson[boson != -999], 50, alpha=0.5, label=\\'0;1\\')\\n    ax1.legend(loc=\\'upper right\\')\\n                                \\n    array = tX_jet_1[:,i]\\n    back = array[y_jet_1 == -1]\\n    boson = array[y_jet_1 == 1]\\n    ax2.hist(back[back != -999], 50, alpha=0.5, label=\\'1;-1\\')\\n    ax2.hist(boson[boson != -999], 50, alpha=0.5, label=\\'1;1\\')\\n    ax2.legend(loc=\\'upper right\\')\\n    \\n    array = tX_jet_2[:,i]\\n    back = array[y_jet_2 == -1]\\n    boson = array[y_jet_2 == 1]\\n    ax3.hist(back[back != -999], 50, alpha=0.5, label=\\'2;-1\\')\\n    ax3.hist(boson[boson != -999], 50, alpha=0.5, label=\\'2;1\\')\\n    ax3.legend(loc=\\'upper right\\')\\n    \\n    array = tX_jet_3[:,i]\\n    back = array[y_jet_3 == -1]\\n    boson = array[y_jet_3 == 1]\\n    ax4.hist(back[back != -999], 50, alpha=0.5, label=\\'3;-1\\')\\n    ax4.hist(boson[boson != -999], 50, alpha=0.5, label=\\'3;1\\') \\n    ax4.legend(loc=\\'upper right\\')\\n    \\n    ax1.set_title(\"Variable %i: %s\"%(i, headers[i+2]))\\n    plt.show()\\n'"
      ]
     },
     "execution_count": 8,
     "metadata": {},
     "output_type": "execute_result"
    }
   ],
   "source": [
    "# Plot the histograms (-1 is background, 1 is boson)\n",
    "\"\"\"\n",
    "for i in range(len(tX[0])-1):\n",
    "    f, ((ax1, ax2), (ax3, ax4)) = plt.subplots(2, 2)\n",
    "    array = tX_jet_0[:,i]\n",
    "    back = array[y_jet_0 == -1]\n",
    "    boson = array[y_jet_0 == 1]\n",
    "    ax1.hist(back[back != -999], 50, alpha=0.5, label='0;-1')\n",
    "    ax1.hist(boson[boson != -999], 50, alpha=0.5, label='0;1')\n",
    "    ax1.legend(loc='upper right')\n",
    "                                \n",
    "    array = tX_jet_1[:,i]\n",
    "    back = array[y_jet_1 == -1]\n",
    "    boson = array[y_jet_1 == 1]\n",
    "    ax2.hist(back[back != -999], 50, alpha=0.5, label='1;-1')\n",
    "    ax2.hist(boson[boson != -999], 50, alpha=0.5, label='1;1')\n",
    "    ax2.legend(loc='upper right')\n",
    "    \n",
    "    array = tX_jet_2[:,i]\n",
    "    back = array[y_jet_2 == -1]\n",
    "    boson = array[y_jet_2 == 1]\n",
    "    ax3.hist(back[back != -999], 50, alpha=0.5, label='2;-1')\n",
    "    ax3.hist(boson[boson != -999], 50, alpha=0.5, label='2;1')\n",
    "    ax3.legend(loc='upper right')\n",
    "    \n",
    "    array = tX_jet_3[:,i]\n",
    "    back = array[y_jet_3 == -1]\n",
    "    boson = array[y_jet_3 == 1]\n",
    "    ax4.hist(back[back != -999], 50, alpha=0.5, label='3;-1')\n",
    "    ax4.hist(boson[boson != -999], 50, alpha=0.5, label='3;1') \n",
    "    ax4.legend(loc='upper right')\n",
    "    \n",
    "    ax1.set_title(\"Variable %i: %s\"%(i, headers[i+2]))\n",
    "    plt.show()\n",
    "\"\"\""
   ]
  },
  {
   "cell_type": "markdown",
   "metadata": {},
   "source": [
    "We can see in the hist that:\n",
    "- Variable 1 has a different distribution between background and boson for jet 0 and jet 1\n",
    "- Variable 3 can be removed for jet 0 (outlier to be checked)\n",
    "- Variable 4 has a different distribution between background and boson for jet 2\n",
    "- Variable 7 has a different distribution between background and boson for jet 0\n",
    "- Variable 8 can be removed for jet 0 (outlier to be checked)\n",
    "- Variable 19 can be removed for jet 0 (outlier to be checked)\n",
    "- Variable 28 can be definitely removed for jet 0.\n",
    "\n",
    "### Remove outliers for jet 0\n"
   ]
  },
  {
   "cell_type": "code",
   "execution_count": 9,
   "metadata": {
    "collapsed": false
   },
   "outputs": [
    {
     "name": "stdout",
     "output_type": "stream",
     "text": [
      "[ 598.835  666.847  619.756  512.661  576.906  549.075  736.493  517.609\n",
      "  588.003  594.885  644.961  511.92   503.762  634.973  514.094  538.683\n",
      "  515.768  544.231  526.254  580.376  676.922  780.999  540.226  863.647\n",
      "  585.706  576.22   509.118  760.613  566.312  710.221  545.529  563.148\n",
      "  515.515  531.241  630.519  532.927  701.13   540.773  506.707  761.406\n",
      "  754.009  787.614  684.819  820.122  721.81   732.453  820.052  728.231\n",
      "  523.114  562.398  540.395  542.313  506.851  674.597  521.58   562.268\n",
      "  503.624  508.938  668.83   575.012  531.22   651.064  656.827  636.938\n",
      "  535.484  659.568  596.693  524.815  579.026  539.563  808.817  606.771\n",
      "  625.895  501.554]\n",
      "[102335 102588 110522 113167 114002 117779 118128 119023 121898 131229\n",
      " 135983 136129 142109 145067 151932 152831 152856 158541 161936 166217\n",
      " 167109 172821 177683 178992 179120 179244 183018 183600 184377 189480\n",
      " 191848 193596 196573 211093 213984 217740 231230 242051 243513 246775\n",
      " 248015 250286 250862 253537 260569 263352 266451 268802 269674 271979\n",
      " 274795 275976 277675 280866 288250 291533 291802 293837 299471 300991\n",
      " 301413 305968 306733 308080 319463 320693 321787 324850 332953 339169\n",
      " 340096 345852 348705 349282]\n"
     ]
    }
   ],
   "source": [
    "# Variable 0\n",
    "print(tX_jet_0[tX_jet_0[:,0] > 500][:,0]) \n",
    "print(ids_jet_0[tX_jet_0[:,0] > 500])\n",
    "# Don't remove anything here"
   ]
  },
  {
   "cell_type": "code",
   "execution_count": 10,
   "metadata": {
    "collapsed": false
   },
   "outputs": [
    {
     "name": "stdout",
     "output_type": "stream",
     "text": [
      "[ 444.719  302.584  399.981  341.056  335.502  333.647  415.853  365.281\n",
      "  381.4    309.949  348.46   317.696  337.39   428.951  417.002  339.394\n",
      "  570.115  363.636  555.798  401.901  308.771  300.656  307.944  362.696\n",
      "  425.722  302.411  337.869  322.371  345.553  343.767  405.085  309.757\n",
      "  351.214  395.873]\n",
      "[107343 118127 131768 139194 144621 155059 171276 172509 174877 178953\n",
      " 206999 208997 219763 223643 235840 242284 249289 261604 261941 268751\n",
      " 270881 274209 276516 290491 308242 313366 315821 317737 321502 326256\n",
      " 332832 340114 344064 346777]\n"
     ]
    }
   ],
   "source": [
    "# Variable 1\n",
    "print(tX_jet_0[tX_jet_0[:,1] > 300][:,1]) \n",
    "print(ids_jet_0[tX_jet_0[:,1] > 300])\n",
    "# Don't remove anything here"
   ]
  },
  {
   "cell_type": "code",
   "execution_count": 11,
   "metadata": {
    "collapsed": false
   },
   "outputs": [
    {
     "name": "stdout",
     "output_type": "stream",
     "text": [
      "[  651.561   674.553   752.105   675.649  1349.351   617.943]\n",
      "[108073 133951 156228 266451 302795 340096]\n"
     ]
    }
   ],
   "source": [
    "# Variable 2\n",
    "print(tX_jet_0[tX_jet_0[:,2] > 600][:,2]) \n",
    "print(ids_jet_0[tX_jet_0[:,2] > 600])\n",
    "# Don't remove anything here"
   ]
  },
  {
   "cell_type": "code",
   "execution_count": 12,
   "metadata": {
    "collapsed": false
   },
   "outputs": [
    {
     "name": "stdout",
     "output_type": "stream",
     "text": [
      "[ 2834.999]\n",
      "[107343]\n"
     ]
    }
   ],
   "source": [
    "# Variable 3\n",
    "print(tX_jet_0[tX_jet_0[:,3] > 200][:,3]) \n",
    "print(ids_jet_0[tX_jet_0[:,3] > 200])\n",
    "# We can remove this variable\n",
    "to_remove = (tX_jet_0[:,3] < 200)"
   ]
  },
  {
   "cell_type": "code",
   "execution_count": 13,
   "metadata": {
    "collapsed": false
   },
   "outputs": [
    {
     "name": "stdout",
     "output_type": "stream",
     "text": [
      "[ 2834.999]\n",
      "[107343]\n"
     ]
    }
   ],
   "source": [
    "# Variable 8\n",
    "print(tX_jet_0[tX_jet_0[:,8] > 200][:,8])\n",
    "print(ids_jet_0[tX_jet_0[:,8] > 200])\n",
    "# Same variable to remove"
   ]
  },
  {
   "cell_type": "code",
   "execution_count": 14,
   "metadata": {
    "collapsed": false
   },
   "outputs": [
    {
     "name": "stdout",
     "output_type": "stream",
     "text": [
      "[  737.967   522.165  1324.678]\n",
      "[156228 268802 302795]\n"
     ]
    }
   ],
   "source": [
    "# Variable 8\n",
    "print(tX_jet_0[tX_jet_0[:,9] > 500][:,9])\n",
    "print(ids_jet_0[tX_jet_0[:,9] > 500])\n",
    "# Don't remove anything here"
   ]
  },
  {
   "cell_type": "code",
   "execution_count": 15,
   "metadata": {
    "collapsed": false,
    "scrolled": true
   },
   "outputs": [
    {
     "name": "stdout",
     "output_type": "stream",
     "text": [
      "[ 2842.617   307.846]\n",
      "[107343 261604]\n"
     ]
    }
   ],
   "source": [
    "# Variable 19\n",
    "print(tX_jet_0[tX_jet_0[:,19] > 300][:,19])\n",
    "print(ids_jet_0[tX_jet_0[:,19] > 300])"
   ]
  },
  {
   "cell_type": "markdown",
   "metadata": {},
   "source": [
    "We will only remove the id 107343 of the jet 0. For the other, we don't have such outlier."
   ]
  },
  {
   "cell_type": "markdown",
   "metadata": {},
   "source": [
    "## Creation of the first four models for the train data\n",
    "\n",
    "(Re)Create all the data for each jet"
   ]
  },
  {
   "cell_type": "code",
   "execution_count": 16,
   "metadata": {
    "collapsed": false
   },
   "outputs": [
    {
     "name": "stdout",
     "output_type": "stream",
     "text": [
      "Percentage of 0 in last column: 100\n"
     ]
    }
   ],
   "source": [
    "# Jet 0\n",
    "tX_jet_0 = tX[tX[:,22] == 0]\n",
    "tX_jet_0 = np.delete(tX_jet_0, 22, 1)\n",
    "y_jet_0 = y[tX[:,22] == 0]\n",
    "ids_jet_0 = ids[tX[:,22] == 0]\n",
    "\n",
    "# Remove the outlier variable\n",
    "tX_jet_0 = tX_jet_0[to_remove, :]\n",
    "y_jet_0 = y_jet_0[to_remove]\n",
    "ids_jet_0 = ids_jet_0[to_remove]\n",
    "\n",
    "headers_jet_0 = np.delete(headers, 24)\n",
    "## We can remove the last column of jet 0 because it's only 0\n",
    "print(\"Percentage of 0 in last column: %i\"%(100*len(tX_jet_0[tX_jet_0[:,-1] == 0])/len(tX_jet_0)))\n",
    "nan_jet_0[-1] = False\n",
    "header_nan_jet_0[-1] = False\n",
    "\n",
    "# Jet 1\n",
    "tX_jet_1 = tX[tX[:,22] == 1]\n",
    "tX_jet_1 = np.delete(tX_jet_1, 22, 1)\n",
    "y_jet_1 = y[tX[:,22] == 1]\n",
    "ids_jet_1 = ids[tX[:,22] == 1]\n",
    "headers_jet_1 = np.delete(headers, 24)\n",
    "\n",
    "# Jet 2\n",
    "tX_jet_2 = tX[tX[:,22] == 2]\n",
    "tX_jet_2 = np.delete(tX_jet_2, 22, 1)\n",
    "y_jet_2 = y[tX[:,22] == 2]\n",
    "ids_jet_2 = ids[tX[:,22] == 2]\n",
    "headers_jet_2 = np.delete(headers, 24)\n",
    "\n",
    "# Jet 3\n",
    "tX_jet_3 = tX[tX[:,22] == 3]\n",
    "tX_jet_3 = np.delete(tX_jet_3, 22, 1)\n",
    "y_jet_3 = y[tX[:,22] == 3]\n",
    "ids_jet_3 = ids[tX[:,22] == 3]\n",
    "headers_jet_3 = np.delete(headers, 24)"
   ]
  },
  {
   "cell_type": "markdown",
   "metadata": {},
   "source": [
    "Remove the columns in data for jet 0 and jet 1"
   ]
  },
  {
   "cell_type": "code",
   "execution_count": 17,
   "metadata": {
    "collapsed": false
   },
   "outputs": [],
   "source": [
    "headers_jet_0 = headers_jet_0[header_nan_jet_0]\n",
    "tX_jet_0 = tX_jet_0[:,nan_jet_0]\n",
    "\n",
    "headers_jet_1 = headers_jet_1[header_nan_jet_1]\n",
    "tX_jet_1 = tX_jet_1[:,nan_jet_1]"
   ]
  },
  {
   "cell_type": "markdown",
   "metadata": {},
   "source": [
    "Write the files"
   ]
  },
  {
   "cell_type": "code",
   "execution_count": 18,
   "metadata": {
    "collapsed": true
   },
   "outputs": [],
   "source": [
    "write_data('data/train_jet_0.csv', y_jet_0, tX_jet_0, ids_jet_0, headers_jet_0, 'train')\n",
    "write_data('data/train_jet_1.csv', y_jet_1, tX_jet_1, ids_jet_1, headers_jet_1, 'train')\n",
    "write_data('data/train_jet_2.csv', y_jet_2, tX_jet_2, ids_jet_2, headers_jet_2, 'train')\n",
    "write_data('data/train_jet_3.csv', y_jet_3, tX_jet_3, ids_jet_3, headers_jet_3, 'train')"
   ]
  },
  {
   "cell_type": "markdown",
   "metadata": {
    "collapsed": true
   },
   "source": [
    "## Creation of the first four models for the test data\n"
   ]
  },
  {
   "cell_type": "code",
   "execution_count": 19,
   "metadata": {
    "collapsed": true
   },
   "outputs": [],
   "source": [
    "DATA_TEST_PATH = 'data/test.csv' \n",
    "_, tX_test, ids_test = load_csv_data(DATA_TEST_PATH)"
   ]
  },
  {
   "cell_type": "markdown",
   "metadata": {},
   "source": [
    "Create all the data for each jet"
   ]
  },
  {
   "cell_type": "code",
   "execution_count": 20,
   "metadata": {
    "collapsed": false
   },
   "outputs": [],
   "source": [
    "# Jet 0\n",
    "tX_jet_0_test = tX_test[tX_test[:,22] == 0]\n",
    "tX_jet_0_test = np.delete(tX_jet_0_test, 22, 1)\n",
    "ids_jet_0_test = ids_test[tX_test[:,22] == 0]\n",
    "\n",
    "# Jet 1\n",
    "tX_jet_1_test = tX_test[tX_test[:,22] == 1]\n",
    "tX_jet_1_test = np.delete(tX_jet_1_test, 22, 1)\n",
    "ids_jet_1_test = ids_test[tX_test[:,22] == 1]\n",
    "\n",
    "# Jet 2\n",
    "tX_jet_2_test = tX_test[tX_test[:,22] == 2]\n",
    "tX_jet_2_test = np.delete(tX_jet_2_test, 22, 1)\n",
    "ids_jet_2_test = ids_test[tX_test[:,22] == 2]\n",
    "\n",
    "# Jet 3\n",
    "tX_jet_3_test = tX_test[tX_test[:,22] == 3]\n",
    "tX_jet_3_test = np.delete(tX_jet_3_test, 22, 1)\n",
    "ids_jet_3_test = ids_test[tX_test[:,22] == 3]\n"
   ]
  },
  {
   "cell_type": "markdown",
   "metadata": {},
   "source": [
    "Remove the columns in data for jet 0 and jet 1"
   ]
  },
  {
   "cell_type": "code",
   "execution_count": 21,
   "metadata": {
    "collapsed": false
   },
   "outputs": [],
   "source": [
    "tX_jet_0_test = tX_jet_0_test[:,nan_jet_0]\n",
    "\n",
    "tX_jet_1_test = tX_jet_1_test[:,nan_jet_1]"
   ]
  },
  {
   "cell_type": "markdown",
   "metadata": {},
   "source": [
    "Write the files"
   ]
  },
  {
   "cell_type": "code",
   "execution_count": 22,
   "metadata": {
    "collapsed": true
   },
   "outputs": [],
   "source": [
    "write_data('data/test_jet_0.csv', _, tX_jet_0_test, ids_jet_0_test, headers_jet_0, 'test')\n",
    "write_data('data/test_jet_1.csv', _, tX_jet_1_test, ids_jet_1_test, headers_jet_1, 'test')\n",
    "write_data('data/test_jet_2.csv', _, tX_jet_2_test, ids_jet_2_test, headers_jet_2, 'test')\n",
    "write_data('data/test_jet_3.csv', _, tX_jet_3_test, ids_jet_3_test, headers_jet_3, 'test')"
   ]
  },
  {
   "cell_type": "markdown",
   "metadata": {
    "collapsed": true
   },
   "source": [
    "# Cut the datasets (nan with the mass)\n",
    "\n",
    "This will create 2 models per jet. So, 8 at the total"
   ]
  },
  {
   "cell_type": "code",
   "execution_count": 23,
   "metadata": {
    "collapsed": false
   },
   "outputs": [],
   "source": [
    "nan_mass_jet_0 = tX_jet_0[:,0] == -999\n",
    "\n",
    "tX_jet_0_wout_mass = tX_jet_0[nan_mass_jet_0,:][:,1:]\n",
    "tX_jet_0_with_mass = tX_jet_0[~nan_mass_jet_0,:]\n",
    "nan_headers_0 = np.ones(len(headers_jet_0), dtype=bool)\n",
    "nan_headers_0[2] = False\n",
    "write_data('data/train_jet_0_wout_mass.csv', y_jet_0[nan_mass_jet_0], tX_jet_0_wout_mass, \n",
    "           ids_jet_0[nan_mass_jet_0], headers_jet_0[nan_headers_0], 'train')\n",
    "write_data('data/train_jet_0_with_mass.csv', y_jet_0[~~nan_mass_jet_0], tX_jet_0_with_mass, \n",
    "           ids_jet_0[~nan_mass_jet_0], headers_jet_0, 'train')\n"
   ]
  },
  {
   "cell_type": "code",
   "execution_count": 24,
   "metadata": {
    "collapsed": true
   },
   "outputs": [],
   "source": [
    "nan_mass_jet_1 = tX_jet_1[:,0] == -999\n",
    "\n",
    "tX_jet_1_wout_mass = tX_jet_1[nan_mass_jet_1,:][:,1:]\n",
    "tX_jet_1_with_mass = tX_jet_1[~nan_mass_jet_1,:]\n",
    "nan_headers_1 = np.ones(len(headers_jet_1), dtype=bool)\n",
    "nan_headers_1[2] = False\n",
    "write_data('data/train_jet_1_wout_mass.csv', y_jet_1[nan_mass_jet_1], tX_jet_1_wout_mass, \n",
    "           ids_jet_1[nan_mass_jet_1], headers_jet_1[nan_headers_1], 'train')\n",
    "write_data('data/train_jet_1_with_mass.csv', y_jet_1[~nan_mass_jet_1], tX_jet_1_with_mass, \n",
    "           ids_jet_1[~nan_mass_jet_1], headers_jet_1, 'train')"
   ]
  },
  {
   "cell_type": "code",
   "execution_count": 25,
   "metadata": {
    "collapsed": true
   },
   "outputs": [],
   "source": [
    "nan_mass_jet_2 = tX_jet_2[:,0] == -999\n",
    "\n",
    "tX_jet_2_wout_mass = tX_jet_2[nan_mass_jet_2,:][:,1:]\n",
    "tX_jet_2_with_mass = tX_jet_2[~nan_mass_jet_2,:]\n",
    "nan_headers_2 = np.ones(len(headers_jet_2), dtype=bool)\n",
    "nan_headers_2[2] = False\n",
    "write_data('data/train_jet_2_wout_mass.csv', y_jet_2[nan_mass_jet_2], tX_jet_2_wout_mass, \n",
    "           ids_jet_2[nan_mass_jet_2], headers_jet_2[nan_headers_2], 'train')\n",
    "write_data('data/train_jet_2_with_mass.csv', y_jet_2[~nan_mass_jet_2], tX_jet_2_with_mass, \n",
    "           ids_jet_2[~nan_mass_jet_2], headers_jet_2, 'train')"
   ]
  },
  {
   "cell_type": "code",
   "execution_count": 26,
   "metadata": {
    "collapsed": true
   },
   "outputs": [],
   "source": [
    "nan_mass_jet_3 = tX_jet_3[:,0] == -999\n",
    "\n",
    "tX_jet_3_wout_mass = tX_jet_3[nan_mass_jet_3,:][:,1:]\n",
    "tX_jet_3_with_mass = tX_jet_3[~nan_mass_jet_3,:]\n",
    "nan_headers_3 = np.ones(len(headers_jet_3), dtype=bool)\n",
    "nan_headers_3[2] = False\n",
    "write_data('data/train_jet_3_wout_mass.csv', y_jet_3[nan_mass_jet_3], tX_jet_3_wout_mass, \n",
    "           ids_jet_3[nan_mass_jet_3], headers_jet_3[nan_headers_3], 'train')\n",
    "write_data('data/train_jet_3_with_mass.csv', y_jet_3[~nan_mass_jet_3], tX_jet_3_with_mass, \n",
    "           ids_jet_3[~nan_mass_jet_3], headers_jet_3, 'train')"
   ]
  },
  {
   "cell_type": "markdown",
   "metadata": {},
   "source": [
    "Do the same for the test data\n"
   ]
  },
  {
   "cell_type": "code",
   "execution_count": 27,
   "metadata": {
    "collapsed": false
   },
   "outputs": [],
   "source": [
    "nan_mass_jet_0_test = tX_jet_0_test[:,0] == -999\n",
    "\n",
    "tX_jet_0_wout_mass_test = tX_jet_0_test[nan_mass_jet_0_test,:][:,1:]\n",
    "tX_jet_0_with_mass_test = tX_jet_0_test[~nan_mass_jet_0_test,:]\n",
    "write_data('data/test_jet_0_wout_mass.csv', _, tX_jet_0_wout_mass_test, \n",
    "           ids_jet_0_test[nan_mass_jet_0_test], headers_jet_0[nan_headers_0], 'test')\n",
    "write_data('data/test_jet_0_with_mass.csv', _, tX_jet_0_with_mass_test, \n",
    "           ids_jet_0_test[~nan_mass_jet_0_test], headers_jet_0, 'test')\n"
   ]
  },
  {
   "cell_type": "code",
   "execution_count": 28,
   "metadata": {
    "collapsed": true
   },
   "outputs": [],
   "source": [
    "nan_mass_jet_1_test = tX_jet_1_test[:,0] == -999\n",
    "\n",
    "tX_jet_1_wout_mass_test = tX_jet_1_test[nan_mass_jet_1_test,:][:,1:]\n",
    "tX_jet_1_with_mass_test = tX_jet_1_test[~nan_mass_jet_1_test,:]\n",
    "write_data('data/test_jet_1_wout_mass.csv', _, tX_jet_1_wout_mass_test, \n",
    "           ids_jet_1_test[nan_mass_jet_1_test], headers_jet_1[nan_headers_1], 'test')\n",
    "write_data('data/test_jet_1_with_mass.csv', _, tX_jet_1_with_mass_test, \n",
    "           ids_jet_1_test[~nan_mass_jet_1_test], headers_jet_1, 'test')"
   ]
  },
  {
   "cell_type": "code",
   "execution_count": 29,
   "metadata": {
    "collapsed": true
   },
   "outputs": [],
   "source": [
    "nan_mass_jet_2_test = tX_jet_2_test[:,0] == -999\n",
    "\n",
    "tX_jet_2_wout_mass_test = tX_jet_2_test[nan_mass_jet_2_test,:][:,1:]\n",
    "tX_jet_2_with_mass_test = tX_jet_2_test[~nan_mass_jet_2_test,:]\n",
    "write_data('data/test_jet_2_wout_mass.csv', _, tX_jet_2_wout_mass_test, \n",
    "           ids_jet_2_test[nan_mass_jet_2_test], headers_jet_2[nan_headers_2], 'test')\n",
    "write_data('data/test_jet_2_with_mass.csv', _, tX_jet_2_with_mass_test, \n",
    "           ids_jet_2_test[~nan_mass_jet_2_test], headers_jet_2, 'test')"
   ]
  },
  {
   "cell_type": "code",
   "execution_count": 30,
   "metadata": {
    "collapsed": true
   },
   "outputs": [],
   "source": [
    "nan_mass_jet_3_test = tX_jet_3_test[:,0] == -999\n",
    "\n",
    "tX_jet_3_wout_mass_test = tX_jet_3_test[nan_mass_jet_3_test,:][:,1:]\n",
    "tX_jet_3_with_mass_test = tX_jet_3_test[~nan_mass_jet_3_test,:]\n",
    "write_data('data/test_jet_3_wout_mass.csv', _, tX_jet_3_wout_mass_test, \n",
    "           ids_jet_3_test[nan_mass_jet_3_test], headers_jet_3[nan_headers_3], 'test')\n",
    "write_data('data/test_jet_3_with_mass.csv', _, tX_jet_3_with_mass_test, \n",
    "           ids_jet_3_test[~nan_mass_jet_3_test], headers_jet_3, 'test')"
   ]
  },
  {
   "cell_type": "code",
   "execution_count": null,
   "metadata": {
    "collapsed": true
   },
   "outputs": [],
   "source": []
  }
 ],
 "metadata": {
  "anaconda-cloud": {},
  "kernelspec": {
   "display_name": "Python [conda root]",
   "language": "python",
   "name": "conda-root-py"
  },
  "language_info": {
   "codemirror_mode": {
    "name": "ipython",
    "version": 3
   },
   "file_extension": ".py",
   "mimetype": "text/x-python",
   "name": "python",
   "nbconvert_exporter": "python",
   "pygments_lexer": "ipython3",
   "version": "3.5.2"
  }
 },
 "nbformat": 4,
 "nbformat_minor": 1
}

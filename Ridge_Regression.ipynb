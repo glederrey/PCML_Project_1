{
 "cells": [
  {
   "cell_type": "markdown",
   "metadata": {},
   "source": [
    "# ML with Ridge Regression\n",
    "\n",
    "In this notebook, we will use the functions in the file ridge_regression.py. "
   ]
  },
  {
   "cell_type": "code",
   "execution_count": 1,
   "metadata": {
    "collapsed": false
   },
   "outputs": [],
   "source": [
    "# Useful starting lines\n",
    "%matplotlib inline\n",
    "import numpy as np\n",
    "import matplotlib.pyplot as plt\n",
    "%load_ext autoreload\n",
    "%autoreload 2\n",
    "from IPython import display\n",
    "# Import everything in the functions folder\n",
    "from functions.costs import *\n",
    "from functions.proj1_helpers import *\n",
    "from functions.split import *\n",
    "from functions.ridge_regression import *\n",
    "from functions.helpers import *"
   ]
  },
  {
   "cell_type": "markdown",
   "metadata": {},
   "source": [
    "First, we load the data"
   ]
  },
  {
   "cell_type": "code",
   "execution_count": 11,
   "metadata": {
    "collapsed": true
   },
   "outputs": [],
   "source": [
    "DATA_TRAIN_PATH = 'data/train.csv' \n",
    "y, tX, ids = load_csv_data(DATA_TRAIN_PATH)\n",
    "tX, mean_tX, std_tX = standardize(tX)"
   ]
  },
  {
   "cell_type": "code",
   "execution_count": 12,
   "metadata": {
    "collapsed": false
   },
   "outputs": [
    {
     "name": "stdout",
     "output_type": "stream",
     "text": [
      "[[ 1.          1.          1.         ...,  0.17016491  0.07019481\n",
      "   0.0289561 ]\n",
      " [ 1.          1.          1.         ...,  0.07497737 -0.0205303\n",
      "   0.00562161]\n",
      " [ 1.          1.          1.         ...,  0.08641827 -0.02540437\n",
      "   0.00746812]\n",
      " ..., \n",
      " [ 1.          1.          1.         ...,  0.10049992 -0.03186021\n",
      "   0.01010023]\n",
      " [ 1.          1.          1.         ...,  0.55567992 -0.41422571\n",
      "   0.30878017]\n",
      " [ 1.          1.          1.         ...,  0.55567992 -0.41422571\n",
      "   0.30878017]]\n"
     ]
    }
   ],
   "source": [
    "tX_poly = build_poly(tX, 4)\n",
    "print(tX_poly)"
   ]
  },
  {
   "cell_type": "code",
   "execution_count": 14,
   "metadata": {
    "collapsed": false,
    "scrolled": true
   },
   "outputs": [
    {
     "name": "stdout",
     "output_type": "stream",
     "text": [
      "[  5.16477250e-01   5.16303432e-01   5.16363869e-01   5.16330218e-01\n",
      "   5.16330218e-01   5.16330218e-01   4.11621381e+00  -2.77130900e+00\n",
      "  -7.65139638e-01   5.36964281e-01   5.16364332e-01  -2.43673671e-01\n",
      "   5.04286368e-02   6.40992182e-04  -2.04028028e-04   5.16362293e-01\n",
      "  -3.19917891e-01   1.00587186e-02   1.86537307e-03  -6.87069610e-05\n",
      "   5.16358995e-01   6.05861112e-02   5.22699048e-02  -1.15270357e-02\n",
      "   7.24867193e-04   5.16361649e-01   9.07716991e-01  -6.22626128e+00\n",
      "  -5.63457818e+00   4.64434286e+00   5.16361649e-01  -1.77554711e+00\n",
      "   1.11975322e+00  -2.37678094e-01   1.59681632e-02   5.16361650e-01\n",
      "  -1.22914662e+01  -3.25874859e+01  -3.22540361e+01   2.30291692e+01\n",
      "   5.16361672e-01   1.86394174e-01  -8.79736063e-02   1.70334495e-02\n",
      "   7.11149173e-03   5.16361665e-01  -2.37268464e-02   1.25696311e-02\n",
      "  -3.52668914e-04  -1.37485761e-05   5.16361670e-01   2.38820396e-02\n",
      "   7.59472988e-02  -6.73741795e-03   1.15188606e-04   5.16361671e-01\n",
      "  -1.63948919e-01   6.72486478e-02  -7.57000426e-03   2.14410770e-04\n",
      "   5.16361671e-01  -7.37855292e-02  -4.53003070e-02   8.75760036e-02\n",
      "   4.67291226e-02   5.16361670e-01   5.60241684e+00   3.56540028e+00\n",
      "   5.86122003e+00   4.69556501e+00   5.16361670e-01   2.80499704e-01\n",
      "  -7.91506679e-02   5.94763799e-03  -1.17446851e-04   5.16361671e-01\n",
      "  -3.21939972e-03  -2.81501192e-02   1.14208838e-03  -1.20854261e-03\n",
      "   5.16361672e-01   2.57523381e-03  -6.54311010e-03  -1.11469285e-03\n",
      "   2.06089413e-03   5.16361672e-01   2.09921560e-01  -6.12562538e-02\n",
      "   5.77205796e-03  -1.40105823e-04   5.16361669e-01   3.81443771e-03\n",
      "  -6.92742844e-02  -1.70459696e-03   4.71911898e-03   5.16361669e-01\n",
      "   7.54210980e-03  -1.70632037e-03  -3.25826021e-03   4.59608104e-04\n",
      "   5.16361668e-01   1.34713044e-02   1.77633642e-02  -2.40039039e-03\n",
      "   6.86577068e-05   5.16361669e-01   1.82510912e-03   7.21849297e-03\n",
      "  -9.15362297e-04  -3.11006355e-03   5.16361669e-01  -3.69757290e-02\n",
      "  -5.36054629e-02   1.13885859e-02  -6.10654506e-04   5.16361670e-01\n",
      "   6.70939848e-01   4.44815070e+00  -1.35595797e+00  -2.69275919e-01\n",
      "   5.16361670e-01   3.00972986e+01  -3.82437932e+01   2.06368780e+01\n",
      "  -4.03863941e+00   5.16361670e-01  -2.96353960e+01  -1.87427300e+01\n",
      "  -4.71357835e+00   3.22369330e+01   5.16361670e-01  -4.06403794e+00\n",
      "   2.15747557e+00  -4.62703985e+00   4.59494491e+00   5.16361670e-01\n",
      "   1.76071750e+00   3.40838187e+00  -2.53994723e+00   4.59083952e-01\n",
      "   5.16361670e-01   3.56583036e+00  -9.83207643e-01  -5.35604906e-01\n",
      "   2.70577456e-01   5.16361654e-01   5.67074673e+00   3.19759014e+00\n",
      "   3.63380674e+00  -2.79470139e+00   5.16361654e-01   1.11223981e-01\n",
      "  -1.43539584e-01   1.63999449e-02  -5.19996248e-04]\n"
     ]
    }
   ],
   "source": [
    "loss, w_star = ridge_regression(y, tX_poly, 0.01)\n",
    "#print(w_star)\n"
   ]
  },
  {
   "cell_type": "code",
   "execution_count": 15,
   "metadata": {
    "collapsed": true
   },
   "outputs": [],
   "source": [
    "degree_star = 4\n",
    "lambda_star = 0.01"
   ]
  },
  {
   "cell_type": "markdown",
   "metadata": {},
   "source": [
    "We apply a 5-fold cross validation to find the best lambda and best degree. "
   ]
  },
  {
   "cell_type": "code",
   "execution_count": 1,
   "metadata": {
    "collapsed": false,
    "scrolled": true
   },
   "outputs": [
    {
     "ename": "NameError",
     "evalue": "name 'np' is not defined",
     "output_type": "error",
     "traceback": [
      "\u001b[1;31m---------------------------------------\u001b[0m",
      "\u001b[1;31mNameError\u001b[0mTraceback (most recent call last)",
      "\u001b[1;32m<ipython-input-1-61fbef36076e>\u001b[0m in \u001b[0;36m<module>\u001b[1;34m()\u001b[0m\n\u001b[0;32m      1\u001b[0m \u001b[1;31m# Degree can't go higher than 8 because matrix becomes singular\u001b[0m\u001b[1;33m\u001b[0m\u001b[1;33m\u001b[0m\u001b[0m\n\u001b[1;32m----> 2\u001b[1;33m \u001b[0mdegrees\u001b[0m \u001b[1;33m=\u001b[0m \u001b[0mnp\u001b[0m\u001b[1;33m.\u001b[0m\u001b[0mlinspace\u001b[0m\u001b[1;33m(\u001b[0m\u001b[1;36m1\u001b[0m\u001b[1;33m,\u001b[0m \u001b[1;36m5\u001b[0m\u001b[1;33m,\u001b[0m \u001b[1;36m5\u001b[0m\u001b[1;33m)\u001b[0m\u001b[1;33m\u001b[0m\u001b[0m\n\u001b[0m\u001b[0;32m      3\u001b[0m \u001b[0mlambdas\u001b[0m \u001b[1;33m=\u001b[0m \u001b[0mnp\u001b[0m\u001b[1;33m.\u001b[0m\u001b[0mlogspace\u001b[0m\u001b[1;33m(\u001b[0m\u001b[1;33m-\u001b[0m\u001b[1;36m5\u001b[0m\u001b[1;33m,\u001b[0m \u001b[1;36m0\u001b[0m\u001b[1;33m,\u001b[0m \u001b[1;36m30\u001b[0m\u001b[1;33m)\u001b[0m\u001b[1;33m\u001b[0m\u001b[0m\n\u001b[0;32m      4\u001b[0m \u001b[0mrmse_te\u001b[0m \u001b[1;33m=\u001b[0m \u001b[0mcross_validation\u001b[0m\u001b[1;33m(\u001b[0m\u001b[0my\u001b[0m\u001b[1;33m,\u001b[0m \u001b[0mtX\u001b[0m\u001b[1;33m,\u001b[0m \u001b[0mlambdas\u001b[0m\u001b[1;33m,\u001b[0m \u001b[0mdegrees\u001b[0m\u001b[1;33m,\u001b[0m \u001b[1;36m5\u001b[0m\u001b[1;33m)\u001b[0m\u001b[1;33m\u001b[0m\u001b[0m\n",
      "\u001b[1;31mNameError\u001b[0m: name 'np' is not defined"
     ]
    }
   ],
   "source": [
    "# Degree can't go higher than 8 because matrix becomes singular\n",
    "degrees = np.linspace(1, 5, 5) \n",
    "lambdas = np.logspace(-5, 0, 30)\n",
    "rmse_te = cross_validation(y, tX, lambdas, degrees, 5)"
   ]
  },
  {
   "cell_type": "markdown",
   "metadata": {
    "collapsed": false
   },
   "source": [
    "Get the best parameter with min value for rmse_te"
   ]
  },
  {
   "cell_type": "code",
   "execution_count": 5,
   "metadata": {
    "collapsed": false
   },
   "outputs": [
    {
     "ename": "NameError",
     "evalue": "name 'rmse_tr' is not defined",
     "output_type": "error",
     "traceback": [
      "\u001b[1;31m---------------------------------------------------------------------------\u001b[0m",
      "\u001b[1;31mNameError\u001b[0m                                 Traceback (most recent call last)",
      "\u001b[1;32m<ipython-input-5-1f16d3b41231>\u001b[0m in \u001b[0;36m<module>\u001b[1;34m()\u001b[0m\n\u001b[1;32m----> 1\u001b[1;33m \u001b[0mlambda_star\u001b[0m\u001b[1;33m,\u001b[0m \u001b[0mdegree_star\u001b[0m \u001b[1;33m=\u001b[0m \u001b[0mfind_min\u001b[0m\u001b[1;33m(\u001b[0m\u001b[0mrmse_tr\u001b[0m\u001b[1;33m,\u001b[0m \u001b[0mrmse_te\u001b[0m\u001b[1;33m,\u001b[0m \u001b[0mlambdas\u001b[0m\u001b[1;33m,\u001b[0m \u001b[0mdegrees\u001b[0m\u001b[1;33m)\u001b[0m\u001b[1;33m\u001b[0m\u001b[0m\n\u001b[0m\u001b[0;32m      2\u001b[0m \u001b[0mprint\u001b[0m\u001b[1;33m(\u001b[0m\u001b[1;34m\"Lambda* = %f\"\u001b[0m\u001b[1;33m%\u001b[0m\u001b[0mlambda_star\u001b[0m\u001b[1;33m)\u001b[0m\u001b[1;33m\u001b[0m\u001b[0m\n\u001b[0;32m      3\u001b[0m \u001b[0mprint\u001b[0m\u001b[1;33m(\u001b[0m\u001b[1;34m\"Degree* = %f\"\u001b[0m\u001b[1;33m%\u001b[0m\u001b[0mdegree_star\u001b[0m\u001b[1;33m)\u001b[0m\u001b[1;33m\u001b[0m\u001b[0m\n",
      "\u001b[1;31mNameError\u001b[0m: name 'rmse_tr' is not defined"
     ]
    }
   ],
   "source": [
    "lambda_star, degree_star = find_min(rmse_tr, rmse_te, lambdas, degrees)\n",
    "print(\"Lambda* = %f\"%lambda_star)\n",
    "print(\"Degree* = %f\"%degree_star)"
   ]
  },
  {
   "cell_type": "markdown",
   "metadata": {},
   "source": [
    "Now, that we have the best degree and best lambda, we can do the Ridge Regression and get the best weights. "
   ]
  },
  {
   "cell_type": "code",
   "execution_count": 6,
   "metadata": {
    "collapsed": false
   },
   "outputs": [
    {
     "name": "stdout",
     "output_type": "stream",
     "text": [
      "Polynomials done\n",
      "Loss = 0.777447\n"
     ]
    }
   ],
   "source": [
    "# Build poly first\n",
    "tX_train = build_poly(x_train, degree_star)\n",
    "tX_test = build_poly(x_test, degree_star)\n",
    "print(\"Polynomials done\")\n",
    "\n",
    "# Ridge Regression\n",
    "loss, w_star = ridge_regression(y_train, tX_train, lambda_star)\n",
    "print(\"Loss = %f\"%(loss))"
   ]
  },
  {
   "cell_type": "code",
   "execution_count": 7,
   "metadata": {
    "collapsed": false
   },
   "outputs": [
    {
     "name": "stdout",
     "output_type": "stream",
     "text": [
      "Good prediction: 39238/50000 (78.476000%)\n",
      "Wrong prediction: 10762/50000 (21.524000%)\n",
      "0.34576\n"
     ]
    }
   ],
   "source": [
    "prediction(y_test, tX_test, w_star) "
   ]
  },
  {
   "cell_type": "markdown",
   "metadata": {},
   "source": [
    "## Generate predictions and save ouput in csv format for submission:\n"
   ]
  },
  {
   "cell_type": "markdown",
   "metadata": {},
   "source": [
    "We retrain on all the data."
   ]
  },
  {
   "cell_type": "code",
   "execution_count": 16,
   "metadata": {
    "collapsed": false
   },
   "outputs": [
    {
     "name": "stdout",
     "output_type": "stream",
     "text": [
      "[  5.16477250e-01   5.16303432e-01   5.16363869e-01   5.16330218e-01\n",
      "   5.16330218e-01   5.16330218e-01   4.11621381e+00  -2.77130900e+00\n",
      "  -7.65139638e-01   5.36964281e-01   5.16364332e-01  -2.43673671e-01\n",
      "   5.04286368e-02   6.40992182e-04  -2.04028028e-04   5.16362293e-01\n",
      "  -3.19917891e-01   1.00587186e-02   1.86537307e-03  -6.87069610e-05\n",
      "   5.16358995e-01   6.05861112e-02   5.22699048e-02  -1.15270357e-02\n",
      "   7.24867193e-04   5.16361649e-01   9.07716991e-01  -6.22626128e+00\n",
      "  -5.63457818e+00   4.64434286e+00   5.16361649e-01  -1.77554711e+00\n",
      "   1.11975322e+00  -2.37678094e-01   1.59681632e-02   5.16361650e-01\n",
      "  -1.22914662e+01  -3.25874859e+01  -3.22540361e+01   2.30291692e+01\n",
      "   5.16361672e-01   1.86394174e-01  -8.79736063e-02   1.70334495e-02\n",
      "   7.11149173e-03   5.16361665e-01  -2.37268464e-02   1.25696311e-02\n",
      "  -3.52668914e-04  -1.37485761e-05   5.16361670e-01   2.38820396e-02\n",
      "   7.59472988e-02  -6.73741795e-03   1.15188606e-04   5.16361671e-01\n",
      "  -1.63948919e-01   6.72486478e-02  -7.57000426e-03   2.14410770e-04\n",
      "   5.16361671e-01  -7.37855292e-02  -4.53003070e-02   8.75760036e-02\n",
      "   4.67291226e-02   5.16361670e-01   5.60241684e+00   3.56540028e+00\n",
      "   5.86122003e+00   4.69556501e+00   5.16361670e-01   2.80499704e-01\n",
      "  -7.91506679e-02   5.94763799e-03  -1.17446851e-04   5.16361671e-01\n",
      "  -3.21939972e-03  -2.81501192e-02   1.14208838e-03  -1.20854261e-03\n",
      "   5.16361672e-01   2.57523381e-03  -6.54311010e-03  -1.11469285e-03\n",
      "   2.06089413e-03   5.16361672e-01   2.09921560e-01  -6.12562538e-02\n",
      "   5.77205796e-03  -1.40105823e-04   5.16361669e-01   3.81443771e-03\n",
      "  -6.92742844e-02  -1.70459696e-03   4.71911898e-03   5.16361669e-01\n",
      "   7.54210980e-03  -1.70632037e-03  -3.25826021e-03   4.59608104e-04\n",
      "   5.16361668e-01   1.34713044e-02   1.77633642e-02  -2.40039039e-03\n",
      "   6.86577068e-05   5.16361669e-01   1.82510912e-03   7.21849297e-03\n",
      "  -9.15362297e-04  -3.11006355e-03   5.16361669e-01  -3.69757290e-02\n",
      "  -5.36054629e-02   1.13885859e-02  -6.10654506e-04   5.16361670e-01\n",
      "   6.70939848e-01   4.44815070e+00  -1.35595797e+00  -2.69275919e-01\n",
      "   5.16361670e-01   3.00972986e+01  -3.82437932e+01   2.06368780e+01\n",
      "  -4.03863941e+00   5.16361670e-01  -2.96353960e+01  -1.87427300e+01\n",
      "  -4.71357835e+00   3.22369330e+01   5.16361670e-01  -4.06403794e+00\n",
      "   2.15747557e+00  -4.62703985e+00   4.59494491e+00   5.16361670e-01\n",
      "   1.76071750e+00   3.40838187e+00  -2.53994723e+00   4.59083952e-01\n",
      "   5.16361670e-01   3.56583036e+00  -9.83207643e-01  -5.35604906e-01\n",
      "   2.70577456e-01   5.16361654e-01   5.67074673e+00   3.19759014e+00\n",
      "   3.63380674e+00  -2.79470139e+00   5.16361654e-01   1.11223981e-01\n",
      "  -1.43539584e-01   1.63999449e-02  -5.19996248e-04]\n"
     ]
    }
   ],
   "source": [
    "tX_poly = build_poly(tX, degree_star)\n",
    "loss, w_star = ridge_regression(y, tX_poly, lambda_star)\n"
   ]
  },
  {
   "cell_type": "code",
   "execution_count": 17,
   "metadata": {
    "collapsed": true
   },
   "outputs": [],
   "source": [
    "DATA_TEST_PATH = 'data/test.csv' # TODO: download train data and supply path here \n",
    "_, tX_test, ids_test = load_csv_data(DATA_TEST_PATH)\n",
    "tX_test, mean_tX_test, std_tX_test = standardize(tX_test)\n",
    "tX_test_poly = build_poly(tX_test, degree_star)"
   ]
  },
  {
   "cell_type": "code",
   "execution_count": 18,
   "metadata": {
    "collapsed": false
   },
   "outputs": [],
   "source": [
    "OUTPUT_PATH = 'output/LS_RR.csv' # TODO: fill in desired name of output file for submission\n",
    "y_pred = predict_labels(w_star, tX_test_poly)\n",
    "#create_csv_submission(ids_test, y_pred, OUTPUT_PATH)"
   ]
  },
  {
   "cell_type": "code",
   "execution_count": 19,
   "metadata": {
    "collapsed": false
   },
   "outputs": [
    {
     "data": {
      "text/plain": [
       "0.80048676786839312"
      ]
     },
     "execution_count": 19,
     "metadata": {},
     "output_type": "execute_result"
    }
   ],
   "source": [
    "sum(y_pred == -1)/len(ids_test)"
   ]
  },
  {
   "cell_type": "code",
   "execution_count": null,
   "metadata": {
    "collapsed": true
   },
   "outputs": [],
   "source": []
  }
 ],
 "metadata": {
  "anaconda-cloud": {},
  "kernelspec": {
   "display_name": "Python [Root]",
   "language": "python",
   "name": "Python [Root]"
  },
  "language_info": {
   "codemirror_mode": {
    "name": "ipython",
    "version": 3
   },
   "file_extension": ".py",
   "mimetype": "text/x-python",
   "name": "python",
   "nbconvert_exporter": "python",
   "pygments_lexer": "ipython3",
   "version": "3.5.2"
  }
 },
 "nbformat": 4,
 "nbformat_minor": 0
}

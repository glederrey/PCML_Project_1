{
 "cells": [
  {
   "cell_type": "markdown",
   "metadata": {},
   "source": [
    "# ML with Least Square GD\n",
    "\n",
    "In this notebook, we will use the functions in the file least_squares_GD.py. "
   ]
  },
  {
   "cell_type": "code",
   "execution_count": 1,
   "metadata": {
    "collapsed": false
   },
   "outputs": [],
   "source": [
    "# Useful starting lines\n",
    "%matplotlib inline\n",
    "import numpy as np\n",
    "import matplotlib.pyplot as plt\n",
    "%load_ext autoreload\n",
    "%autoreload 2\n",
    "from IPython import display\n",
    "# Import everything in the functions folder\n",
    "from functions.costs import *\n",
    "from functions.proj1_helpers import *\n",
    "from functions.split import *\n",
    "from functions.least_squares_GD import *"
   ]
  },
  {
   "cell_type": "markdown",
   "metadata": {},
   "source": [
    "First, we load the data"
   ]
  },
  {
   "cell_type": "code",
   "execution_count": 2,
   "metadata": {
    "collapsed": false
   },
   "outputs": [],
   "source": [
    "DATA_TRAIN_PATH = 'data/train.csv' \n",
    "y, tX, ids = load_csv_data(DATA_TRAIN_PATH)"
   ]
  },
  {
   "cell_type": "markdown",
   "metadata": {},
   "source": [
    "We split the data, just to see if we can predict something"
   ]
  },
  {
   "cell_type": "code",
   "execution_count": 3,
   "metadata": {
    "collapsed": false
   },
   "outputs": [],
   "source": [
    "ratio = 0.8\n",
    "x_train, y_train, x_test, y_test = split_data(tX, y, ratio)\n",
    "nbr_param = len(x_train[0])"
   ]
  },
  {
   "cell_type": "markdown",
   "metadata": {},
   "source": [
    "We plot the graph Loss vs Epochs while doing the Gradient Descent"
   ]
  },
  {
   "cell_type": "code",
   "execution_count": 5,
   "metadata": {
    "collapsed": false
   },
   "outputs": [
    {
     "data": {
      "image/png": "[encoded data removed]",
      "text/plain": [
       "<matplotlib.figure.Figure at 0x7f8a2438a908>"
      ]
     },
     "metadata": {},
     "output_type": "display_data"
    }
   ],
   "source": [
    "# Define the parameters of the algorithm.\n",
    "max_iters = 150\n",
    "gamma = 0.2\n",
    "loss_type = \"MAE\"\n",
    "\n",
    "# Initialization\n",
    "w_initial = np.random.rand(nbr_param)\n",
    "\n",
    "gradient_losses, gradient_ws = gradient_descent(y_train, x_train, \n",
    "                                w_initial, max_iters, gamma, loss_type)"
   ]
  },
  {
   "cell_type": "markdown",
   "metadata": {},
   "source": [
    "We just take w_star as the last w"
   ]
  },
  {
   "cell_type": "code",
   "execution_count": 6,
   "metadata": {
    "collapsed": true
   },
   "outputs": [],
   "source": [
    "w_star = gradient_ws[-1]"
   ]
  },
  {
   "cell_type": "markdown",
   "metadata": {},
   "source": [
    "Compute the prediction"
   ]
  },
  {
   "cell_type": "code",
   "execution_count": 16,
   "metadata": {
    "collapsed": false
   },
   "outputs": [
    {
     "name": "stdout",
     "output_type": "stream",
     "text": [
      "Wrong prediction: 73146 (36.573000%)\n",
      "Good prediction: 126854 (63.427000%)\n"
     ]
    }
   ],
   "source": [
    "pred = np.dot(x_train, w_star)\n",
    "\n",
    "pred_bin = []\n",
    "\n",
    "for i in pred:\n",
    "    if i > 0:\n",
    "        pred_bin.append(1)\n",
    "    else:\n",
    "        pred_bin.append(-1)\n",
    "        \n",
    "wrong = 0\n",
    "right = 0\n",
    "for i in range(len(y_train)):\n",
    "    if y_train[i] == pred_bin[i]:\n",
    "        right = right + 1\n",
    "    else:\n",
    "        wrong = wrong + 1\n",
    "        \n",
    "print(\"Wrong prediction: %i (%f%%)\\nGood prediction: %i (%f%%)\"%\n",
    "      (wrong, 100*wrong/len(y_train), right, 100*right/len(y_train)))    "
   ]
  }
 ],
 "metadata": {
  "kernelspec": {
   "display_name": "Python [Root]",
   "language": "python",
   "name": "Python [Root]"
  },
  "language_info": {
   "codemirror_mode": {
    "name": "ipython",
    "version": 3
   },
   "file_extension": ".py",
   "mimetype": "text/x-python",
   "name": "python",
   "nbconvert_exporter": "python",
   "pygments_lexer": "ipython3",
   "version": "3.5.2"
  }
 },
 "nbformat": 4,
 "nbformat_minor": 0
}

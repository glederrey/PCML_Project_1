{
 "cells": [
  {
   "cell_type": "code",
   "execution_count": 2,
   "metadata": {
    "collapsed": false
   },
   "outputs": [],
   "source": [
    "# Useful starting lines\n",
    "%matplotlib inline\n",
    "import numpy as np\n",
    "import matplotlib.pyplot as plt\n",
    "%load_ext autoreload\n",
    "%autoreload 2\n",
    "from IPython import display\n",
    "# Import everything in the functions folder\n",
    "from functions.costs import *\n",
    "from functions.helpers import *\n",
    "from functions.split import *\n",
    "from functions.ridge_regression import *\n",
    "from functions.helpers import *\n",
    "from functions.least_squares_GD import *\n",
    "from functions.clean_data import *\n",
    "import pickle\n",
    "from os.path import basename, splitext"
   ]
  },
  {
   "cell_type": "code",
   "execution_count": 3,
   "metadata": {
    "collapsed": true
   },
   "outputs": [],
   "source": [
    "DATA_FOLDER = 'data'\n",
    "\n",
    "TRAINING_DATA = ['train_jet_0_wout_mass.csv' , 'train_jet_0_with_mass.csv',\n",
    "                 'train_jet_1_wout_mass.csv' , 'train_jet_1_with_mass.csv',\n",
    "                 'train_jet_2_wout_mass.csv' , 'train_jet_2_with_mass.csv',\n",
    "                 'train_jet_3_wout_mass.csv' , 'train_jet_3_with_mass.csv']\n",
    "\n",
    "TEST_DATA = ['test_jet_0_wout_mass.csv' , 'test_jet_0_with_mass.csv',\n",
    "             'test_jet_1_wout_mass.csv' , 'test_jet_1_with_mass.csv',\n",
    "             'test_jet_2_wout_mass.csv' , 'test_jet_2_with_mass.csv',\n",
    "             'test_jet_3_wout_mass.csv' , 'test_jet_3_with_mass.csv']"
   ]
  },
  {
   "cell_type": "code",
   "execution_count": 9,
   "metadata": {
    "collapsed": false
   },
   "outputs": [
    {
     "name": "stdout",
     "output_type": "stream",
     "text": [
      "PCA for file train_jet_0_wout_mass\n",
      "Everything ok!\n",
      "Reduced from 17 features to 9 features.\n",
      "------------------------\n",
      "PCA for file train_jet_0_with_mass\n",
      "Everything ok!\n",
      "Reduced from 18 features to 10 features.\n",
      "------------------------\n",
      "PCA for file train_jet_1_wout_mass\n",
      "Everything ok!\n",
      "Reduced from 21 features to 13 features.\n",
      "------------------------\n",
      "PCA for file train_jet_1_with_mass\n",
      "Everything ok!\n",
      "Reduced from 22 features to 12 features.\n",
      "------------------------\n",
      "PCA for file train_jet_2_wout_mass\n",
      "Everything ok!\n",
      "Reduced from 28 features to 17 features.\n",
      "------------------------\n",
      "PCA for file train_jet_2_with_mass\n",
      "Everything ok!\n",
      "Reduced from 29 features to 16 features.\n",
      "------------------------\n",
      "PCA for file train_jet_3_wout_mass\n",
      "Everything ok!\n",
      "Reduced from 28 features to 17 features.\n",
      "------------------------\n",
      "PCA for file train_jet_3_with_mass\n",
      "Everything ok!\n",
      "Reduced from 29 features to 16 features.\n",
      "------------------------\n",
      "PCA finished\n"
     ]
    }
   ],
   "source": [
    "for i in range(len(TRAINING_DATA)):\n",
    "    base_name_train = splitext(basename(TRAINING_DATA[i]))[0]\n",
    "    base_name_test = splitext(basename(TEST_DATA[i]))[0]\n",
    "    print(\"PCA for file %s\"%base_name_train)\n",
    "    # Load the training data\n",
    "    y_train, x_train, ids_train = load_csv_data('data/' + TRAINING_DATA[i])\n",
    "    # Standardize the matrix\n",
    "    x = std(x_train)\n",
    "    #x = x_train\n",
    "    # Mean vector\n",
    "    mean_vec = np.mean(x)\n",
    "    # Cov matrix\n",
    "    cov_mat = np.cov(x.T)\n",
    "    # Eigen vectors and eigen values\n",
    "    eig_vals, eig_vecs = np.linalg.eig(cov_mat)\n",
    "    for ev in eig_vecs:\n",
    "        np.testing.assert_array_almost_equal(1.0, np.linalg.norm(ev), decimal=3)\n",
    "    print('Everything ok!')    \n",
    "    # Make a list of (eigenvalue, eigenvector) tuples\n",
    "    eig_pairs = [(np.abs(eig_vals[i]), eig_vecs[:,i]) for i in range(len(eig_vals))]\n",
    "\n",
    "    # Sort the (eigenvalue, eigenvector) tuples from high to low\n",
    "    eig_pairs.sort(key=lambda x: x[0], reverse=True)\n",
    "    # Get cumulative variance\n",
    "    tot = sum(eig_vals)\n",
    "    var_exp = [(i / tot)*100 for i in sorted(eig_vals, reverse=True)]\n",
    "    cum_var_exp = np.cumsum(var_exp)\n",
    "    # Projection Matrix\n",
    "    array = []\n",
    "    threshold = 90\n",
    "    \n",
    "    for j in range(len(eig_vals)):\n",
    "        #if eig_vals[i] < 1:\n",
    "        #    break\n",
    "        array.append(eig_pairs[j][1].reshape(len(eig_vals),1))\n",
    "\n",
    "        if cum_var_exp[j] > threshold:\n",
    "            break\n",
    "    matrix_w = np.hstack(array) \n",
    "    print(\"Reduced from %i features to %i features.\"%(len(matrix_w), len(matrix_w[0])))\n",
    "    # Recreate the headers\n",
    "    headers = ['Id', 'Prediction']\n",
    "    for k in range(len(matrix_w[0])):\n",
    "        headers.append('Var %i'%k)\n",
    "    # Projected variables for training\n",
    "    proj_train = std(x_train).dot(matrix_w)        \n",
    "    # Write the new train file\n",
    "    write_data('data/' + base_name_train + '_pca.csv', y_train, proj_train, \n",
    "               ids_train, headers, 'train')\n",
    "    # Load the test data\n",
    "    _, x_test, ids_test = load_csv_data('data/' + TEST_DATA[i])    \n",
    "    # Projected variables for test   \n",
    "    proj_test = std(x_test).dot(matrix_w)\n",
    "    # Write the new test file\n",
    "    write_data('data/' + base_name_test + '_pca.csv', _, proj_test, \n",
    "               ids_test, headers, 'test')\n",
    "    print('------------------------')\n",
    "print('PCA finished')"
   ]
  },
  {
   "cell_type": "code",
   "execution_count": null,
   "metadata": {
    "collapsed": true
   },
   "outputs": [],
   "source": []
  },
  {
   "cell_type": "code",
   "execution_count": null,
   "metadata": {
    "collapsed": true
   },
   "outputs": [],
   "source": []
  }
 ],
 "metadata": {
  "anaconda-cloud": {},
  "kernelspec": {
   "display_name": "Python [conda root]",
   "language": "python",
   "name": "conda-root-py"
  },
  "language_info": {
   "codemirror_mode": {
    "name": "ipython",
    "version": 3
   },
   "file_extension": ".py",
   "mimetype": "text/x-python",
   "name": "python",
   "nbconvert_exporter": "python",
   "pygments_lexer": "ipython3",
   "version": "3.5.2"
  }
 },
 "nbformat": 4,
 "nbformat_minor": 1
}

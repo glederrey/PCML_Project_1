{
 "cells": [
  {
   "cell_type": "code",
   "execution_count": 1,
   "metadata": {
    "collapsed": true
   },
   "outputs": [],
   "source": [
    "# Useful starting lines\n",
    "%matplotlib inline\n",
    "import numpy as np\n",
    "import matplotlib.pyplot as plt\n",
    "%load_ext autoreload\n",
    "%autoreload 2\n",
    "from IPython import display\n",
    "# Import everything in the functions folder\n",
    "from functions.costs import *\n",
    "from functions.helpers import *\n",
    "from functions.split import *\n",
    "from functions.ridge_regression import *\n",
    "from functions.helpers import *\n",
    "from functions.least_squares_GD import *\n",
    "import pickle"
   ]
  },
  {
   "cell_type": "code",
   "execution_count": 10,
   "metadata": {
    "collapsed": true
   },
   "outputs": [],
   "source": [
    "TRAINING_DATA = ['train_jet_0_wout_mass.csv' , 'train_jet_0_with_mass.csv',\n",
    "                 'train_jet_1_wout_mass.csv' , 'train_jet_1_with_mass.csv',\n",
    "                 'train_jet_2_wout_mass.csv' , 'train_jet_2_with_mass.csv',\n",
    "                 'train_jet_3_wout_mass.csv' , 'train_jet_3_with_mass.csv']\n",
    "\n",
    "TEST_DATA = ['test_jet_0_wout_mass.csv' , 'test_jet_0_with_mass.csv',\n",
    "             'test_jet_1_wout_mass.csv' , 'test_jet_1_with_mass.csv',\n",
    "             'test_jet_2_wout_mass.csv' , 'test_jet_2_with_mass.csv',\n",
    "             'test_jet_3_wout_mass.csv' , 'test_jet_3_with_mass.csv']\n"
   ]
  },
  {
   "cell_type": "code",
   "execution_count": 24,
   "metadata": {
    "collapsed": false
   },
   "outputs": [
    {
     "name": "stdout",
     "output_type": "stream",
     "text": [
      "File: train_jet_0_wout_mass.csv, length y: 26123, length X: 26123\n",
      "File: train_jet_0_with_mass.csv, length y: 73789, length X: 73789\n",
      "File: train_jet_1_wout_mass.csv, length y: 7562, length X: 7562\n",
      "File: train_jet_1_with_mass.csv, length y: 69982, length X: 69982\n",
      "File: train_jet_2_wout_mass.csv, length y: 2952, length X: 2952\n",
      "File: train_jet_2_with_mass.csv, length y: 47427, length X: 47427\n",
      "File: train_jet_3_wout_mass.csv, length y: 1477, length X: 1477\n",
      "File: train_jet_3_with_mass.csv, length y: 20687, length X: 20687\n",
      "Total = 249999\n"
     ]
    }
   ],
   "source": [
    "somme = 0\n",
    "for data in TRAINING_DATA:\n",
    "    # Recreate the file\n",
    "    data_file = 'data' + '/' + data\n",
    "    # Load the file\n",
    "    y_train, x_train, ids_train = load_csv_data(data_file)\n",
    "    print('File: %s, length y: %i, length X: %i'%(data,len(y_train), len(x_train)))\n",
    "    somme = somme + len(y_train)\n",
    "print(\"Total = %i\"%somme)"
   ]
  },
  {
   "cell_type": "code",
   "execution_count": 25,
   "metadata": {
    "collapsed": false
   },
   "outputs": [
    {
     "name": "stdout",
     "output_type": "stream",
     "text": [
      "250000\n"
     ]
    }
   ],
   "source": [
    "y, _, _ = load_csv_data('data/train.csv')\n",
    "print(len(y))"
   ]
  },
  {
   "cell_type": "code",
   "execution_count": 26,
   "metadata": {
    "collapsed": false
   },
   "outputs": [
    {
     "name": "stdout",
     "output_type": "stream",
     "text": [
      "File: test_jet_0_wout_mass.csv, length y: 59263, length X: 59263\n",
      "File: test_jet_0_with_mass.csv, length y: 168195, length X: 168195\n",
      "File: test_jet_1_wout_mass.csv, length y: 17243, length X: 17243\n",
      "File: test_jet_1_with_mass.csv, length y: 158095, length X: 158095\n",
      "File: test_jet_2_wout_mass.csv, length y: 6743, length X: 6743\n",
      "File: test_jet_2_with_mass.csv, length y: 107905, length X: 107905\n",
      "File: test_jet_3_wout_mass.csv, length y: 3239, length X: 3239\n",
      "File: test_jet_3_with_mass.csv, length y: 47555, length X: 47555\n",
      "Total = 568238\n"
     ]
    }
   ],
   "source": [
    "somme = 0\n",
    "for data in TEST_DATA:\n",
    "    # Recreate the file\n",
    "    data_file = 'data' + '/' + data\n",
    "    # Load the file\n",
    "    y_train, x_train, ids_train = load_csv_data(data_file)\n",
    "    print('File: %s, length y: %i, length X: %i'%(data,len(y_train), len(x_train)))    \n",
    "    somme = somme + len(y_train)\n",
    "print(\"Total = %i\"%somme)"
   ]
  },
  {
   "cell_type": "code",
   "execution_count": 27,
   "metadata": {
    "collapsed": false
   },
   "outputs": [
    {
     "name": "stdout",
     "output_type": "stream",
     "text": [
      "568238\n"
     ]
    }
   ],
   "source": [
    "y, _, _ = load_csv_data('data/test.csv')\n",
    "print(len(y))"
   ]
  }
 ],
 "metadata": {
  "anaconda-cloud": {},
  "kernelspec": {
   "display_name": "Python [conda root]",
   "language": "python",
   "name": "conda-root-py"
  },
  "language_info": {
   "codemirror_mode": {
    "name": "ipython",
    "version": 3
   },
   "file_extension": ".py",
   "mimetype": "text/x-python",
   "name": "python",
   "nbconvert_exporter": "python",
   "pygments_lexer": "ipython3",
   "version": "3.5.2"
  }
 },
 "nbformat": 4,
 "nbformat_minor": 1
}

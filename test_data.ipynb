{
 "cells": [
  {
   "cell_type": "code",
   "execution_count": 1,
   "metadata": {
    "collapsed": true
   },
   "outputs": [],
   "source": [
    "# Useful starting lines\n",
    "%matplotlib inline\n",
    "import numpy as np\n",
    "import matplotlib.pyplot as plt\n",
    "%load_ext autoreload\n",
    "%autoreload 2\n",
    "from IPython import display\n",
    "# Import everything in the functions folder\n",
    "from functions.costs import *\n",
    "from functions.proj1_helpers import *\n",
    "from functions.split import *\n",
    "from functions.ridge_regression import *\n",
    "from functions.helpers import *"
   ]
  },
  {
   "cell_type": "markdown",
   "metadata": {},
   "source": [
    "First, we load the data"
   ]
  },
  {
   "cell_type": "code",
   "execution_count": 13,
   "metadata": {
    "collapsed": true
   },
   "outputs": [],
   "source": [
    "DATA_TRAIN_PATH = 'data/train.csv' \n",
    "y, tX, ids = load_csv_data(DATA_TRAIN_PATH)\n"
   ]
  },
  {
   "cell_type": "code",
   "execution_count": 6,
   "metadata": {
    "collapsed": false
   },
   "outputs": [
    {
     "name": "stdout",
     "output_type": "stream",
     "text": [
      "[  38114.       0.       0.       0.  177457.  177457.  177457.       0.\n",
      "       0.       0.       0.       0.  177457.       0.       0.       0.\n",
      "       0.       0.       0.       0.       0.       0.       0.   99913.\n",
      "   99913.   99913.  177457.  177457.  177457.       0.]\n",
      "[ 0.152456  0.        0.        0.        0.709828  0.709828  0.709828  0.\n",
      "  0.        0.        0.        0.        0.709828  0.        0.        0.\n",
      "  0.        0.        0.        0.        0.        0.        0.        0.399652\n",
      "  0.399652  0.399652  0.709828  0.709828  0.709828  0.      ]\n"
     ]
    }
   ],
   "source": [
    "nan = np.zeros(len(tX[0]))\n",
    "\n",
    "for i in range(len(tX[0])):\n",
    "    for j in range(len(tX)):\n",
    "        if tX[j,i] == -999:\n",
    "            nan[i] = nan[i] + 1\n",
    "            \n",
    "print(nan)\n",
    "print(nan/len(tX))"
   ]
  },
  {
   "cell_type": "code",
   "execution_count": 8,
   "metadata": {
    "collapsed": true
   },
   "outputs": [],
   "source": [
    "DATA_TEST_PATH = 'data/test.csv' # TODO: download train data and supply path here \n",
    "_, tX_test, ids_test = load_csv_data(DATA_TEST_PATH)"
   ]
  },
  {
   "cell_type": "code",
   "execution_count": 9,
   "metadata": {
    "collapsed": false
   },
   "outputs": [
    {
     "name": "stdout",
     "output_type": "stream",
     "text": [
      "[  86488.       0.       0.       0.  402796.  402796.  402796.       0.\n",
      "       0.       0.       0.       0.  402796.       0.       0.       0.\n",
      "       0.       0.       0.       0.       0.       0.       0.  227458.\n",
      "  227458.  227458.  402796.  402796.  402796.       0.]\n",
      "[ 0.15220383  0.          0.          0.          0.70885087  0.70885087\n",
      "  0.70885087  0.          0.          0.          0.          0.\n",
      "  0.70885087  0.          0.          0.          0.          0.          0.\n",
      "  0.          0.          0.          0.          0.4002865   0.4002865\n",
      "  0.4002865   0.70885087  0.70885087  0.70885087  0.        ]\n"
     ]
    }
   ],
   "source": [
    "nan_test = np.zeros(len(tX_test[0]))\n",
    "\n",
    "for i in range(len(tX_test[0])):\n",
    "    for j in range(len(tX_test)):\n",
    "        if tX_test[j,i] == -999:\n",
    "            nan_test[i] = nan_test[i] + 1\n",
    "            \n",
    "print(nan_test)\n",
    "print(nan_test/len(tX))"
   ]
  },
  {
   "cell_type": "code",
   "execution_count": 14,
   "metadata": {
    "collapsed": false
   },
   "outputs": [
    {
     "name": "stdout",
     "output_type": "stream",
     "text": [
      "0.152456; 0.152204\n",
      "0.000000; 0.000000\n",
      "0.000000; 0.000000\n",
      "0.000000; 0.000000\n",
      "0.709828; 0.708851\n",
      "0.709828; 0.708851\n",
      "0.709828; 0.708851\n",
      "0.000000; 0.000000\n",
      "0.000000; 0.000000\n",
      "0.000000; 0.000000\n",
      "0.000000; 0.000000\n",
      "0.000000; 0.000000\n",
      "0.709828; 0.708851\n",
      "0.000000; 0.000000\n",
      "0.000000; 0.000000\n",
      "0.000000; 0.000000\n",
      "0.000000; 0.000000\n",
      "0.000000; 0.000000\n",
      "0.000000; 0.000000\n",
      "0.000000; 0.000000\n",
      "0.000000; 0.000000\n",
      "0.000000; 0.000000\n",
      "0.000000; 0.000000\n",
      "0.399652; 0.400286\n",
      "0.399652; 0.400286\n",
      "0.399652; 0.400286\n",
      "0.709828; 0.708851\n",
      "0.709828; 0.708851\n",
      "0.709828; 0.708851\n",
      "0.000000; 0.000000\n"
     ]
    }
   ],
   "source": [
    "for i in range(len(nan)):\n",
    "    print(\"%f; %f\"%((nan[i]/len(tX), nan_test[i]/len(tX_test))))"
   ]
  },
  {
   "cell_type": "code",
   "execution_count": null,
   "metadata": {
    "collapsed": true
   },
   "outputs": [],
   "source": []
  }
 ],
 "metadata": {
  "kernelspec": {
   "display_name": "Python [Root]",
   "language": "python",
   "name": "Python [Root]"
  },
  "language_info": {
   "codemirror_mode": {
    "name": "ipython",
    "version": 3
   },
   "file_extension": ".py",
   "mimetype": "text/x-python",
   "name": "python",
   "nbconvert_exporter": "python",
   "pygments_lexer": "ipython3",
   "version": "3.5.2"
  }
 },
 "nbformat": 4,
 "nbformat_minor": 0
}
